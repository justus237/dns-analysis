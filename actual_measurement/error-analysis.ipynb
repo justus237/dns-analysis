{
 "cells": [
  {
   "cell_type": "code",
   "execution_count": 2,
   "id": "3914b84f",
   "metadata": {},
   "outputs": [],
   "source": [
    "import pandas as pd\n",
    "import sqlite3\n",
    "import datetime\n",
    "import numpy as np\n",
    "import matplotlib as mpl\n",
    "import seaborn as sns\n",
    "import matplotlib.pyplot as plt\n",
    "import matplotlib.ticker as ticker\n",
    "from matplotlib.ticker import PercentFormatter\n",
    "import math\n",
    "\n",
    "from urllib.parse import urlparse, parse_qs\n",
    "mpl.rcParams['figure.dpi'] = 200\n",
    "okabe_ito = [\"#000000\", \"#E69F00\", \"#56B4E9\", \"#009E73\", \"#F0E442\", \"#0072B2\", \"#D55E00\", \"#CC79A7\"]\n",
    "sns.set_context('paper')\n",
    "sns.set_palette(sns.color_palette(okabe_ito))\n",
    "#https://stackoverflow.com/a/45846841\n",
    "def human_format(num):\n",
    "    num = float('{:.3g}'.format(num))\n",
    "    magnitude = 0\n",
    "    while abs(num) >= 1000:\n",
    "        magnitude += 1\n",
    "        num /= 1000.0\n",
    "    return '{}{}'.format('{:f}'.format(num).rstrip('0').rstrip('.'), ['', 'K', 'M', 'B', 'T'][magnitude])\n",
    "def make_cdf(series):\n",
    "    return series.value_counts(normalize=True).sort_index().cumsum()\n",
    "def make_pdf(series):\n",
    "    return series.value_counts(normalize=True).sort_index()\n",
    "from mpl_toolkits.axes_grid1 import make_axes_locatable\n",
    "from datetime import datetime\n",
    "mpl.rcParams['figure.dpi'] = 100\n",
    "import pickle"
   ]
  },
  {
   "cell_type": "code",
   "execution_count": 26,
   "id": "af887e4c",
   "metadata": {},
   "outputs": [],
   "source": [
    "conn = sqlite3.connect('web-performance-youtube-merged.db')\n",
    "measurements = pd.read_sql_query(\"SELECT * FROM measurements\", conn)\n",
    "failed_lookups = pd.read_sql_query('SELECT * FROM lookups WHERE status <> \"NOERROR\"', conn)\n",
    "conn.close()"
   ]
  },
  {
   "cell_type": "code",
   "execution_count": 27,
   "id": "1b4c1d67",
   "metadata": {},
   "outputs": [],
   "source": [
    "measurements['timestamp'] = pd.to_datetime(measurements['timestamp'])\n",
    "measurements['date'] = measurements['timestamp'].dt.date"
   ]
  },
  {
   "cell_type": "code",
   "execution_count": 28,
   "id": "34e5c144",
   "metadata": {},
   "outputs": [],
   "source": [
    "def count_cache_warming(agg):\n",
    "    #print(agg)\n",
    "    found_cw = False\n",
    "    found_msm = False\n",
    "    for item in agg:\n",
    "        if item == 0:\n",
    "            found_msm = True\n",
    "        if item == 1:\n",
    "            found_cw = True\n",
    "    if found_cw and found_msm:\n",
    "        return 'cw+msm'\n",
    "    elif found_cw and not found_msm:\n",
    "        return 'cw'\n",
    "    elif not found_cw and not found_msm:\n",
    "        return 'nothing'\n",
    "    elif not found_cw and found_msm:\n",
    "        return 'something went completely wrong'\n",
    "sanity_check = measurements.groupby(['vantagePoint', 'domain', 'server', 'protocol', 'date'], as_index=False).agg(num_msm_id=('msm_id', pd.Series.nunique), sanity_check=('cacheWarming', lambda x: count_cache_warming(x)))"
   ]
  },
  {
   "cell_type": "code",
   "execution_count": 29,
   "id": "051c7553",
   "metadata": {},
   "outputs": [
    {
     "data": {
      "text/plain": [
       "none                237470\n",
       "cw: player load      15316\n",
       "msm: playback          861\n",
       "cw: driver.get          84\n",
       "msm: player load        59\n",
       "msm: driver.get         24\n",
       "Name: error_, dtype: int64"
      ]
     },
     "execution_count": 29,
     "metadata": {},
     "output_type": "execute_result"
    }
   ],
   "source": [
    "#measurements.error.str.startswith(\"failed driver.get() for cache warming ###\")\n",
    "#measurements.error.str.startswith(\"failed driver.get() ###\")\n",
    "#measurements.error.str.startswith(\"failed loading player for cache warming ###\")\n",
    "#measurements.error.str.startswith(\"failed loading player ###\")\n",
    "#measurements.error.str.startswith(\"failed switching selenium focus to youtube iframe or monitoring loop ###\")\n",
    "measurements['error_'] = \"none\"\n",
    "measurements['error_'] = np.where(measurements.error.str.startswith(\"failed driver.get() for cache warming ###\"), \"cw: driver.get\", measurements['error_'])\n",
    "measurements['error_'] = np.where(measurements.error.str.startswith(\"failed driver.get() ###\"), \"msm: driver.get\", measurements['error_'])\n",
    "measurements['error_'] = np.where(measurements.error.str.startswith(\"failed loading player for cache warming ###\"), \"cw: player load\", measurements['error_'])\n",
    "measurements['error_'] = np.where(measurements.error.str.startswith(\"failed loading player ###\"), \"msm: player load\", measurements['error_'])\n",
    "measurements['error_'] = np.where(measurements.error.str.startswith(\"failed switching selenium focus to youtube iframe or monitoring loop ###\"), \"msm: playback\", measurements['error_'])\n",
    "measurements['error_'].value_counts()"
   ]
  },
  {
   "cell_type": "code",
   "execution_count": 30,
   "id": "bd7b5c38",
   "metadata": {},
   "outputs": [],
   "source": [
    "servfail_during_msm = pickle.load( open( \"servfail_during_msm.pickle\", \"rb\" ) )\n",
    "no_start_play_event_during_msm = pickle.load( open( \"no_start_play_event_during_msm.pickle\", \"rb\" ) )\n",
    "no_quality_change_event_during_msm = pickle.load( open( \"no_quality_change_event_during_msm.pickle\", \"rb\" ) )\n",
    "googlevideo_changed_during_msm = pickle.load( open( \"googlevideo_changed_during_msm.pickle\", \"rb\" ) )\n"
   ]
  },
  {
   "cell_type": "code",
   "execution_count": 31,
   "id": "50d8b26d",
   "metadata": {},
   "outputs": [],
   "source": [
    "measurements['error_'] = np.where((measurements.cacheWarming == 0) & (measurements.error_ == 'none') & (measurements.msm_id.isin(servfail_during_msm)), \"msm: dns error\", measurements['error_'])\n",
    "measurements['error_'] = np.where((measurements.cacheWarming == 0) & (measurements.error_ == 'none') & (measurements.msm_id.isin(no_start_play_event_during_msm)), \"msm: no play event\", measurements['error_'])\n",
    "measurements['error_'] = np.where((measurements.cacheWarming == 0) & (measurements.error_ == 'none') & (measurements.msm_id.isin(no_quality_change_event_during_msm)), \"msm: no quality event\", measurements['error_'])\n",
    "measurements['error_'] = np.where((measurements.cacheWarming == 0) & (measurements.error_ == 'none') & (measurements.msm_id.isin(googlevideo_changed_during_msm)), \"msm: googlevideo changed during playback\", measurements['error_'])"
   ]
  },
  {
   "cell_type": "code",
   "execution_count": 32,
   "id": "82ec3145",
   "metadata": {},
   "outputs": [
    {
     "data": {
      "text/plain": [
       "none                                        235829\n",
       "cw: player load                              15316\n",
       "msm: playback                                  861\n",
       "msm: googlevideo changed during playback       826\n",
       "msm: dns error                                 525\n",
       "msm: no play event                             283\n",
       "cw: driver.get                                  84\n",
       "msm: player load                                59\n",
       "msm: driver.get                                 24\n",
       "msm: no quality event                            7\n",
       "Name: error_, dtype: int64"
      ]
     },
     "execution_count": 32,
     "metadata": {},
     "output_type": "execute_result"
    }
   ],
   "source": [
    "measurements['error_'].value_counts()"
   ]
  },
  {
   "cell_type": "code",
   "execution_count": 33,
   "id": "640a0151",
   "metadata": {},
   "outputs": [],
   "source": [
    "sanity_check_three = measurements.sort_values(['timestamp', 'cacheWarming']).groupby(['vantagePoint', 'domain', 'server', 'protocol', 'date'], as_index=False).agg(msm_ids=('msm_id', pd.Series.unique), errors=('error_', lambda x: ', '.join(list(x.values))))"
   ]
  },
  {
   "cell_type": "code",
   "execution_count": 34,
   "id": "5a084f2d",
   "metadata": {},
   "outputs": [],
   "source": [
    "sanity_check_three['errors'] = np.where(sanity_check_three.errors == 'none', 'none, msm: failed to even run', sanity_check_three['errors'])"
   ]
  },
  {
   "cell_type": "code",
   "execution_count": 35,
   "id": "58f607a8",
   "metadata": {},
   "outputs": [
    {
     "data": {
      "text/plain": [
       "cw+msm    119206\n",
       "cw         15402\n",
       "Name: sanity_check, dtype: int64"
      ]
     },
     "execution_count": 35,
     "metadata": {},
     "output_type": "execute_result"
    }
   ],
   "source": [
    "sanity_check.sanity_check.value_counts()"
   ]
  },
  {
   "cell_type": "code",
   "execution_count": 100,
   "id": "70391cee",
   "metadata": {},
   "outputs": [
    {
     "data": {
      "text/plain": [
       "134608"
      ]
     },
     "execution_count": 100,
     "metadata": {},
     "output_type": "execute_result"
    }
   ],
   "source": [
    "len(sanity_check_three)"
   ]
  },
  {
   "cell_type": "code",
   "execution_count": 36,
   "id": "66c63411",
   "metadata": {},
   "outputs": [
    {
     "data": {
      "text/plain": [
       "none, none                                        116621\n",
       "cw: player load                                    15316\n",
       "none, msm: playback                                  861\n",
       "none, msm: googlevideo changed during playback       826\n",
       "none, msm: dns error                                 525\n",
       "none, msm: no play event                             283\n",
       "cw: driver.get                                        84\n",
       "none, msm: player load                                59\n",
       "none, msm: driver.get                                 24\n",
       "none, msm: no quality event                            7\n",
       "none, msm: failed to even run                          2\n",
       "Name: errors, dtype: int64"
      ]
     },
     "execution_count": 36,
     "metadata": {},
     "output_type": "execute_result"
    }
   ],
   "source": [
    "sanity_check_three.errors.value_counts()"
   ]
  },
  {
   "cell_type": "code",
   "execution_count": 37,
   "id": "db8ad3ef",
   "metadata": {},
   "outputs": [
    {
     "data": {
      "text/plain": [
       "protocol\n",
       "https    26921\n",
       "quic     26922\n",
       "tcp      26922\n",
       "tls      26922\n",
       "udp      26921\n",
       "dtype: int64"
      ]
     },
     "execution_count": 37,
     "metadata": {},
     "output_type": "execute_result"
    }
   ],
   "source": [
    "sanity_check_three.groupby('protocol').size()"
   ]
  },
  {
   "cell_type": "code",
   "execution_count": 101,
   "id": "ec022b96",
   "metadata": {},
   "outputs": [
    {
     "data": {
      "text/plain": [
       "vantagePoint\n",
       "South America East        2288\n",
       "US West                   2391\n",
       "Asia Pacific Northeast    2452\n",
       "Europe Central            2477\n",
       "Asia Pacific Southeast    2510\n",
       "US East                   2557\n",
       "Africa South              3312\n",
       "dtype: int64"
      ]
     },
     "execution_count": 101,
     "metadata": {},
     "output_type": "execute_result"
    }
   ],
   "source": [
    "sanity_check_three[sanity_check_three.errors != 'none, none'].groupby('vantagePoint').size().sort_values()"
   ]
  },
  {
   "cell_type": "code",
   "execution_count": 38,
   "id": "551211d6",
   "metadata": {},
   "outputs": [
    {
     "data": {
      "text/plain": [
       "protocol\n",
       "https    3469\n",
       "quic     3413\n",
       "tcp      3631\n",
       "tls      3405\n",
       "udp      4069\n",
       "dtype: int64"
      ]
     },
     "execution_count": 38,
     "metadata": {},
     "output_type": "execute_result"
    }
   ],
   "source": [
    "sanity_check_three[sanity_check_three.errors != 'none, none'].groupby('protocol').size()"
   ]
  },
  {
   "cell_type": "code",
   "execution_count": 39,
   "id": "c21e01c7",
   "metadata": {},
   "outputs": [
    {
     "data": {
      "text/plain": [
       "none, none                                        116621\n",
       "none, msm: googlevideo changed during playback       826\n",
       "none, msm: dns error                                 525\n",
       "none, msm: no play event                             283\n",
       "none, msm: no quality event                            7\n",
       "none, msm: failed to even run                          2\n",
       "Name: errors, dtype: int64"
      ]
     },
     "execution_count": 39,
     "metadata": {},
     "output_type": "execute_result"
    }
   ],
   "source": [
    "sanity_check_three[sanity_check_three.errors.isin(['none, none', 'none, msm: googlevideo changed during playback', 'none, msm: dns error', 'none, msm: no play event', 'none, msm: no quality event', 'none, msm: failed to even run'])].errors.value_counts()"
   ]
  },
  {
   "cell_type": "code",
   "execution_count": 40,
   "id": "18ca62bf",
   "metadata": {},
   "outputs": [
    {
     "data": {
      "text/plain": [
       "protocol\n",
       "https    23770\n",
       "quic     23801\n",
       "tcp      23468\n",
       "tls      23843\n",
       "udp      23382\n",
       "dtype: int64"
      ]
     },
     "execution_count": 40,
     "metadata": {},
     "output_type": "execute_result"
    }
   ],
   "source": [
    "sanity_check_three[sanity_check_three.errors.isin(['none, none', 'none, msm: googlevideo changed during playback', 'none, msm: dns error', 'none, msm: no play event', 'none, msm: no quality event', 'none, msm: failed to even run'])].groupby('protocol').size()"
   ]
  },
  {
   "cell_type": "code",
   "execution_count": 41,
   "id": "d8a9ad79",
   "metadata": {},
   "outputs": [
    {
     "data": {
      "text/plain": [
       "protocol\n",
       "https    318\n",
       "quic     292\n",
       "tcp      177\n",
       "tls      326\n",
       "udp      530\n",
       "dtype: int64"
      ]
     },
     "execution_count": 41,
     "metadata": {},
     "output_type": "execute_result"
    }
   ],
   "source": [
    "sanity_check_three[sanity_check_three.errors.isin(['none, msm: googlevideo changed during playback', 'none, msm: dns error', 'none, msm: no play event', 'none, msm: no quality event', 'none, msm: failed to even run'])].groupby('protocol').size()"
   ]
  },
  {
   "cell_type": "code",
   "execution_count": 103,
   "id": "60a4abf8",
   "metadata": {},
   "outputs": [
    {
     "data": {
      "text/plain": [
       "vantagePoint\n",
       "South America East        16932\n",
       "US West                   16849\n",
       "Europe Central            16792\n",
       "Asia Pacific Southeast    16759\n",
       "Asia Pacific Northeast    16748\n",
       "US East                   16623\n",
       "Africa South              15918\n",
       "dtype: int64"
      ]
     },
     "execution_count": 103,
     "metadata": {},
     "output_type": "execute_result"
    }
   ],
   "source": [
    "sanity_check_three[sanity_check_three.errors == 'none, none'].groupby('vantagePoint').size().sort_values(ascending=False)"
   ]
  },
  {
   "cell_type": "code",
   "execution_count": 42,
   "id": "1ef628b2",
   "metadata": {},
   "outputs": [
    {
     "data": {
      "text/plain": [
       "protocol\n",
       "https    23452\n",
       "quic     23509\n",
       "tcp      23291\n",
       "tls      23517\n",
       "udp      22852\n",
       "dtype: int64"
      ]
     },
     "execution_count": 42,
     "metadata": {},
     "output_type": "execute_result"
    }
   ],
   "source": [
    "sanity_check_three[sanity_check_three.errors == 'none, none'].groupby('protocol').size()"
   ]
  },
  {
   "cell_type": "code",
   "execution_count": 48,
   "id": "c144cc52",
   "metadata": {
    "scrolled": true
   },
   "outputs": [
    {
     "data": {
      "text/plain": [
       "protocol  errors                                        \n",
       "https     none, none                                        23452\n",
       "          cw: player load                                    2963\n",
       "          none, msm: googlevideo changed during playback      191\n",
       "          none, msm: playback                                 176\n",
       "          none, msm: no play event                             76\n",
       "          none, msm: dns error                                 48\n",
       "          none, msm: player load                                7\n",
       "          none, msm: driver.get                                 3\n",
       "          cw: driver.get                                        2\n",
       "          none, msm: no quality event                           2\n",
       "          none, msm: failed to even run                         1\n",
       "quic      none, none                                        23509\n",
       "          cw: player load                                    2944\n",
       "          none, msm: googlevideo changed during playback      170\n",
       "          none, msm: playback                                 169\n",
       "          none, msm: no play event                             77\n",
       "          none, msm: dns error                                 43\n",
       "          cw: driver.get                                        3\n",
       "          none, msm: player load                                3\n",
       "          none, msm: driver.get                                 2\n",
       "          none, msm: no quality event                           2\n",
       "tcp       none, none                                        23291\n",
       "          cw: player load                                    3260\n",
       "          none, msm: playback                                 172\n",
       "          none, msm: googlevideo changed during playback      117\n",
       "          none, msm: dns error                                 55\n",
       "          cw: driver.get                                       12\n",
       "          none, msm: player load                                9\n",
       "          none, msm: no play event                              3\n",
       "          none, msm: no quality event                           2\n",
       "          none, msm: driver.get                                 1\n",
       "tls       none, none                                        23517\n",
       "          cw: player load                                    2841\n",
       "          none, msm: googlevideo changed during playback      208\n",
       "          none, msm: playback                                 180\n",
       "          none, msm: no play event                            108\n",
       "          cw: driver.get                                       29\n",
       "          none, msm: player load                               20\n",
       "          none, msm: dns error                                  9\n",
       "          none, msm: driver.get                                 9\n",
       "          none, msm: failed to even run                         1\n",
       "udp       none, none                                        22852\n",
       "          cw: player load                                    3308\n",
       "          none, msm: dns error                                370\n",
       "          none, msm: playback                                 164\n",
       "          none, msm: googlevideo changed during playback      140\n",
       "          cw: driver.get                                       38\n",
       "          none, msm: player load                               20\n",
       "          none, msm: no play event                             19\n",
       "          none, msm: driver.get                                 9\n",
       "          none, msm: no quality event                           1\n",
       "Name: errors, dtype: int64"
      ]
     },
     "execution_count": 48,
     "metadata": {},
     "output_type": "execute_result"
    }
   ],
   "source": [
    "sanity_check_three.groupby('protocol').errors.value_counts()"
   ]
  },
  {
   "cell_type": "code",
   "execution_count": 47,
   "id": "572a83f5",
   "metadata": {},
   "outputs": [
    {
     "data": {
      "text/plain": [
       "array(['cw: player load', 'none, none',\n",
       "       'none, msm: googlevideo changed during playback',\n",
       "       'none, msm: playback', 'none, msm: dns error',\n",
       "       'none, msm: player load', 'cw: driver.get',\n",
       "       'none, msm: no play event', 'none, msm: driver.get',\n",
       "       'none, msm: no quality event', 'none, msm: failed to even run'],\n",
       "      dtype=object)"
      ]
     },
     "execution_count": 47,
     "metadata": {},
     "output_type": "execute_result"
    }
   ],
   "source": [
    "sanity_check_three.errors.unique()"
   ]
  },
  {
   "cell_type": "code",
   "execution_count": 55,
   "id": "79b89501",
   "metadata": {},
   "outputs": [
    {
     "data": {
      "text/html": [
       "<div>\n",
       "<style scoped>\n",
       "    .dataframe tbody tr th:only-of-type {\n",
       "        vertical-align: middle;\n",
       "    }\n",
       "\n",
       "    .dataframe tbody tr th {\n",
       "        vertical-align: top;\n",
       "    }\n",
       "\n",
       "    .dataframe thead th {\n",
       "        text-align: right;\n",
       "    }\n",
       "</style>\n",
       "<table border=\"1\" class=\"dataframe\">\n",
       "  <thead>\n",
       "    <tr style=\"text-align: right;\">\n",
       "      <th></th>\n",
       "      <th>vantagePoint</th>\n",
       "      <th>domain</th>\n",
       "      <th>server</th>\n",
       "      <th>protocol</th>\n",
       "      <th>date</th>\n",
       "      <th>msm_ids</th>\n",
       "      <th>errors</th>\n",
       "    </tr>\n",
       "  </thead>\n",
       "  <tbody>\n",
       "    <tr>\n",
       "      <th>72415</th>\n",
       "      <td>Europe Central</td>\n",
       "      <td>lqiN98z6Dak</td>\n",
       "      <td>188.68.59.46</td>\n",
       "      <td>tls</td>\n",
       "      <td>2022-04-23</td>\n",
       "      <td>054af061-eada-2266-e54c-7cba3fa35c36</td>\n",
       "      <td>none, msm: failed to even run</td>\n",
       "    </tr>\n",
       "    <tr>\n",
       "      <th>124923</th>\n",
       "      <td>US West</td>\n",
       "      <td>aqz-KE-bpKQ</td>\n",
       "      <td>94.140.15.16</td>\n",
       "      <td>https</td>\n",
       "      <td>2022-04-23</td>\n",
       "      <td>fe6b59ad-78fa-0549-a0cf-516f3d59ef95</td>\n",
       "      <td>none, msm: failed to even run</td>\n",
       "    </tr>\n",
       "  </tbody>\n",
       "</table>\n",
       "</div>"
      ],
      "text/plain": [
       "          vantagePoint       domain        server protocol        date  \\\n",
       "72415   Europe Central  lqiN98z6Dak  188.68.59.46      tls  2022-04-23   \n",
       "124923         US West  aqz-KE-bpKQ  94.140.15.16    https  2022-04-23   \n",
       "\n",
       "                                     msm_ids                         errors  \n",
       "72415   054af061-eada-2266-e54c-7cba3fa35c36  none, msm: failed to even run  \n",
       "124923  fe6b59ad-78fa-0549-a0cf-516f3d59ef95  none, msm: failed to even run  "
      ]
     },
     "execution_count": 55,
     "metadata": {},
     "output_type": "execute_result"
    }
   ],
   "source": [
    "sanity_check_three[sanity_check_three.errors == 'none, msm: failed to even run']"
   ]
  },
  {
   "cell_type": "code",
   "execution_count": 56,
   "id": "308110d3",
   "metadata": {},
   "outputs": [
    {
     "data": {
      "text/html": [
       "<div>\n",
       "<style scoped>\n",
       "    .dataframe tbody tr th:only-of-type {\n",
       "        vertical-align: middle;\n",
       "    }\n",
       "\n",
       "    .dataframe tbody tr th {\n",
       "        vertical-align: top;\n",
       "    }\n",
       "\n",
       "    .dataframe thead th {\n",
       "        text-align: right;\n",
       "    }\n",
       "</style>\n",
       "<table border=\"1\" class=\"dataframe\">\n",
       "  <thead>\n",
       "    <tr style=\"text-align: right;\">\n",
       "      <th></th>\n",
       "      <th>vantagePoint</th>\n",
       "      <th>domain</th>\n",
       "      <th>server</th>\n",
       "      <th>protocol</th>\n",
       "      <th>date</th>\n",
       "      <th>sanity_check</th>\n",
       "      <th>cw_id</th>\n",
       "      <th>msm_id</th>\n",
       "    </tr>\n",
       "  </thead>\n",
       "  <tbody>\n",
       "    <tr>\n",
       "      <th>0</th>\n",
       "      <td>Africa South</td>\n",
       "      <td>aqz-KE-bpKQ</td>\n",
       "      <td>101.32.27.77</td>\n",
       "      <td>https</td>\n",
       "      <td>2022-04-18</td>\n",
       "      <td>cache warming error: cw: player load</td>\n",
       "      <td>8e6cb9f9-48f3-b924-bb34-305dd99ce2c1</td>\n",
       "      <td></td>\n",
       "    </tr>\n",
       "    <tr>\n",
       "      <th>1</th>\n",
       "      <td>Africa South</td>\n",
       "      <td>aqz-KE-bpKQ</td>\n",
       "      <td>101.32.27.77</td>\n",
       "      <td>https</td>\n",
       "      <td>2022-04-19</td>\n",
       "      <td>cache warming error: cw: player load</td>\n",
       "      <td>fbc7c693-7982-3fa8-1216-3cd2aefecffd</td>\n",
       "      <td></td>\n",
       "    </tr>\n",
       "    <tr>\n",
       "      <th>2</th>\n",
       "      <td>Africa South</td>\n",
       "      <td>aqz-KE-bpKQ</td>\n",
       "      <td>101.32.27.77</td>\n",
       "      <td>https</td>\n",
       "      <td>2022-04-20</td>\n",
       "      <td>cache warming error: cw: player load</td>\n",
       "      <td>8f4c0da3-2296-4ee9-6d0f-4df5fcc596bf</td>\n",
       "      <td></td>\n",
       "    </tr>\n",
       "    <tr>\n",
       "      <th>3</th>\n",
       "      <td>Africa South</td>\n",
       "      <td>aqz-KE-bpKQ</td>\n",
       "      <td>101.32.27.77</td>\n",
       "      <td>https</td>\n",
       "      <td>2022-04-21</td>\n",
       "      <td>cache warming error: cw: player load</td>\n",
       "      <td>3eec96b6-2bdc-b9b1-d6f5-75f9dde8d8e8</td>\n",
       "      <td></td>\n",
       "    </tr>\n",
       "    <tr>\n",
       "      <th>4</th>\n",
       "      <td>Africa South</td>\n",
       "      <td>aqz-KE-bpKQ</td>\n",
       "      <td>101.32.27.77</td>\n",
       "      <td>https</td>\n",
       "      <td>2022-04-22</td>\n",
       "      <td>cache warming error: cw: player load</td>\n",
       "      <td>9805c13a-d8fa-09c2-eb2d-037df3f8ffc4</td>\n",
       "      <td></td>\n",
       "    </tr>\n",
       "    <tr>\n",
       "      <th>...</th>\n",
       "      <td>...</td>\n",
       "      <td>...</td>\n",
       "      <td>...</td>\n",
       "      <td>...</td>\n",
       "      <td>...</td>\n",
       "      <td>...</td>\n",
       "      <td>...</td>\n",
       "      <td>...</td>\n",
       "    </tr>\n",
       "    <tr>\n",
       "      <th>134603</th>\n",
       "      <td>US West</td>\n",
       "      <td>lqiN98z6Dak</td>\n",
       "      <td>98.154.23.186</td>\n",
       "      <td>udp</td>\n",
       "      <td>2022-04-20</td>\n",
       "      <td>measurement error: none</td>\n",
       "      <td>ed446cae-d639-c866-534a-6e1f925b2f55</td>\n",
       "      <td>ad4bc260-91c8-2d64-1a7e-646eef762650</td>\n",
       "    </tr>\n",
       "    <tr>\n",
       "      <th>134604</th>\n",
       "      <td>US West</td>\n",
       "      <td>lqiN98z6Dak</td>\n",
       "      <td>98.154.23.186</td>\n",
       "      <td>udp</td>\n",
       "      <td>2022-04-21</td>\n",
       "      <td>measurement error: none</td>\n",
       "      <td>3f83bec9-3d7b-d194-4da1-4ec7f35ece6d</td>\n",
       "      <td>49660942-439c-a6ae-f871-905a908abd0e</td>\n",
       "    </tr>\n",
       "    <tr>\n",
       "      <th>134605</th>\n",
       "      <td>US West</td>\n",
       "      <td>lqiN98z6Dak</td>\n",
       "      <td>98.154.23.186</td>\n",
       "      <td>udp</td>\n",
       "      <td>2022-04-22</td>\n",
       "      <td>measurement error: none</td>\n",
       "      <td>574abb53-e752-6d96-13a8-9524f583fd83</td>\n",
       "      <td>8ce9a9d3-8872-47e6-914c-5e10b4e65b53</td>\n",
       "    </tr>\n",
       "    <tr>\n",
       "      <th>134606</th>\n",
       "      <td>US West</td>\n",
       "      <td>lqiN98z6Dak</td>\n",
       "      <td>98.154.23.186</td>\n",
       "      <td>udp</td>\n",
       "      <td>2022-04-23</td>\n",
       "      <td>measurement error: none</td>\n",
       "      <td>72baa7a5-2a39-0f78-8370-afad8365b0f2</td>\n",
       "      <td>ce9bd00e-7a9e-2355-1968-fa8c177f36b3</td>\n",
       "    </tr>\n",
       "    <tr>\n",
       "      <th>134607</th>\n",
       "      <td>US West</td>\n",
       "      <td>lqiN98z6Dak</td>\n",
       "      <td>98.154.23.186</td>\n",
       "      <td>udp</td>\n",
       "      <td>2022-04-24</td>\n",
       "      <td>measurement error: none</td>\n",
       "      <td>d1ad70f0-47aa-733a-24c8-dd5315559b1b</td>\n",
       "      <td>cd36a33d-650b-e7b0-1e40-36bb3cece445</td>\n",
       "    </tr>\n",
       "  </tbody>\n",
       "</table>\n",
       "<p>134608 rows × 8 columns</p>\n",
       "</div>"
      ],
      "text/plain": [
       "        vantagePoint       domain         server protocol        date  \\\n",
       "0       Africa South  aqz-KE-bpKQ   101.32.27.77    https  2022-04-18   \n",
       "1       Africa South  aqz-KE-bpKQ   101.32.27.77    https  2022-04-19   \n",
       "2       Africa South  aqz-KE-bpKQ   101.32.27.77    https  2022-04-20   \n",
       "3       Africa South  aqz-KE-bpKQ   101.32.27.77    https  2022-04-21   \n",
       "4       Africa South  aqz-KE-bpKQ   101.32.27.77    https  2022-04-22   \n",
       "...              ...          ...            ...      ...         ...   \n",
       "134603       US West  lqiN98z6Dak  98.154.23.186      udp  2022-04-20   \n",
       "134604       US West  lqiN98z6Dak  98.154.23.186      udp  2022-04-21   \n",
       "134605       US West  lqiN98z6Dak  98.154.23.186      udp  2022-04-22   \n",
       "134606       US West  lqiN98z6Dak  98.154.23.186      udp  2022-04-23   \n",
       "134607       US West  lqiN98z6Dak  98.154.23.186      udp  2022-04-24   \n",
       "\n",
       "                                sanity_check  \\\n",
       "0       cache warming error: cw: player load   \n",
       "1       cache warming error: cw: player load   \n",
       "2       cache warming error: cw: player load   \n",
       "3       cache warming error: cw: player load   \n",
       "4       cache warming error: cw: player load   \n",
       "...                                      ...   \n",
       "134603               measurement error: none   \n",
       "134604               measurement error: none   \n",
       "134605               measurement error: none   \n",
       "134606               measurement error: none   \n",
       "134607               measurement error: none   \n",
       "\n",
       "                                       cw_id  \\\n",
       "0       8e6cb9f9-48f3-b924-bb34-305dd99ce2c1   \n",
       "1       fbc7c693-7982-3fa8-1216-3cd2aefecffd   \n",
       "2       8f4c0da3-2296-4ee9-6d0f-4df5fcc596bf   \n",
       "3       3eec96b6-2bdc-b9b1-d6f5-75f9dde8d8e8   \n",
       "4       9805c13a-d8fa-09c2-eb2d-037df3f8ffc4   \n",
       "...                                      ...   \n",
       "134603  ed446cae-d639-c866-534a-6e1f925b2f55   \n",
       "134604  3f83bec9-3d7b-d194-4da1-4ec7f35ece6d   \n",
       "134605  574abb53-e752-6d96-13a8-9524f583fd83   \n",
       "134606  72baa7a5-2a39-0f78-8370-afad8365b0f2   \n",
       "134607  d1ad70f0-47aa-733a-24c8-dd5315559b1b   \n",
       "\n",
       "                                      msm_id  \n",
       "0                                             \n",
       "1                                             \n",
       "2                                             \n",
       "3                                             \n",
       "4                                             \n",
       "...                                      ...  \n",
       "134603  ad4bc260-91c8-2d64-1a7e-646eef762650  \n",
       "134604  49660942-439c-a6ae-f871-905a908abd0e  \n",
       "134605  8ce9a9d3-8872-47e6-914c-5e10b4e65b53  \n",
       "134606  ce9bd00e-7a9e-2355-1968-fa8c177f36b3  \n",
       "134607  cd36a33d-650b-e7b0-1e40-36bb3cece445  \n",
       "\n",
       "[134608 rows x 8 columns]"
      ]
     },
     "execution_count": 56,
     "metadata": {},
     "output_type": "execute_result"
    }
   ],
   "source": [
    "def cw_msm_errors(grouped):\n",
    "    #print(grouped)\n",
    "    ret = {}\n",
    "    ret['sanity_check'] = \"\"\n",
    "    ret['cw_id'] = \"\"\n",
    "    ret['msm_id'] = \"\"\n",
    "    \n",
    "    cw_error = False\n",
    "    for cache_warming in [1,0]:\n",
    "        if cache_warming == 1:\n",
    "            ret['cw_id'] = grouped[grouped.cacheWarming == cache_warming].msm_id.values[0]\n",
    "            if grouped[grouped.cacheWarming == cache_warming].error_.values[0] != 'none':\n",
    "                cw_error=True\n",
    "        else:\n",
    "            if cw_error:\n",
    "                if len(grouped[grouped.cacheWarming == cache_warming]) > 0:\n",
    "                    ret['msm_id'] = grouped[grouped.cacheWarming == cache_warming].msm_id.values[0]\n",
    "                    ret['sanity_check'] = \"cache warming error but also ran measurement: \"+grouped[grouped.cacheWarming == 1].error_.values[0] + \" -- \"+grouped[grouped.cacheWarming == 0].error_.values[0]\n",
    "                else:\n",
    "                    ret['sanity_check'] = \"cache warming error: \"+grouped[grouped.cacheWarming == 1].error_.values[0]\n",
    "            else:\n",
    "                if len(grouped[grouped.cacheWarming == cache_warming]) == 0:\n",
    "                    ret['sanity_check'] = \"cache warming successful but no measurement\"\n",
    "                else:\n",
    "                    ret['msm_id'] = grouped[grouped.cacheWarming == cache_warming].msm_id.values[0]\n",
    "                    ret['sanity_check'] = \"measurement error: \"+grouped[grouped.cacheWarming == cache_warming].error_.values[0]\n",
    "                \n",
    "    return pd.Series(ret, index=['sanity_check', 'cw_id', 'msm_id'])\n",
    "sanity_check_two = measurements.groupby(['vantagePoint', 'domain', 'server', 'protocol', 'date'], as_index=False).apply(cw_msm_errors)\n",
    "sanity_check_two"
   ]
  },
  {
   "cell_type": "code",
   "execution_count": 57,
   "id": "a9cabfb1",
   "metadata": {},
   "outputs": [
    {
     "data": {
      "text/plain": [
       "1    119208\n",
       "0    116621\n",
       "Name: cacheWarming, dtype: int64"
      ]
     },
     "execution_count": 57,
     "metadata": {},
     "output_type": "execute_result"
    }
   ],
   "source": [
    "measurements[measurements.error_ == 'none'].cacheWarming.value_counts()"
   ]
  },
  {
   "cell_type": "code",
   "execution_count": 58,
   "id": "529fd96f",
   "metadata": {},
   "outputs": [
    {
     "data": {
      "text/html": [
       "<div>\n",
       "<style scoped>\n",
       "    .dataframe tbody tr th:only-of-type {\n",
       "        vertical-align: middle;\n",
       "    }\n",
       "\n",
       "    .dataframe tbody tr th {\n",
       "        vertical-align: top;\n",
       "    }\n",
       "\n",
       "    .dataframe thead th {\n",
       "        text-align: right;\n",
       "    }\n",
       "</style>\n",
       "<table border=\"1\" class=\"dataframe\">\n",
       "  <thead>\n",
       "    <tr style=\"text-align: right;\">\n",
       "      <th></th>\n",
       "      <th>protocol</th>\n",
       "      <th>successful_msms</th>\n",
       "    </tr>\n",
       "  </thead>\n",
       "  <tbody>\n",
       "    <tr>\n",
       "      <th>0</th>\n",
       "      <td>https</td>\n",
       "      <td>26921</td>\n",
       "    </tr>\n",
       "    <tr>\n",
       "      <th>1</th>\n",
       "      <td>quic</td>\n",
       "      <td>26922</td>\n",
       "    </tr>\n",
       "    <tr>\n",
       "      <th>2</th>\n",
       "      <td>tcp</td>\n",
       "      <td>26922</td>\n",
       "    </tr>\n",
       "    <tr>\n",
       "      <th>3</th>\n",
       "      <td>tls</td>\n",
       "      <td>26922</td>\n",
       "    </tr>\n",
       "    <tr>\n",
       "      <th>4</th>\n",
       "      <td>udp</td>\n",
       "      <td>26921</td>\n",
       "    </tr>\n",
       "  </tbody>\n",
       "</table>\n",
       "</div>"
      ],
      "text/plain": [
       "  protocol  successful_msms\n",
       "0    https            26921\n",
       "1     quic            26922\n",
       "2      tcp            26922\n",
       "3      tls            26922\n",
       "4      udp            26921"
      ]
     },
     "execution_count": 58,
     "metadata": {},
     "output_type": "execute_result"
    }
   ],
   "source": [
    "measurements[measurements.cacheWarming == 1].groupby('protocol', as_index=False).agg(successful_msms=('msm_id', pd.Series.nunique)).sort_values('protocol')"
   ]
  },
  {
   "cell_type": "code",
   "execution_count": 59,
   "id": "6676fcc2",
   "metadata": {},
   "outputs": [
    {
     "data": {
      "text/html": [
       "<div>\n",
       "<style scoped>\n",
       "    .dataframe tbody tr th:only-of-type {\n",
       "        vertical-align: middle;\n",
       "    }\n",
       "\n",
       "    .dataframe tbody tr th {\n",
       "        vertical-align: top;\n",
       "    }\n",
       "\n",
       "    .dataframe thead th {\n",
       "        text-align: right;\n",
       "    }\n",
       "</style>\n",
       "<table border=\"1\" class=\"dataframe\">\n",
       "  <thead>\n",
       "    <tr style=\"text-align: right;\">\n",
       "      <th></th>\n",
       "      <th>protocol</th>\n",
       "      <th>successful_msms</th>\n",
       "    </tr>\n",
       "  </thead>\n",
       "  <tbody>\n",
       "    <tr>\n",
       "      <th>0</th>\n",
       "      <td>https</td>\n",
       "      <td>3468</td>\n",
       "    </tr>\n",
       "    <tr>\n",
       "      <th>1</th>\n",
       "      <td>quic</td>\n",
       "      <td>3413</td>\n",
       "    </tr>\n",
       "    <tr>\n",
       "      <th>2</th>\n",
       "      <td>tcp</td>\n",
       "      <td>3631</td>\n",
       "    </tr>\n",
       "    <tr>\n",
       "      <th>3</th>\n",
       "      <td>tls</td>\n",
       "      <td>3404</td>\n",
       "    </tr>\n",
       "    <tr>\n",
       "      <th>4</th>\n",
       "      <td>udp</td>\n",
       "      <td>4069</td>\n",
       "    </tr>\n",
       "  </tbody>\n",
       "</table>\n",
       "</div>"
      ],
      "text/plain": [
       "  protocol  successful_msms\n",
       "0    https             3468\n",
       "1     quic             3413\n",
       "2      tcp             3631\n",
       "3      tls             3404\n",
       "4      udp             4069"
      ]
     },
     "execution_count": 59,
     "metadata": {},
     "output_type": "execute_result"
    }
   ],
   "source": [
    "measurements[(measurements.error_ != 'none')].groupby('protocol', as_index=False).agg(successful_msms=('msm_id', pd.Series.nunique)).sort_values('protocol')"
   ]
  },
  {
   "cell_type": "code",
   "execution_count": 60,
   "id": "f504028f",
   "metadata": {},
   "outputs": [
    {
     "data": {
      "text/html": [
       "<div>\n",
       "<style scoped>\n",
       "    .dataframe tbody tr th:only-of-type {\n",
       "        vertical-align: middle;\n",
       "    }\n",
       "\n",
       "    .dataframe tbody tr th {\n",
       "        vertical-align: top;\n",
       "    }\n",
       "\n",
       "    .dataframe thead th {\n",
       "        text-align: right;\n",
       "    }\n",
       "</style>\n",
       "<table border=\"1\" class=\"dataframe\">\n",
       "  <thead>\n",
       "    <tr style=\"text-align: right;\">\n",
       "      <th></th>\n",
       "      <th>protocol</th>\n",
       "      <th>successful_msms</th>\n",
       "    </tr>\n",
       "  </thead>\n",
       "  <tbody>\n",
       "    <tr>\n",
       "      <th>0</th>\n",
       "      <td>https</td>\n",
       "      <td>23955</td>\n",
       "    </tr>\n",
       "    <tr>\n",
       "      <th>1</th>\n",
       "      <td>quic</td>\n",
       "      <td>23975</td>\n",
       "    </tr>\n",
       "    <tr>\n",
       "      <th>2</th>\n",
       "      <td>tcp</td>\n",
       "      <td>23650</td>\n",
       "    </tr>\n",
       "    <tr>\n",
       "      <th>3</th>\n",
       "      <td>tls</td>\n",
       "      <td>24051</td>\n",
       "    </tr>\n",
       "    <tr>\n",
       "      <th>4</th>\n",
       "      <td>udp</td>\n",
       "      <td>23575</td>\n",
       "    </tr>\n",
       "  </tbody>\n",
       "</table>\n",
       "</div>"
      ],
      "text/plain": [
       "  protocol  successful_msms\n",
       "0    https            23955\n",
       "1     quic            23975\n",
       "2      tcp            23650\n",
       "3      tls            24051\n",
       "4      udp            23575"
      ]
     },
     "execution_count": 60,
     "metadata": {},
     "output_type": "execute_result"
    }
   ],
   "source": [
    "measurements[(measurements.cacheWarming == 0)].groupby('protocol', as_index=False).agg(successful_msms=('msm_id', pd.Series.nunique)).sort_values('protocol')"
   ]
  },
  {
   "cell_type": "code",
   "execution_count": 61,
   "id": "5fcdc82c",
   "metadata": {},
   "outputs": [
    {
     "data": {
      "text/html": [
       "<div>\n",
       "<style scoped>\n",
       "    .dataframe tbody tr th:only-of-type {\n",
       "        vertical-align: middle;\n",
       "    }\n",
       "\n",
       "    .dataframe tbody tr th {\n",
       "        vertical-align: top;\n",
       "    }\n",
       "\n",
       "    .dataframe thead th {\n",
       "        text-align: right;\n",
       "    }\n",
       "</style>\n",
       "<table border=\"1\" class=\"dataframe\">\n",
       "  <thead>\n",
       "    <tr style=\"text-align: right;\">\n",
       "      <th></th>\n",
       "      <th>protocol</th>\n",
       "      <th>successful_msms</th>\n",
       "    </tr>\n",
       "  </thead>\n",
       "  <tbody>\n",
       "    <tr>\n",
       "      <th>0</th>\n",
       "      <td>https</td>\n",
       "      <td>23452</td>\n",
       "    </tr>\n",
       "    <tr>\n",
       "      <th>1</th>\n",
       "      <td>quic</td>\n",
       "      <td>23509</td>\n",
       "    </tr>\n",
       "    <tr>\n",
       "      <th>2</th>\n",
       "      <td>tcp</td>\n",
       "      <td>23291</td>\n",
       "    </tr>\n",
       "    <tr>\n",
       "      <th>3</th>\n",
       "      <td>tls</td>\n",
       "      <td>23517</td>\n",
       "    </tr>\n",
       "    <tr>\n",
       "      <th>4</th>\n",
       "      <td>udp</td>\n",
       "      <td>22852</td>\n",
       "    </tr>\n",
       "  </tbody>\n",
       "</table>\n",
       "</div>"
      ],
      "text/plain": [
       "  protocol  successful_msms\n",
       "0    https            23452\n",
       "1     quic            23509\n",
       "2      tcp            23291\n",
       "3      tls            23517\n",
       "4      udp            22852"
      ]
     },
     "execution_count": 61,
     "metadata": {},
     "output_type": "execute_result"
    }
   ],
   "source": [
    "measurements[(measurements.error_ == 'none') & (measurements.cacheWarming == 0)].groupby('protocol', as_index=False).agg(successful_msms=('msm_id', pd.Series.nunique)).sort_values('protocol')"
   ]
  },
  {
   "cell_type": "code",
   "execution_count": 62,
   "id": "b6245f85",
   "metadata": {},
   "outputs": [
    {
     "data": {
      "text/html": [
       "<div>\n",
       "<style scoped>\n",
       "    .dataframe tbody tr th:only-of-type {\n",
       "        vertical-align: middle;\n",
       "    }\n",
       "\n",
       "    .dataframe tbody tr th {\n",
       "        vertical-align: top;\n",
       "    }\n",
       "\n",
       "    .dataframe thead th {\n",
       "        text-align: right;\n",
       "    }\n",
       "</style>\n",
       "<table border=\"1\" class=\"dataframe\">\n",
       "  <thead>\n",
       "    <tr style=\"text-align: right;\">\n",
       "      <th></th>\n",
       "      <th>protocol</th>\n",
       "      <th>successful_msms</th>\n",
       "    </tr>\n",
       "  </thead>\n",
       "  <tbody>\n",
       "    <tr>\n",
       "      <th>0</th>\n",
       "      <td>https</td>\n",
       "      <td>503</td>\n",
       "    </tr>\n",
       "    <tr>\n",
       "      <th>1</th>\n",
       "      <td>quic</td>\n",
       "      <td>466</td>\n",
       "    </tr>\n",
       "    <tr>\n",
       "      <th>2</th>\n",
       "      <td>tcp</td>\n",
       "      <td>359</td>\n",
       "    </tr>\n",
       "    <tr>\n",
       "      <th>3</th>\n",
       "      <td>tls</td>\n",
       "      <td>534</td>\n",
       "    </tr>\n",
       "    <tr>\n",
       "      <th>4</th>\n",
       "      <td>udp</td>\n",
       "      <td>723</td>\n",
       "    </tr>\n",
       "  </tbody>\n",
       "</table>\n",
       "</div>"
      ],
      "text/plain": [
       "  protocol  successful_msms\n",
       "0    https              503\n",
       "1     quic              466\n",
       "2      tcp              359\n",
       "3      tls              534\n",
       "4      udp              723"
      ]
     },
     "execution_count": 62,
     "metadata": {},
     "output_type": "execute_result"
    }
   ],
   "source": [
    "measurements[(measurements.error_ != 'none') & (measurements.cacheWarming == 0)].groupby('protocol', as_index=False).agg(successful_msms=('msm_id', pd.Series.nunique)).sort_values('protocol')"
   ]
  },
  {
   "cell_type": "code",
   "execution_count": 63,
   "id": "8a6d6ed1",
   "metadata": {},
   "outputs": [
    {
     "data": {
      "text/html": [
       "<div>\n",
       "<style scoped>\n",
       "    .dataframe tbody tr th:only-of-type {\n",
       "        vertical-align: middle;\n",
       "    }\n",
       "\n",
       "    .dataframe tbody tr th {\n",
       "        vertical-align: top;\n",
       "    }\n",
       "\n",
       "    .dataframe thead th {\n",
       "        text-align: right;\n",
       "    }\n",
       "</style>\n",
       "<table border=\"1\" class=\"dataframe\">\n",
       "  <thead>\n",
       "    <tr style=\"text-align: right;\">\n",
       "      <th></th>\n",
       "      <th>protocol</th>\n",
       "      <th>successful_msms</th>\n",
       "    </tr>\n",
       "  </thead>\n",
       "  <tbody>\n",
       "    <tr>\n",
       "      <th>0</th>\n",
       "      <td>https</td>\n",
       "      <td>23956</td>\n",
       "    </tr>\n",
       "    <tr>\n",
       "      <th>1</th>\n",
       "      <td>quic</td>\n",
       "      <td>23975</td>\n",
       "    </tr>\n",
       "    <tr>\n",
       "      <th>2</th>\n",
       "      <td>tcp</td>\n",
       "      <td>23650</td>\n",
       "    </tr>\n",
       "    <tr>\n",
       "      <th>3</th>\n",
       "      <td>tls</td>\n",
       "      <td>24052</td>\n",
       "    </tr>\n",
       "    <tr>\n",
       "      <th>4</th>\n",
       "      <td>udp</td>\n",
       "      <td>23575</td>\n",
       "    </tr>\n",
       "  </tbody>\n",
       "</table>\n",
       "</div>"
      ],
      "text/plain": [
       "  protocol  successful_msms\n",
       "0    https            23956\n",
       "1     quic            23975\n",
       "2      tcp            23650\n",
       "3      tls            24052\n",
       "4      udp            23575"
      ]
     },
     "execution_count": 63,
     "metadata": {},
     "output_type": "execute_result"
    }
   ],
   "source": [
    "measurements[(measurements.error_ == 'none') & (measurements.cacheWarming == 1)].groupby('protocol', as_index=False).agg(successful_msms=('msm_id', pd.Series.nunique)).sort_values('protocol')"
   ]
  },
  {
   "cell_type": "code",
   "execution_count": 64,
   "id": "e09ec310",
   "metadata": {},
   "outputs": [
    {
     "data": {
      "text/html": [
       "<div>\n",
       "<style scoped>\n",
       "    .dataframe tbody tr th:only-of-type {\n",
       "        vertical-align: middle;\n",
       "    }\n",
       "\n",
       "    .dataframe tbody tr th {\n",
       "        vertical-align: top;\n",
       "    }\n",
       "\n",
       "    .dataframe thead th {\n",
       "        text-align: right;\n",
       "    }\n",
       "</style>\n",
       "<table border=\"1\" class=\"dataframe\">\n",
       "  <thead>\n",
       "    <tr style=\"text-align: right;\">\n",
       "      <th></th>\n",
       "      <th>protocol</th>\n",
       "      <th>successful_msms</th>\n",
       "    </tr>\n",
       "  </thead>\n",
       "  <tbody>\n",
       "    <tr>\n",
       "      <th>0</th>\n",
       "      <td>https</td>\n",
       "      <td>2965</td>\n",
       "    </tr>\n",
       "    <tr>\n",
       "      <th>1</th>\n",
       "      <td>quic</td>\n",
       "      <td>2947</td>\n",
       "    </tr>\n",
       "    <tr>\n",
       "      <th>2</th>\n",
       "      <td>tcp</td>\n",
       "      <td>3272</td>\n",
       "    </tr>\n",
       "    <tr>\n",
       "      <th>3</th>\n",
       "      <td>tls</td>\n",
       "      <td>2870</td>\n",
       "    </tr>\n",
       "    <tr>\n",
       "      <th>4</th>\n",
       "      <td>udp</td>\n",
       "      <td>3346</td>\n",
       "    </tr>\n",
       "  </tbody>\n",
       "</table>\n",
       "</div>"
      ],
      "text/plain": [
       "  protocol  successful_msms\n",
       "0    https             2965\n",
       "1     quic             2947\n",
       "2      tcp             3272\n",
       "3      tls             2870\n",
       "4      udp             3346"
      ]
     },
     "execution_count": 64,
     "metadata": {},
     "output_type": "execute_result"
    }
   ],
   "source": [
    "measurements[(measurements.error_ != 'none') & (measurements.cacheWarming == 1)].groupby('protocol', as_index=False).agg(successful_msms=('msm_id', pd.Series.nunique)).sort_values('protocol')"
   ]
  },
  {
   "cell_type": "code",
   "execution_count": 65,
   "id": "93f32305",
   "metadata": {},
   "outputs": [
    {
     "data": {
      "text/html": [
       "<div>\n",
       "<style scoped>\n",
       "    .dataframe tbody tr th:only-of-type {\n",
       "        vertical-align: middle;\n",
       "    }\n",
       "\n",
       "    .dataframe tbody tr th {\n",
       "        vertical-align: top;\n",
       "    }\n",
       "\n",
       "    .dataframe thead th {\n",
       "        text-align: right;\n",
       "    }\n",
       "</style>\n",
       "<table border=\"1\" class=\"dataframe\">\n",
       "  <thead>\n",
       "    <tr style=\"text-align: right;\">\n",
       "      <th></th>\n",
       "      <th>protocol</th>\n",
       "      <th>failed_msms</th>\n",
       "    </tr>\n",
       "  </thead>\n",
       "  <tbody>\n",
       "    <tr>\n",
       "      <th>0</th>\n",
       "      <td>https</td>\n",
       "      <td>3468</td>\n",
       "    </tr>\n",
       "    <tr>\n",
       "      <th>1</th>\n",
       "      <td>quic</td>\n",
       "      <td>3413</td>\n",
       "    </tr>\n",
       "    <tr>\n",
       "      <th>2</th>\n",
       "      <td>tcp</td>\n",
       "      <td>3631</td>\n",
       "    </tr>\n",
       "    <tr>\n",
       "      <th>3</th>\n",
       "      <td>tls</td>\n",
       "      <td>3404</td>\n",
       "    </tr>\n",
       "    <tr>\n",
       "      <th>4</th>\n",
       "      <td>udp</td>\n",
       "      <td>4069</td>\n",
       "    </tr>\n",
       "  </tbody>\n",
       "</table>\n",
       "</div>"
      ],
      "text/plain": [
       "  protocol  failed_msms\n",
       "0    https         3468\n",
       "1     quic         3413\n",
       "2      tcp         3631\n",
       "3      tls         3404\n",
       "4      udp         4069"
      ]
     },
     "execution_count": 65,
     "metadata": {},
     "output_type": "execute_result"
    }
   ],
   "source": [
    "measurements[measurements.error_ != 'none'].groupby('protocol', as_index=False).agg(failed_msms=('msm_id', pd.Series.nunique))"
   ]
  },
  {
   "cell_type": "code",
   "execution_count": 66,
   "id": "04383f6e",
   "metadata": {},
   "outputs": [
    {
     "data": {
      "text/html": [
       "<div>\n",
       "<style scoped>\n",
       "    .dataframe tbody tr th:only-of-type {\n",
       "        vertical-align: middle;\n",
       "    }\n",
       "\n",
       "    .dataframe tbody tr th {\n",
       "        vertical-align: top;\n",
       "    }\n",
       "\n",
       "    .dataframe thead th {\n",
       "        text-align: right;\n",
       "    }\n",
       "</style>\n",
       "<table border=\"1\" class=\"dataframe\">\n",
       "  <thead>\n",
       "    <tr style=\"text-align: right;\">\n",
       "      <th></th>\n",
       "      <th>protocol</th>\n",
       "      <th>successful_msms</th>\n",
       "    </tr>\n",
       "  </thead>\n",
       "  <tbody>\n",
       "    <tr>\n",
       "      <th>4</th>\n",
       "      <td>udp</td>\n",
       "      <td>46427</td>\n",
       "    </tr>\n",
       "    <tr>\n",
       "      <th>2</th>\n",
       "      <td>tcp</td>\n",
       "      <td>46941</td>\n",
       "    </tr>\n",
       "    <tr>\n",
       "      <th>0</th>\n",
       "      <td>https</td>\n",
       "      <td>47408</td>\n",
       "    </tr>\n",
       "    <tr>\n",
       "      <th>1</th>\n",
       "      <td>quic</td>\n",
       "      <td>47484</td>\n",
       "    </tr>\n",
       "    <tr>\n",
       "      <th>3</th>\n",
       "      <td>tls</td>\n",
       "      <td>47569</td>\n",
       "    </tr>\n",
       "  </tbody>\n",
       "</table>\n",
       "</div>"
      ],
      "text/plain": [
       "  protocol  successful_msms\n",
       "4      udp            46427\n",
       "2      tcp            46941\n",
       "0    https            47408\n",
       "1     quic            47484\n",
       "3      tls            47569"
      ]
     },
     "execution_count": 66,
     "metadata": {},
     "output_type": "execute_result"
    }
   ],
   "source": [
    "measurements[measurements.error_ == 'none'].groupby('protocol', as_index=False).agg(successful_msms=('msm_id', pd.Series.nunique)).sort_values('successful_msms')"
   ]
  },
  {
   "cell_type": "code",
   "execution_count": 67,
   "id": "2d81ec0d",
   "metadata": {},
   "outputs": [
    {
     "data": {
      "text/html": [
       "<div>\n",
       "<style scoped>\n",
       "    .dataframe tbody tr th:only-of-type {\n",
       "        vertical-align: middle;\n",
       "    }\n",
       "\n",
       "    .dataframe tbody tr th {\n",
       "        vertical-align: top;\n",
       "    }\n",
       "\n",
       "    .dataframe thead th {\n",
       "        text-align: right;\n",
       "    }\n",
       "</style>\n",
       "<table border=\"1\" class=\"dataframe\">\n",
       "  <thead>\n",
       "    <tr style=\"text-align: right;\">\n",
       "      <th></th>\n",
       "      <th>vantagePoint</th>\n",
       "      <th>failed_msms</th>\n",
       "    </tr>\n",
       "  </thead>\n",
       "  <tbody>\n",
       "    <tr>\n",
       "      <th>0</th>\n",
       "      <td>Africa South</td>\n",
       "      <td>3312</td>\n",
       "    </tr>\n",
       "    <tr>\n",
       "      <th>1</th>\n",
       "      <td>Asia Pacific Northeast</td>\n",
       "      <td>2452</td>\n",
       "    </tr>\n",
       "    <tr>\n",
       "      <th>2</th>\n",
       "      <td>Asia Pacific Southeast</td>\n",
       "      <td>2510</td>\n",
       "    </tr>\n",
       "    <tr>\n",
       "      <th>3</th>\n",
       "      <td>Europe Central</td>\n",
       "      <td>2476</td>\n",
       "    </tr>\n",
       "    <tr>\n",
       "      <th>4</th>\n",
       "      <td>South America East</td>\n",
       "      <td>2288</td>\n",
       "    </tr>\n",
       "    <tr>\n",
       "      <th>5</th>\n",
       "      <td>US East</td>\n",
       "      <td>2557</td>\n",
       "    </tr>\n",
       "    <tr>\n",
       "      <th>6</th>\n",
       "      <td>US West</td>\n",
       "      <td>2390</td>\n",
       "    </tr>\n",
       "  </tbody>\n",
       "</table>\n",
       "</div>"
      ],
      "text/plain": [
       "             vantagePoint  failed_msms\n",
       "0            Africa South         3312\n",
       "1  Asia Pacific Northeast         2452\n",
       "2  Asia Pacific Southeast         2510\n",
       "3          Europe Central         2476\n",
       "4      South America East         2288\n",
       "5                 US East         2557\n",
       "6                 US West         2390"
      ]
     },
     "execution_count": 67,
     "metadata": {},
     "output_type": "execute_result"
    }
   ],
   "source": [
    "measurements[measurements.error_ != 'none'].groupby('vantagePoint', as_index=False).agg(failed_msms=('msm_id', pd.Series.nunique))"
   ]
  },
  {
   "cell_type": "code",
   "execution_count": 68,
   "id": "c35ecf68",
   "metadata": {},
   "outputs": [
    {
     "data": {
      "text/html": [
       "<div>\n",
       "<style scoped>\n",
       "    .dataframe tbody tr th:only-of-type {\n",
       "        vertical-align: middle;\n",
       "    }\n",
       "\n",
       "    .dataframe tbody tr th {\n",
       "        vertical-align: top;\n",
       "    }\n",
       "\n",
       "    .dataframe thead th {\n",
       "        text-align: right;\n",
       "    }\n",
       "</style>\n",
       "<table border=\"1\" class=\"dataframe\">\n",
       "  <thead>\n",
       "    <tr style=\"text-align: right;\">\n",
       "      <th></th>\n",
       "      <th>vantagePoint</th>\n",
       "      <th>failed_msms</th>\n",
       "    </tr>\n",
       "  </thead>\n",
       "  <tbody>\n",
       "    <tr>\n",
       "      <th>0</th>\n",
       "      <td>Africa South</td>\n",
       "      <td>2347</td>\n",
       "    </tr>\n",
       "    <tr>\n",
       "      <th>1</th>\n",
       "      <td>Asia Pacific Northeast</td>\n",
       "      <td>2138</td>\n",
       "    </tr>\n",
       "    <tr>\n",
       "      <th>2</th>\n",
       "      <td>Asia Pacific Southeast</td>\n",
       "      <td>2148</td>\n",
       "    </tr>\n",
       "    <tr>\n",
       "      <th>3</th>\n",
       "      <td>Europe Central</td>\n",
       "      <td>2235</td>\n",
       "    </tr>\n",
       "    <tr>\n",
       "      <th>4</th>\n",
       "      <td>South America East</td>\n",
       "      <td>2077</td>\n",
       "    </tr>\n",
       "    <tr>\n",
       "      <th>5</th>\n",
       "      <td>US East</td>\n",
       "      <td>2299</td>\n",
       "    </tr>\n",
       "    <tr>\n",
       "      <th>6</th>\n",
       "      <td>US West</td>\n",
       "      <td>2156</td>\n",
       "    </tr>\n",
       "  </tbody>\n",
       "</table>\n",
       "</div>"
      ],
      "text/plain": [
       "             vantagePoint  failed_msms\n",
       "0            Africa South         2347\n",
       "1  Asia Pacific Northeast         2138\n",
       "2  Asia Pacific Southeast         2148\n",
       "3          Europe Central         2235\n",
       "4      South America East         2077\n",
       "5                 US East         2299\n",
       "6                 US West         2156"
      ]
     },
     "execution_count": 68,
     "metadata": {},
     "output_type": "execute_result"
    }
   ],
   "source": [
    "measurements[measurements.error_.str.startswith('cw')].groupby('vantagePoint', as_index=False).agg(failed_msms=('msm_id', pd.Series.nunique))"
   ]
  },
  {
   "cell_type": "code",
   "execution_count": 69,
   "id": "f57f67d1",
   "metadata": {},
   "outputs": [
    {
     "data": {
      "text/html": [
       "<div>\n",
       "<style scoped>\n",
       "    .dataframe tbody tr th:only-of-type {\n",
       "        vertical-align: middle;\n",
       "    }\n",
       "\n",
       "    .dataframe tbody tr th {\n",
       "        vertical-align: top;\n",
       "    }\n",
       "\n",
       "    .dataframe thead th {\n",
       "        text-align: right;\n",
       "    }\n",
       "</style>\n",
       "<table border=\"1\" class=\"dataframe\">\n",
       "  <thead>\n",
       "    <tr style=\"text-align: right;\">\n",
       "      <th></th>\n",
       "      <th>vantagePoint</th>\n",
       "      <th>failed_msms</th>\n",
       "    </tr>\n",
       "  </thead>\n",
       "  <tbody>\n",
       "    <tr>\n",
       "      <th>0</th>\n",
       "      <td>Africa South</td>\n",
       "      <td>965</td>\n",
       "    </tr>\n",
       "    <tr>\n",
       "      <th>1</th>\n",
       "      <td>Asia Pacific Northeast</td>\n",
       "      <td>314</td>\n",
       "    </tr>\n",
       "    <tr>\n",
       "      <th>2</th>\n",
       "      <td>Asia Pacific Southeast</td>\n",
       "      <td>362</td>\n",
       "    </tr>\n",
       "    <tr>\n",
       "      <th>3</th>\n",
       "      <td>Europe Central</td>\n",
       "      <td>241</td>\n",
       "    </tr>\n",
       "    <tr>\n",
       "      <th>4</th>\n",
       "      <td>South America East</td>\n",
       "      <td>211</td>\n",
       "    </tr>\n",
       "    <tr>\n",
       "      <th>5</th>\n",
       "      <td>US East</td>\n",
       "      <td>258</td>\n",
       "    </tr>\n",
       "    <tr>\n",
       "      <th>6</th>\n",
       "      <td>US West</td>\n",
       "      <td>234</td>\n",
       "    </tr>\n",
       "  </tbody>\n",
       "</table>\n",
       "</div>"
      ],
      "text/plain": [
       "             vantagePoint  failed_msms\n",
       "0            Africa South          965\n",
       "1  Asia Pacific Northeast          314\n",
       "2  Asia Pacific Southeast          362\n",
       "3          Europe Central          241\n",
       "4      South America East          211\n",
       "5                 US East          258\n",
       "6                 US West          234"
      ]
     },
     "execution_count": 69,
     "metadata": {},
     "output_type": "execute_result"
    }
   ],
   "source": [
    "measurements[measurements.error_.str.startswith('msm')].groupby('vantagePoint', as_index=False).agg(failed_msms=('msm_id', pd.Series.nunique))"
   ]
  },
  {
   "cell_type": "code",
   "execution_count": 70,
   "id": "bfbdf9c1",
   "metadata": {},
   "outputs": [
    {
     "data": {
      "text/html": [
       "<div>\n",
       "<style scoped>\n",
       "    .dataframe tbody tr th:only-of-type {\n",
       "        vertical-align: middle;\n",
       "    }\n",
       "\n",
       "    .dataframe tbody tr th {\n",
       "        vertical-align: top;\n",
       "    }\n",
       "\n",
       "    .dataframe thead th {\n",
       "        text-align: right;\n",
       "    }\n",
       "</style>\n",
       "<table border=\"1\" class=\"dataframe\">\n",
       "  <thead>\n",
       "    <tr style=\"text-align: right;\">\n",
       "      <th></th>\n",
       "      <th>vantagePoint</th>\n",
       "      <th>successful_msms</th>\n",
       "    </tr>\n",
       "  </thead>\n",
       "  <tbody>\n",
       "    <tr>\n",
       "      <th>0</th>\n",
       "      <td>Africa South</td>\n",
       "      <td>32801</td>\n",
       "    </tr>\n",
       "    <tr>\n",
       "      <th>5</th>\n",
       "      <td>US East</td>\n",
       "      <td>33504</td>\n",
       "    </tr>\n",
       "    <tr>\n",
       "      <th>1</th>\n",
       "      <td>Asia Pacific Northeast</td>\n",
       "      <td>33810</td>\n",
       "    </tr>\n",
       "    <tr>\n",
       "      <th>3</th>\n",
       "      <td>Europe Central</td>\n",
       "      <td>33826</td>\n",
       "    </tr>\n",
       "    <tr>\n",
       "      <th>2</th>\n",
       "      <td>Asia Pacific Southeast</td>\n",
       "      <td>33880</td>\n",
       "    </tr>\n",
       "    <tr>\n",
       "      <th>6</th>\n",
       "      <td>US West</td>\n",
       "      <td>33933</td>\n",
       "    </tr>\n",
       "    <tr>\n",
       "      <th>4</th>\n",
       "      <td>South America East</td>\n",
       "      <td>34075</td>\n",
       "    </tr>\n",
       "  </tbody>\n",
       "</table>\n",
       "</div>"
      ],
      "text/plain": [
       "             vantagePoint  successful_msms\n",
       "0            Africa South            32801\n",
       "5                 US East            33504\n",
       "1  Asia Pacific Northeast            33810\n",
       "3          Europe Central            33826\n",
       "2  Asia Pacific Southeast            33880\n",
       "6                 US West            33933\n",
       "4      South America East            34075"
      ]
     },
     "execution_count": 70,
     "metadata": {},
     "output_type": "execute_result"
    }
   ],
   "source": [
    "measurements[measurements.error_ == 'none'].groupby('vantagePoint', as_index=False).agg(successful_msms=('msm_id', pd.Series.nunique)).sort_values('successful_msms')"
   ]
  },
  {
   "cell_type": "code",
   "execution_count": 71,
   "id": "b2604b78",
   "metadata": {},
   "outputs": [
    {
     "data": {
      "text/html": [
       "<div>\n",
       "<style scoped>\n",
       "    .dataframe tbody tr th:only-of-type {\n",
       "        vertical-align: middle;\n",
       "    }\n",
       "\n",
       "    .dataframe tbody tr th {\n",
       "        vertical-align: top;\n",
       "    }\n",
       "\n",
       "    .dataframe thead th {\n",
       "        text-align: right;\n",
       "    }\n",
       "</style>\n",
       "<table border=\"1\" class=\"dataframe\">\n",
       "  <thead>\n",
       "    <tr style=\"text-align: right;\">\n",
       "      <th></th>\n",
       "      <th>server</th>\n",
       "      <th>unique_vps</th>\n",
       "    </tr>\n",
       "  </thead>\n",
       "  <tbody>\n",
       "    <tr>\n",
       "      <th>0</th>\n",
       "      <td>101.32.27.77</td>\n",
       "      <td>7</td>\n",
       "    </tr>\n",
       "    <tr>\n",
       "      <th>1</th>\n",
       "      <td>103.105.98.141</td>\n",
       "      <td>4</td>\n",
       "    </tr>\n",
       "    <tr>\n",
       "      <th>2</th>\n",
       "      <td>103.123.108.197</td>\n",
       "      <td>7</td>\n",
       "    </tr>\n",
       "    <tr>\n",
       "      <th>3</th>\n",
       "      <td>103.124.95.99</td>\n",
       "      <td>3</td>\n",
       "    </tr>\n",
       "    <tr>\n",
       "      <th>4</th>\n",
       "      <td>103.172.17.225</td>\n",
       "      <td>5</td>\n",
       "    </tr>\n",
       "    <tr>\n",
       "      <th>...</th>\n",
       "      <td>...</td>\n",
       "      <td>...</td>\n",
       "    </tr>\n",
       "    <tr>\n",
       "      <th>249</th>\n",
       "      <td>94.140.14.49</td>\n",
       "      <td>1</td>\n",
       "    </tr>\n",
       "    <tr>\n",
       "      <th>250</th>\n",
       "      <td>94.140.14.59</td>\n",
       "      <td>1</td>\n",
       "    </tr>\n",
       "    <tr>\n",
       "      <th>251</th>\n",
       "      <td>94.140.15.15</td>\n",
       "      <td>5</td>\n",
       "    </tr>\n",
       "    <tr>\n",
       "      <th>252</th>\n",
       "      <td>94.140.15.16</td>\n",
       "      <td>1</td>\n",
       "    </tr>\n",
       "    <tr>\n",
       "      <th>253</th>\n",
       "      <td>98.154.23.186</td>\n",
       "      <td>1</td>\n",
       "    </tr>\n",
       "  </tbody>\n",
       "</table>\n",
       "<p>254 rows × 2 columns</p>\n",
       "</div>"
      ],
      "text/plain": [
       "              server  unique_vps\n",
       "0       101.32.27.77           7\n",
       "1     103.105.98.141           4\n",
       "2    103.123.108.197           7\n",
       "3      103.124.95.99           3\n",
       "4     103.172.17.225           5\n",
       "..               ...         ...\n",
       "249     94.140.14.49           1\n",
       "250     94.140.14.59           1\n",
       "251     94.140.15.15           5\n",
       "252     94.140.15.16           1\n",
       "253    98.154.23.186           1\n",
       "\n",
       "[254 rows x 2 columns]"
      ]
     },
     "execution_count": 71,
     "metadata": {},
     "output_type": "execute_result"
    }
   ],
   "source": [
    "server_failure_vp_count = measurements[measurements.error_ != 'none'].groupby(['server'], as_index=False).agg(unique_vps=('vantagePoint', pd.Series.nunique))\n",
    "server_failure_vp_count\n"
   ]
  },
  {
   "cell_type": "code",
   "execution_count": 72,
   "id": "461b2d24",
   "metadata": {},
   "outputs": [
    {
     "data": {
      "text/plain": [
       "1    71\n",
       "2    64\n",
       "7    43\n",
       "3    36\n",
       "4    19\n",
       "5    12\n",
       "6     9\n",
       "Name: unique_vps, dtype: int64"
      ]
     },
     "execution_count": 72,
     "metadata": {},
     "output_type": "execute_result"
    }
   ],
   "source": [
    "server_failure_vp_count.unique_vps.value_counts()"
   ]
  },
  {
   "cell_type": "code",
   "execution_count": 73,
   "id": "dff02518",
   "metadata": {},
   "outputs": [],
   "source": [
    "servers_that_fail_on_single_vm = server_failure_vp_count[server_failure_vp_count.unique_vps == 1].server.unique().tolist()"
   ]
  },
  {
   "cell_type": "code",
   "execution_count": 74,
   "id": "370821de",
   "metadata": {},
   "outputs": [
    {
     "data": {
      "text/plain": [
       "Africa South              76\n",
       "Asia Pacific Southeast    14\n",
       "Europe Central            14\n",
       "US East                   14\n",
       "US West                   13\n",
       "South America East         6\n",
       "Asia Pacific Northeast     1\n",
       "Name: vantagePoint, dtype: int64"
      ]
     },
     "execution_count": 74,
     "metadata": {},
     "output_type": "execute_result"
    }
   ],
   "source": [
    "measurements[(measurements.error_ != 'none') & (measurements.server.isin(servers_that_fail_on_single_vm))].vantagePoint.value_counts()"
   ]
  },
  {
   "cell_type": "code",
   "execution_count": 75,
   "id": "5d080af9",
   "metadata": {},
   "outputs": [
    {
     "data": {
      "text/plain": [
       "msm: googlevideo changed during playback    54\n",
       "cw: player load                             14\n",
       "msm: playback                                4\n",
       "cw: driver.get                               2\n",
       "msm: dns error                               1\n",
       "msm: no quality event                        1\n",
       "Name: error_, dtype: int64"
      ]
     },
     "execution_count": 75,
     "metadata": {},
     "output_type": "execute_result"
    }
   ],
   "source": [
    "measurements[(measurements.error_ != 'none') & (measurements.server.isin(servers_that_fail_on_single_vm)) & (measurements.vantagePoint == \"Africa South\")].error_.value_counts()"
   ]
  },
  {
   "cell_type": "code",
   "execution_count": 76,
   "id": "351ead50",
   "metadata": {},
   "outputs": [
    {
     "data": {
      "text/plain": [
       "msm: googlevideo changed during playback    9\n",
       "msm: dns error                              3\n",
       "msm: playback                               2\n",
       "Name: error_, dtype: int64"
      ]
     },
     "execution_count": 76,
     "metadata": {},
     "output_type": "execute_result"
    }
   ],
   "source": [
    "measurements[(measurements.error_ != 'none') & (measurements.server.isin(servers_that_fail_on_single_vm)) & (measurements.vantagePoint == \"Europe Central\")].error_.value_counts()"
   ]
  },
  {
   "cell_type": "code",
   "execution_count": 77,
   "id": "4bd1c989",
   "metadata": {},
   "outputs": [
    {
     "data": {
      "text/plain": [
       "msm: googlevideo changed during playback    6\n",
       "msm: dns error                              3\n",
       "msm: playback                               3\n",
       "cw: player load                             1\n",
       "msm: no quality event                       1\n",
       "Name: error_, dtype: int64"
      ]
     },
     "execution_count": 77,
     "metadata": {},
     "output_type": "execute_result"
    }
   ],
   "source": [
    "measurements[(measurements.error_ != 'none') & (measurements.server.isin(servers_that_fail_on_single_vm)) & (measurements.vantagePoint == \"US East\")].error_.value_counts()"
   ]
  },
  {
   "cell_type": "code",
   "execution_count": 78,
   "id": "ad956d1c",
   "metadata": {},
   "outputs": [
    {
     "data": {
      "text/plain": [
       "msm: googlevideo changed during playback    1\n",
       "Name: error_, dtype: int64"
      ]
     },
     "execution_count": 78,
     "metadata": {},
     "output_type": "execute_result"
    }
   ],
   "source": [
    "measurements[(measurements.error_ != 'none') & (measurements.server.isin(servers_that_fail_on_single_vm)) & (measurements.vantagePoint == \"Asia Pacific Northeast\")].error_.value_counts()"
   ]
  },
  {
   "cell_type": "code",
   "execution_count": 79,
   "id": "8013a671",
   "metadata": {},
   "outputs": [],
   "source": [
    "servers_that_fail_on_every_vm = server_failure_vp_count[server_failure_vp_count.unique_vps == 7].server.unique().tolist()"
   ]
  },
  {
   "cell_type": "code",
   "execution_count": 80,
   "id": "12b08897",
   "metadata": {},
   "outputs": [
    {
     "data": {
      "text/plain": [
       "Europe Central            2083\n",
       "Africa South              2082\n",
       "US West                   2074\n",
       "Asia Pacific Southeast    2047\n",
       "US East                   2038\n",
       "Asia Pacific Northeast    1990\n",
       "South America East        1948\n",
       "Name: vantagePoint, dtype: int64"
      ]
     },
     "execution_count": 80,
     "metadata": {},
     "output_type": "execute_result"
    }
   ],
   "source": [
    "measurements[(measurements.error_ != 'none') & (measurements.server.isin(servers_that_fail_on_every_vm))].vantagePoint.value_counts()"
   ]
  },
  {
   "cell_type": "code",
   "execution_count": 81,
   "id": "4a819cef",
   "metadata": {},
   "outputs": [
    {
     "data": {
      "text/plain": [
       "cw: player load                             13297\n",
       "msm: googlevideo changed during playback      268\n",
       "msm: dns error                                251\n",
       "msm: no play event                            250\n",
       "msm: playback                                  76\n",
       "msm: player load                               52\n",
       "cw: driver.get                                 51\n",
       "msm: driver.get                                16\n",
       "msm: no quality event                           1\n",
       "Name: error_, dtype: int64"
      ]
     },
     "execution_count": 81,
     "metadata": {},
     "output_type": "execute_result"
    }
   ],
   "source": [
    "measurements[(measurements.error_ != 'none') & (measurements.server.isin(servers_that_fail_on_every_vm))].error_.value_counts()"
   ]
  },
  {
   "cell_type": "code",
   "execution_count": 82,
   "id": "e19aeb57",
   "metadata": {},
   "outputs": [
    {
     "data": {
      "text/plain": [
       "260"
      ]
     },
     "execution_count": 82,
     "metadata": {},
     "output_type": "execute_result"
    }
   ],
   "source": [
    "measurements[measurements.error == ''].server.nunique()"
   ]
  },
  {
   "cell_type": "code",
   "execution_count": 83,
   "id": "590a13b7",
   "metadata": {},
   "outputs": [
    {
     "data": {
      "text/plain": [
       "126"
      ]
     },
     "execution_count": 83,
     "metadata": {},
     "output_type": "execute_result"
    }
   ],
   "source": [
    "measurements[measurements.error != ''].server.nunique()"
   ]
  },
  {
   "cell_type": "code",
   "execution_count": 84,
   "id": "a92c4f8b",
   "metadata": {},
   "outputs": [
    {
     "data": {
      "text/plain": [
       "tls      49163\n",
       "quic     49087\n",
       "https    49066\n",
       "tcp      48762\n",
       "udp      48686\n",
       "Name: protocol, dtype: int64"
      ]
     },
     "execution_count": 84,
     "metadata": {},
     "output_type": "execute_result"
    }
   ],
   "source": [
    "measurements[measurements.server.isin(measurements[measurements.error == ''].server.unique())].protocol.value_counts()"
   ]
  },
  {
   "cell_type": "code",
   "execution_count": 85,
   "id": "2d65b2a3",
   "metadata": {},
   "outputs": [
    {
     "data": {
      "text/plain": [
       "msm_id                          object\n",
       "py_time                          int64\n",
       "js_time                        float64\n",
       "resource_time_origin           float64\n",
       "protocol                        object\n",
       "server                          object\n",
       "domain                          object\n",
       "vantagePoint                    object\n",
       "timestamp               datetime64[ns]\n",
       "suggested_quality               object\n",
       "player_width                     int64\n",
       "player_height                    int64\n",
       "start_time                       int64\n",
       "play_time                        int64\n",
       "video_ids                       object\n",
       "cacheWarming                     int64\n",
       "error                           object\n",
       "date                            object\n",
       "error_                          object\n",
       "dtype: object"
      ]
     },
     "execution_count": 85,
     "metadata": {},
     "output_type": "execute_result"
    }
   ],
   "source": [
    "measurements.dtypes"
   ]
  },
  {
   "cell_type": "code",
   "execution_count": 86,
   "id": "c6507b99",
   "metadata": {},
   "outputs": [
    {
     "data": {
      "text/html": [
       "<div>\n",
       "<style scoped>\n",
       "    .dataframe tbody tr th:only-of-type {\n",
       "        vertical-align: middle;\n",
       "    }\n",
       "\n",
       "    .dataframe tbody tr th {\n",
       "        vertical-align: top;\n",
       "    }\n",
       "\n",
       "    .dataframe thead th {\n",
       "        text-align: right;\n",
       "    }\n",
       "</style>\n",
       "<table border=\"1\" class=\"dataframe\">\n",
       "  <thead>\n",
       "    <tr style=\"text-align: right;\">\n",
       "      <th></th>\n",
       "      <th>server</th>\n",
       "      <th>protocol</th>\n",
       "      <th>vantagePoint</th>\n",
       "      <th>num_msm</th>\n",
       "    </tr>\n",
       "  </thead>\n",
       "  <tbody>\n",
       "    <tr>\n",
       "      <th>4347</th>\n",
       "      <td>185.254.18.242</td>\n",
       "      <td>tls</td>\n",
       "      <td>Africa South</td>\n",
       "      <td>1</td>\n",
       "    </tr>\n",
       "    <tr>\n",
       "      <th>6888</th>\n",
       "      <td>47.107.121.125</td>\n",
       "      <td>udp</td>\n",
       "      <td>Asia Pacific Southeast</td>\n",
       "      <td>1</td>\n",
       "    </tr>\n",
       "    <tr>\n",
       "      <th>4993</th>\n",
       "      <td>199.101.171.125</td>\n",
       "      <td>https</td>\n",
       "      <td>South America East</td>\n",
       "      <td>2</td>\n",
       "    </tr>\n",
       "    <tr>\n",
       "      <th>6861</th>\n",
       "      <td>47.103.26.225</td>\n",
       "      <td>tls</td>\n",
       "      <td>Asia Pacific Southeast</td>\n",
       "      <td>2</td>\n",
       "    </tr>\n",
       "    <tr>\n",
       "      <th>863</th>\n",
       "      <td>119.3.92.152</td>\n",
       "      <td>tls</td>\n",
       "      <td>Asia Pacific Southeast</td>\n",
       "      <td>2</td>\n",
       "    </tr>\n",
       "    <tr>\n",
       "      <th>...</th>\n",
       "      <td>...</td>\n",
       "      <td>...</td>\n",
       "      <td>...</td>\n",
       "      <td>...</td>\n",
       "    </tr>\n",
       "    <tr>\n",
       "      <th>3096</th>\n",
       "      <td>172.104.183.19</td>\n",
       "      <td>udp</td>\n",
       "      <td>Asia Pacific Northeast</td>\n",
       "      <td>28</td>\n",
       "    </tr>\n",
       "    <tr>\n",
       "      <th>3095</th>\n",
       "      <td>172.104.183.19</td>\n",
       "      <td>udp</td>\n",
       "      <td>Africa South</td>\n",
       "      <td>28</td>\n",
       "    </tr>\n",
       "    <tr>\n",
       "      <th>3094</th>\n",
       "      <td>172.104.183.19</td>\n",
       "      <td>tls</td>\n",
       "      <td>US West</td>\n",
       "      <td>28</td>\n",
       "    </tr>\n",
       "    <tr>\n",
       "      <th>3092</th>\n",
       "      <td>172.104.183.19</td>\n",
       "      <td>tls</td>\n",
       "      <td>South America East</td>\n",
       "      <td>28</td>\n",
       "    </tr>\n",
       "    <tr>\n",
       "      <th>8730</th>\n",
       "      <td>98.154.23.186</td>\n",
       "      <td>udp</td>\n",
       "      <td>US West</td>\n",
       "      <td>28</td>\n",
       "    </tr>\n",
       "  </tbody>\n",
       "</table>\n",
       "<p>8731 rows × 4 columns</p>\n",
       "</div>"
      ],
      "text/plain": [
       "               server protocol            vantagePoint  num_msm\n",
       "4347   185.254.18.242      tls            Africa South        1\n",
       "6888   47.107.121.125      udp  Asia Pacific Southeast        1\n",
       "4993  199.101.171.125    https      South America East        2\n",
       "6861    47.103.26.225      tls  Asia Pacific Southeast        2\n",
       "863      119.3.92.152      tls  Asia Pacific Southeast        2\n",
       "...               ...      ...                     ...      ...\n",
       "3096   172.104.183.19      udp  Asia Pacific Northeast       28\n",
       "3095   172.104.183.19      udp            Africa South       28\n",
       "3094   172.104.183.19      tls                 US West       28\n",
       "3092   172.104.183.19      tls      South America East       28\n",
       "8730    98.154.23.186      udp                 US West       28\n",
       "\n",
       "[8731 rows x 4 columns]"
      ]
     },
     "execution_count": 86,
     "metadata": {},
     "output_type": "execute_result"
    }
   ],
   "source": [
    "measurements[measurements.error == ''].groupby(['server', 'protocol', 'vantagePoint'], as_index=False).agg(num_msm=('msm_id',pd.Series.nunique)).sort_values('num_msm')"
   ]
  },
  {
   "cell_type": "code",
   "execution_count": 128,
   "id": "d9dbc19a",
   "metadata": {},
   "outputs": [],
   "source": [
    "successful_msms = measurements[(measurements.error_ == 'none') & (measurements.cacheWarming == 0)].groupby(['server', 'protocol', 'vantagePoint'], as_index=False).agg(num_msm=('msm_id',pd.Series.nunique))"
   ]
  },
  {
   "cell_type": "code",
   "execution_count": 129,
   "id": "3da04f62",
   "metadata": {},
   "outputs": [
    {
     "data": {
      "text/plain": [
       "230"
      ]
     },
     "execution_count": 129,
     "metadata": {},
     "output_type": "execute_result"
    }
   ],
   "source": [
    "successful_msms[successful_msms.num_msm < 14].server.nunique()"
   ]
  },
  {
   "cell_type": "code",
   "execution_count": 131,
   "id": "11b52a0f",
   "metadata": {},
   "outputs": [],
   "source": [
    "resolvers_with_full_results = dict()\n",
    "\n",
    "for vp in successful_msms.vantagePoint.unique():\n",
    "    resolvers_with_full_results[vp] = set()\n",
    "    \n",
    "    for server in successful_msms.server.unique():\n",
    "        found_incomplete=False\n",
    "        for protocol in successful_msms.protocol.unique():\n",
    "            df_tmp = successful_msms[(successful_msms.server == server) & (successful_msms.vantagePoint == vp) & (successful_msms.protocol == protocol)]\n",
    "            if len(df_tmp) == 0:\n",
    "                found_incomplete = True\n",
    "                break\n",
    "            else:\n",
    "                num_msm = df_tmp.num_msm.values[0]\n",
    "                if num_msm < 14:\n",
    "                    found_incomplete = True\n",
    "                    break\n",
    "        if not found_incomplete:\n",
    "            resolvers_with_full_results[vp].add(server)"
   ]
  },
  {
   "cell_type": "code",
   "execution_count": 132,
   "id": "cb0956dc",
   "metadata": {},
   "outputs": [
    {
     "data": {
      "text/plain": [
       "{'109.205.178.178',\n",
       " '13.250.108.212',\n",
       " '138.2.91.167',\n",
       " '150.230.99.64',\n",
       " '16.162.25.97',\n",
       " '164.90.199.170',\n",
       " '168.138.36.90',\n",
       " '176.103.134.134',\n",
       " '176.103.134.149',\n",
       " '185.244.173.222',\n",
       " '188.68.45.12',\n",
       " '192.46.231.38',\n",
       " '193.123.252.172',\n",
       " '194.67.121.139',\n",
       " '209.17.118.5',\n",
       " '37.114.32.22',\n",
       " '37.114.32.44',\n",
       " '85.214.195.112',\n",
       " '85.235.65.70',\n",
       " '86.238.66.147',\n",
       " '92.38.241.36',\n",
       " '94.140.14.140',\n",
       " '94.140.14.15'}"
      ]
     },
     "execution_count": 132,
     "metadata": {},
     "output_type": "execute_result"
    }
   ],
   "source": [
    "resolvers_with_full_results_set = set()\n",
    "for vp in successful_msms.vantagePoint.unique():\n",
    "    if len(resolvers_with_full_results_set) == 0:\n",
    "        resolvers_with_full_results_set = resolvers_with_full_results[vp]\n",
    "    else:\n",
    "        resolvers_with_full_results_set = resolvers_with_full_results_set.intersection(resolvers_with_full_results[vp])\n",
    "resolvers_with_full_results_set"
   ]
  },
  {
   "cell_type": "code",
   "execution_count": 133,
   "id": "0ac162e0",
   "metadata": {},
   "outputs": [
    {
     "data": {
      "text/plain": [
       "23"
      ]
     },
     "execution_count": 133,
     "metadata": {},
     "output_type": "execute_result"
    }
   ],
   "source": [
    "len(resolvers_with_full_results_set)"
   ]
  },
  {
   "cell_type": "code",
   "execution_count": 134,
   "id": "461924f7",
   "metadata": {
    "scrolled": true
   },
   "outputs": [
    {
     "name": "stdout",
     "output_type": "stream",
     "text": [
      "{'82.118.227.235', '176.103.134.34', '85.192.48.70', '45.129.2.32', '51.75.162.101', '173.82.68.70', '5.135.233.74', '107.191.51.151', '67.205.154.232', '192.26.105.29', '46.137.195.96', '104.238.154.123', '172.104.183.19', '176.103.130.132', '5.181.48.19', '23.95.209.33', '185.177.218.107', '185.200.34.171', '185.180.206.110', '3.9.78.39', '193.201.126.42', '47.243.165.176', '188.68.45.12', '46.232.251.76', '104.244.79.105', '43.154.154.162', '109.205.178.178', '173.255.211.77', '188.165.4.138', '15.165.113.96', '20.24.142.152', '8.210.148.24', '140.238.36.23', '37.114.32.22', '45.79.151.58', '94.140.14.141', '202.61.207.68', '180.93.137.1', '98.154.23.186', '85.235.65.70', '50.116.59.251', '167.99.236.104', '64.112.126.239', '185.17.3.188', '132.226.232.79', '176.103.130.149', '86.238.66.147', '192.3.73.139', '188.227.86.112', '146.59.226.118', '51.195.116.94', '94.140.14.49', '94.140.14.14', '107.172.103.160', '176.103.130.150', '192.3.253.106', '150.230.103.62', '185.175.57.120', '36.91.73.210', '146.56.112.4', '176.103.134.134', '150.230.99.64', '37.114.32.99', '138.2.84.109', '103.124.95.99', '159.223.136.223', '5.255.103.147', '141.95.140.195', '158.101.149.111', '152.70.70.91', '220.77.190.228', '139.162.70.69', '173.82.151.158', '152.70.232.216', '138.2.79.62', '176.103.134.5', '198.211.40.216', '54.37.203.237', '94.140.14.59', '194.67.121.139', '94.140.15.15', '54.249.180.176', '152.70.54.34', '139.59.106.60', '103.105.98.141', '47.254.64.251', '45.147.54.7', '185.244.173.222', '192.46.231.38', '176.103.130.131', '116.118.44.237', '160.16.123.42', '45.55.104.59', '146.56.177.76', '154.49.211.118', '176.113.83.49', '192.3.127.219', '37.1.195.86', '168.138.50.5', '185.150.117.6', '176.103.134.135', '37.221.215.77', '107.172.30.115', '176.103.130.130', '140.83.39.110', '172.105.101.43', '176.103.130.134', '188.154.194.83', '37.114.32.44', '149.56.45.165', '34.69.170.155', '85.214.195.112', '43.128.20.252', '185.121.25.64', '35.243.221.111', '45.117.81.204', '51.158.105.226', '40.83.113.177', '160.251.96.67', '135.125.181.234', '176.103.134.149', '146.59.23.151', '217.160.68.68', '176.103.130.136', '5.181.76.195', '94.140.14.140', '188.166.209.249', '51.38.176.180', '210.247.245.78', '128.199.115.141', '94.140.15.16', '13.124.186.64', '31.44.0.4', '152.70.189.89', '204.44.76.45', '16.162.25.97', '83.212.102.207', '140.238.42.214', '176.103.134.150', '176.103.134.4', '140.238.10.79', '37.235.49.163', '178.62.207.252', '80.85.136.144', '108.166.219.158', '138.2.91.167', '45.95.203.99', '168.138.53.111', '45.86.182.127', '51.195.103.20', '128.199.66.193', '185.212.57.244', '138.2.72.170', '52.229.189.143', '164.92.136.119', '45.67.32.107', '173.82.243.163', '35.241.97.81', '5.1.84.150', '64.225.50.86', '66.42.74.125', '188.116.27.94', '92.38.241.36', '195.90.213.140', '103.232.207.2', '199.115.228.98', '67.198.131.72', '146.56.176.39', '147.189.137.154', '135.125.236.23', '103.172.17.225', '167.99.37.126', '45.146.255.31', '218.251.80.123', '103.179.45.33', '130.61.24.160', '161.97.116.66', '23.239.29.136', '176.103.130.137', '35.156.129.204', '92.246.84.75', '150.230.197.114', '188.68.59.46', '80.91.176.168', '168.138.36.90', '34.101.136.158', '209.17.118.5', '164.90.199.170', '195.34.241.205', '89.208.251.213', '157.119.101.122', '146.59.32.198', '93.115.24.204', '45.78.51.5', '173.255.211.87', '43.129.73.66', '146.56.184.134', '103.237.147.61', '103.78.123.211', '193.123.252.172', '31.31.202.109', '147.182.195.29', '94.140.14.15', '5.255.100.5', '45.136.245.220', '13.250.108.212', '146.56.160.153', '52.233.72.204', '176.103.134.35', '23.94.120.177', '80.209.236.92'}\n",
      "211\n"
     ]
    }
   ],
   "source": [
    "resolvers_with_half_results = dict()\n",
    "\n",
    "for vp in successful_msms.vantagePoint.unique():\n",
    "    resolvers_with_half_results[vp] = set()\n",
    "    \n",
    "    for server in successful_msms.server.unique():\n",
    "        found_incomplete=False\n",
    "        for protocol in successful_msms.protocol.unique():\n",
    "            df_tmp = successful_msms[(successful_msms.server == server) & (successful_msms.vantagePoint == vp) & (successful_msms.protocol == protocol)]\n",
    "            if len(df_tmp) == 0:\n",
    "                found_incomplete = True\n",
    "                break\n",
    "            else:\n",
    "                num_msm = df_tmp.num_msm.values[0]\n",
    "                if num_msm < 7:\n",
    "                    found_incomplete = True\n",
    "                    break\n",
    "        if not found_incomplete:\n",
    "            resolvers_with_half_results[vp].add(server)\n",
    "resolvers_with_half_results_set = set()\n",
    "for vp in successful_msms.vantagePoint.unique():\n",
    "    if len(resolvers_with_half_results_set) == 0:\n",
    "        resolvers_with_half_results_set = resolvers_with_half_results[vp]\n",
    "    else:\n",
    "        resolvers_with_half_results_set = resolvers_with_half_results_set.intersection(resolvers_with_half_results[vp])\n",
    "print(resolvers_with_half_results_set)\n",
    "print(len(resolvers_with_half_results_set))"
   ]
  },
  {
   "cell_type": "code",
   "execution_count": 137,
   "id": "59cce23e",
   "metadata": {},
   "outputs": [],
   "source": [
    "successful_msms_video_id = measurements[(measurements.error_ == 'none') & (measurements.cacheWarming == 0)].groupby(['server', 'protocol', 'vantagePoint', 'domain'], as_index=False).agg(num_msm=('msm_id',pd.Series.nunique))"
   ]
  },
  {
   "cell_type": "code",
   "execution_count": 142,
   "id": "3786577a",
   "metadata": {
    "scrolled": true
   },
   "outputs": [
    {
     "name": "stdout",
     "output_type": "stream",
     "text": [
      "aqz-KE-bpKQ\n",
      "{'82.118.227.235', '176.103.134.34', '85.192.48.70', '45.129.2.32', '51.75.162.101', '173.82.68.70', '5.135.233.74', '107.191.51.151', '67.205.154.232', '192.26.105.29', '46.137.195.96', '104.238.154.123', '172.104.183.19', '176.103.130.132', '5.181.48.19', '23.95.209.33', '185.177.218.107', '185.200.34.171', '185.180.206.110', '3.9.78.39', '193.201.126.42', '47.243.165.176', '188.68.45.12', '46.232.251.76', '104.244.79.105', '43.154.154.162', '109.205.178.178', '173.255.211.77', '188.165.4.138', '15.165.113.96', '20.24.142.152', '8.210.148.24', '140.238.36.23', '37.114.32.22', '45.79.151.58', '94.140.14.141', '202.61.207.68', '180.93.137.1', '98.154.23.186', '85.235.65.70', '50.116.59.251', '167.99.236.104', '64.112.126.239', '185.17.3.188', '132.226.232.79', '176.103.130.149', '86.238.66.147', '192.3.73.139', '188.227.86.112', '146.59.226.118', '51.195.116.94', '94.140.14.49', '94.140.14.14', '107.172.103.160', '176.103.130.150', '192.3.253.106', '150.230.103.62', '185.175.57.120', '36.91.73.210', '146.56.112.4', '176.103.134.134', '150.230.99.64', '37.114.32.99', '138.2.84.109', '103.124.95.99', '159.223.136.223', '5.255.103.147', '141.95.140.195', '158.101.149.111', '152.70.70.91', '220.77.190.228', '139.162.70.69', '173.82.151.158', '152.70.232.216', '138.2.79.62', '176.103.134.5', '198.211.40.216', '54.37.203.237', '94.140.14.59', '194.67.121.139', '94.140.15.15', '54.249.180.176', '152.70.54.34', '139.59.106.60', '103.105.98.141', '47.254.64.251', '45.147.54.7', '185.244.173.222', '192.46.231.38', '176.103.130.131', '116.118.44.237', '160.16.123.42', '45.55.104.59', '146.56.177.76', '154.49.211.118', '176.113.83.49', '192.3.127.219', '37.1.195.86', '168.138.50.5', '185.150.117.6', '176.103.134.135', '37.221.215.77', '107.172.30.115', '176.103.130.130', '140.83.39.110', '172.105.101.43', '176.103.130.134', '188.154.194.83', '37.114.32.44', '149.56.45.165', '34.69.170.155', '85.214.195.112', '43.128.20.252', '185.121.25.64', '35.243.221.111', '45.117.81.204', '51.158.105.226', '40.83.113.177', '160.251.96.67', '135.125.181.234', '176.103.134.149', '146.59.23.151', '217.160.68.68', '176.103.130.136', '5.181.76.195', '94.140.14.140', '188.166.209.249', '51.38.176.180', '210.247.245.78', '128.199.115.141', '94.140.15.16', '13.124.186.64', '31.44.0.4', '152.70.189.89', '204.44.76.45', '16.162.25.97', '83.212.102.207', '140.238.42.214', '176.103.134.150', '176.103.134.4', '140.238.10.79', '37.235.49.163', '178.62.207.252', '80.85.136.144', '108.166.219.158', '138.2.91.167', '45.95.203.99', '168.138.53.111', '45.86.182.127', '51.195.103.20', '128.199.66.193', '185.212.57.244', '138.2.72.170', '52.229.189.143', '164.92.136.119', '45.67.32.107', '173.82.243.163', '77.73.71.58', '35.241.97.81', '5.1.84.150', '64.225.50.86', '66.42.74.125', '188.116.27.94', '92.38.241.36', '195.90.213.140', '103.232.207.2', '199.115.228.98', '67.198.131.72', '146.56.176.39', '147.189.137.154', '135.125.236.23', '103.172.17.225', '167.99.37.126', '45.146.255.31', '218.251.80.123', '103.179.45.33', '130.61.24.160', '161.97.116.66', '23.239.29.136', '176.103.130.137', '35.156.129.204', '92.246.84.75', '150.230.197.114', '188.68.59.46', '80.91.176.168', '168.138.36.90', '34.101.136.158', '209.17.118.5', '164.90.199.170', '195.34.241.205', '89.208.251.213', '157.119.101.122', '146.59.32.198', '93.115.24.204', '45.78.51.5', '173.255.211.87', '43.129.73.66', '146.56.184.134', '103.237.147.61', '103.78.123.211', '193.123.252.172', '31.31.202.109', '147.182.195.29', '94.140.14.15', '5.255.100.5', '45.136.245.220', '13.250.108.212', '146.56.160.153', '52.233.72.204', '176.103.134.35', '23.94.120.177', '80.209.236.92'}\n",
      "212\n",
      "lqiN98z6Dak\n",
      "{'82.118.227.235', '176.103.134.34', '85.192.48.70', '45.129.2.32', '51.75.162.101', '173.82.68.70', '5.135.233.74', '107.191.51.151', '67.205.154.232', '192.26.105.29', '46.137.195.96', '104.238.154.123', '172.104.183.19', '176.103.130.132', '5.181.48.19', '23.95.209.33', '185.177.218.107', '185.200.34.171', '185.180.206.110', '3.9.78.39', '193.201.126.42', '47.243.165.176', '188.68.45.12', '46.232.251.76', '104.244.79.105', '43.154.154.162', '109.205.178.178', '173.255.211.77', '188.165.4.138', '15.165.113.96', '20.24.142.152', '8.210.148.24', '140.238.36.23', '37.114.32.22', '45.79.151.58', '94.140.14.141', '202.61.207.68', '180.93.137.1', '98.154.23.186', '85.235.65.70', '50.116.59.251', '167.99.236.104', '64.112.126.239', '185.17.3.188', '132.226.232.79', '176.103.130.149', '86.238.66.147', '192.3.73.139', '188.227.86.112', '146.59.226.118', '51.195.116.94', '94.140.14.49', '94.140.14.14', '107.172.103.160', '176.103.130.150', '192.3.253.106', '150.230.103.62', '185.175.57.120', '36.91.73.210', '146.56.112.4', '176.103.134.134', '150.230.99.64', '37.114.32.99', '138.2.84.109', '103.124.95.99', '159.223.136.223', '5.255.103.147', '141.95.140.195', '158.101.149.111', '152.70.70.91', '220.77.190.228', '139.162.70.69', '173.82.151.158', '152.70.232.216', '138.2.79.62', '176.103.134.5', '198.211.40.216', '54.37.203.237', '94.140.14.59', '194.67.121.139', '94.140.15.15', '54.249.180.176', '152.70.54.34', '139.59.106.60', '103.176.79.211', '103.105.98.141', '47.254.64.251', '45.147.54.7', '185.244.173.222', '192.46.231.38', '176.103.130.131', '116.118.44.237', '160.16.123.42', '45.55.104.59', '146.56.177.76', '154.49.211.118', '176.113.83.49', '192.3.127.219', '37.1.195.86', '168.138.50.5', '185.150.117.6', '176.103.134.135', '37.221.215.77', '107.172.30.115', '176.103.130.130', '140.83.39.110', '172.105.101.43', '176.103.130.134', '188.154.194.83', '37.114.32.44', '149.56.45.165', '34.69.170.155', '85.214.195.112', '43.128.20.252', '185.121.25.64', '35.243.221.111', '45.117.81.204', '51.158.105.226', '40.83.113.177', '160.251.96.67', '135.125.181.234', '176.103.134.149', '146.59.23.151', '217.160.68.68', '176.103.130.136', '5.181.76.195', '94.140.14.140', '188.166.209.249', '51.38.176.180', '210.247.245.78', '128.199.115.141', '94.140.15.16', '13.124.186.64', '31.44.0.4', '152.70.189.89', '204.44.76.45', '16.162.25.97', '83.212.102.207', '140.238.42.214', '176.103.134.150', '176.103.134.4', '140.238.10.79', '37.235.49.163', '178.62.207.252', '80.85.136.144', '108.166.219.158', '138.2.91.167', '45.95.203.99', '168.138.53.111', '45.86.182.127', '51.195.103.20', '128.199.66.193', '185.212.57.244', '138.2.72.170', '52.229.189.143', '164.92.136.119', '45.67.32.107', '173.82.243.163', '35.241.97.81', '5.1.84.150', '64.225.50.86', '66.42.74.125', '188.116.27.94', '92.38.241.36', '195.90.213.140', '103.232.207.2', '199.115.228.98', '67.198.131.72', '146.56.176.39', '147.189.137.154', '135.125.236.23', '103.172.17.225', '167.99.37.126', '45.146.255.31', '218.251.80.123', '103.179.45.33', '130.61.24.160', '161.97.116.66', '16.162.44.250', '23.239.29.136', '176.103.130.137', '35.156.129.204', '92.246.84.75', '150.230.197.114', '188.68.59.46', '80.91.176.168', '168.138.36.90', '34.101.136.158', '209.17.118.5', '164.90.199.170', '195.34.241.205', '89.208.251.213', '157.119.101.122', '146.59.32.198', '93.115.24.204', '45.78.51.5', '173.255.211.87', '43.129.73.66', '146.56.184.134', '103.237.147.61', '103.78.123.211', '193.123.252.172', '31.31.202.109', '147.182.195.29', '94.140.14.15', '5.255.100.5', '45.136.245.220', '13.250.108.212', '146.56.160.153', '52.233.72.204', '176.103.134.35', '23.94.120.177', '80.209.236.92'}\n",
      "213\n"
     ]
    }
   ],
   "source": [
    "for video_id in successful_msms_video_id.domain.unique():\n",
    "    print(video_id)\n",
    "    resolvers_with_half_results = dict()\n",
    "    for vp in successful_msms.vantagePoint.unique():\n",
    "        resolvers_with_half_results[vp] = set()\n",
    "\n",
    "        for server in successful_msms.server.unique():\n",
    "            found_incomplete=False\n",
    "            for protocol in successful_msms.protocol.unique():\n",
    "                df_tmp = successful_msms_video_id[(successful_msms_video_id.server == server) & (successful_msms_video_id.vantagePoint == vp) & (successful_msms_video_id.protocol == protocol) & (successful_msms_video_id.domain == video_id)]\n",
    "                if len(df_tmp) == 0:\n",
    "                    found_incomplete = True\n",
    "                    break\n",
    "                else:\n",
    "                    num_msm = df_tmp.num_msm.values[0]\n",
    "                    if num_msm < 3:\n",
    "                        found_incomplete = True\n",
    "                        break\n",
    "            if not found_incomplete:\n",
    "                resolvers_with_half_results[vp].add(server)\n",
    "    resolvers_with_half_results_set = set()\n",
    "    for vp in successful_msms.vantagePoint.unique():\n",
    "        if len(resolvers_with_half_results_set) == 0:\n",
    "            resolvers_with_half_results_set = resolvers_with_half_results[vp]\n",
    "        else:\n",
    "            resolvers_with_half_results_set = resolvers_with_half_results_set.intersection(resolvers_with_half_results[vp])\n",
    "    print(resolvers_with_half_results_set)\n",
    "    print(len(resolvers_with_half_results_set))"
   ]
  },
  {
   "cell_type": "code",
   "execution_count": 93,
   "id": "2fa50865",
   "metadata": {},
   "outputs": [
    {
     "data": {
      "text/plain": [
       "253814"
      ]
     },
     "execution_count": 93,
     "metadata": {},
     "output_type": "execute_result"
    }
   ],
   "source": [
    "measurements.msm_id.nunique()"
   ]
  },
  {
   "cell_type": "code",
   "execution_count": 95,
   "id": "f1bd74c5",
   "metadata": {},
   "outputs": [
    {
     "data": {
      "text/plain": [
       "279"
      ]
     },
     "execution_count": 95,
     "metadata": {},
     "output_type": "execute_result"
    }
   ],
   "source": [
    "measurements.server.nunique()"
   ]
  },
  {
   "cell_type": "code",
   "execution_count": 107,
   "id": "6478604e",
   "metadata": {},
   "outputs": [],
   "source": [
    "successful_msms_by_resolver_vp_count = measurements[(measurements.cacheWarming == 0) & (measurements.error_ == 'none')].groupby(['server'], as_index=False).agg(unique_vps=('vantagePoint', pd.Series.nunique))"
   ]
  },
  {
   "cell_type": "code",
   "execution_count": 117,
   "id": "16ddb752",
   "metadata": {},
   "outputs": [
    {
     "data": {
      "text/plain": [
       "234"
      ]
     },
     "execution_count": 117,
     "metadata": {},
     "output_type": "execute_result"
    }
   ],
   "source": [
    "len(successful_msms_by_resolver_vp_count[successful_msms_by_resolver_vp_count.unique_vps == 7])"
   ]
  },
  {
   "cell_type": "code",
   "execution_count": 118,
   "id": "554b5280",
   "metadata": {},
   "outputs": [
    {
     "data": {
      "text/html": [
       "<div>\n",
       "<style scoped>\n",
       "    .dataframe tbody tr th:only-of-type {\n",
       "        vertical-align: middle;\n",
       "    }\n",
       "\n",
       "    .dataframe tbody tr th {\n",
       "        vertical-align: top;\n",
       "    }\n",
       "\n",
       "    .dataframe thead th {\n",
       "        text-align: right;\n",
       "    }\n",
       "</style>\n",
       "<table border=\"1\" class=\"dataframe\">\n",
       "  <thead>\n",
       "    <tr style=\"text-align: right;\">\n",
       "      <th></th>\n",
       "      <th>server</th>\n",
       "      <th>unique_vps</th>\n",
       "    </tr>\n",
       "  </thead>\n",
       "  <tbody>\n",
       "    <tr>\n",
       "      <th>0</th>\n",
       "      <td>103.105.98.141</td>\n",
       "      <td>7</td>\n",
       "    </tr>\n",
       "    <tr>\n",
       "      <th>1</th>\n",
       "      <td>103.123.108.197</td>\n",
       "      <td>7</td>\n",
       "    </tr>\n",
       "    <tr>\n",
       "      <th>2</th>\n",
       "      <td>103.124.95.99</td>\n",
       "      <td>7</td>\n",
       "    </tr>\n",
       "    <tr>\n",
       "      <th>3</th>\n",
       "      <td>103.172.17.225</td>\n",
       "      <td>7</td>\n",
       "    </tr>\n",
       "    <tr>\n",
       "      <th>4</th>\n",
       "      <td>103.172.17.226</td>\n",
       "      <td>7</td>\n",
       "    </tr>\n",
       "    <tr>\n",
       "      <th>...</th>\n",
       "      <td>...</td>\n",
       "      <td>...</td>\n",
       "    </tr>\n",
       "    <tr>\n",
       "      <th>252</th>\n",
       "      <td>94.140.14.49</td>\n",
       "      <td>7</td>\n",
       "    </tr>\n",
       "    <tr>\n",
       "      <th>253</th>\n",
       "      <td>94.140.14.59</td>\n",
       "      <td>7</td>\n",
       "    </tr>\n",
       "    <tr>\n",
       "      <th>254</th>\n",
       "      <td>94.140.15.15</td>\n",
       "      <td>7</td>\n",
       "    </tr>\n",
       "    <tr>\n",
       "      <th>255</th>\n",
       "      <td>94.140.15.16</td>\n",
       "      <td>7</td>\n",
       "    </tr>\n",
       "    <tr>\n",
       "      <th>256</th>\n",
       "      <td>98.154.23.186</td>\n",
       "      <td>7</td>\n",
       "    </tr>\n",
       "  </tbody>\n",
       "</table>\n",
       "<p>234 rows × 2 columns</p>\n",
       "</div>"
      ],
      "text/plain": [
       "              server  unique_vps\n",
       "0     103.105.98.141           7\n",
       "1    103.123.108.197           7\n",
       "2      103.124.95.99           7\n",
       "3     103.172.17.225           7\n",
       "4     103.172.17.226           7\n",
       "..               ...         ...\n",
       "252     94.140.14.49           7\n",
       "253     94.140.14.59           7\n",
       "254     94.140.15.15           7\n",
       "255     94.140.15.16           7\n",
       "256    98.154.23.186           7\n",
       "\n",
       "[234 rows x 2 columns]"
      ]
     },
     "execution_count": 118,
     "metadata": {},
     "output_type": "execute_result"
    }
   ],
   "source": [
    "successful_msms_by_resolver_vp_count[successful_msms_by_resolver_vp_count.unique_vps == 7]"
   ]
  },
  {
   "cell_type": "code",
   "execution_count": 109,
   "id": "3788c0b8",
   "metadata": {},
   "outputs": [
    {
     "data": {
      "text/html": [
       "<div>\n",
       "<style scoped>\n",
       "    .dataframe tbody tr th:only-of-type {\n",
       "        vertical-align: middle;\n",
       "    }\n",
       "\n",
       "    .dataframe tbody tr th {\n",
       "        vertical-align: top;\n",
       "    }\n",
       "\n",
       "    .dataframe thead th {\n",
       "        text-align: right;\n",
       "    }\n",
       "</style>\n",
       "<table border=\"1\" class=\"dataframe\">\n",
       "  <thead>\n",
       "    <tr style=\"text-align: right;\">\n",
       "      <th></th>\n",
       "      <th>server</th>\n",
       "      <th>unique_vps</th>\n",
       "    </tr>\n",
       "  </thead>\n",
       "  <tbody>\n",
       "    <tr>\n",
       "      <th>17</th>\n",
       "      <td>106.12.119.30</td>\n",
       "      <td>1</td>\n",
       "    </tr>\n",
       "    <tr>\n",
       "      <th>27</th>\n",
       "      <td>123.195.161.145</td>\n",
       "      <td>1</td>\n",
       "    </tr>\n",
       "    <tr>\n",
       "      <th>180</th>\n",
       "      <td>39.105.150.214</td>\n",
       "      <td>1</td>\n",
       "    </tr>\n",
       "    <tr>\n",
       "      <th>187</th>\n",
       "      <td>45.12.19.254</td>\n",
       "      <td>1</td>\n",
       "    </tr>\n",
       "    <tr>\n",
       "      <th>220</th>\n",
       "      <td>51.89.26.38</td>\n",
       "      <td>1</td>\n",
       "    </tr>\n",
       "  </tbody>\n",
       "</table>\n",
       "</div>"
      ],
      "text/plain": [
       "              server  unique_vps\n",
       "17     106.12.119.30           1\n",
       "27   123.195.161.145           1\n",
       "180   39.105.150.214           1\n",
       "187     45.12.19.254           1\n",
       "220      51.89.26.38           1"
      ]
     },
     "execution_count": 109,
     "metadata": {},
     "output_type": "execute_result"
    }
   ],
   "source": [
    "successful_msms_by_resolver_vp_count[successful_msms_by_resolver_vp_count.unique_vps == 1]"
   ]
  },
  {
   "cell_type": "code",
   "execution_count": 111,
   "id": "f4fe5ee6",
   "metadata": {},
   "outputs": [
    {
     "data": {
      "text/plain": [
       "cw: player load                             434\n",
       "none                                          9\n",
       "msm: dns error                                1\n",
       "msm: googlevideo changed during playback      1\n",
       "msm: no play event                            1\n",
       "Name: error_, dtype: int64"
      ]
     },
     "execution_count": 111,
     "metadata": {},
     "output_type": "execute_result"
    }
   ],
   "source": [
    "measurements[measurements.server == '106.12.119.30'].error_.value_counts()"
   ]
  },
  {
   "cell_type": "code",
   "execution_count": 112,
   "id": "a08f79f2",
   "metadata": {},
   "outputs": [
    {
     "data": {
      "text/plain": [
       "cw: player load    420\n",
       "none               140\n",
       "Name: error_, dtype: int64"
      ]
     },
     "execution_count": 112,
     "metadata": {},
     "output_type": "execute_result"
    }
   ],
   "source": [
    "measurements[measurements.server == '123.195.161.145'].error_.value_counts()"
   ]
  },
  {
   "cell_type": "code",
   "execution_count": 113,
   "id": "bbe48e7b",
   "metadata": {},
   "outputs": [
    {
     "data": {
      "text/plain": [
       "none                                        280\n",
       "cw: player load                             203\n",
       "msm: no play event                          157\n",
       "msm: googlevideo changed during playback    101\n",
       "msm: player load                             12\n",
       "msm: dns error                                3\n",
       "msm: playback                                 1\n",
       "Name: error_, dtype: int64"
      ]
     },
     "execution_count": 113,
     "metadata": {},
     "output_type": "execute_result"
    }
   ],
   "source": [
    "measurements[measurements.server == '39.105.150.214'].error_.value_counts()"
   ]
  },
  {
   "cell_type": "code",
   "execution_count": 114,
   "id": "a2062f43",
   "metadata": {},
   "outputs": [
    {
     "data": {
      "text/plain": [
       "none    20\n",
       "Name: error_, dtype: int64"
      ]
     },
     "execution_count": 114,
     "metadata": {},
     "output_type": "execute_result"
    }
   ],
   "source": [
    "measurements[measurements.server == '45.12.19.254'].error_.value_counts()"
   ]
  },
  {
   "cell_type": "code",
   "execution_count": 115,
   "id": "d5764a65",
   "metadata": {},
   "outputs": [
    {
     "data": {
      "text/plain": [
       "cw: player load    420\n",
       "none               140\n",
       "Name: error_, dtype: int64"
      ]
     },
     "execution_count": 115,
     "metadata": {},
     "output_type": "execute_result"
    }
   ],
   "source": [
    "measurements[measurements.server == '51.89.26.38'].error_.value_counts()"
   ]
  },
  {
   "cell_type": "code",
   "execution_count": 120,
   "id": "81f12aa3",
   "metadata": {},
   "outputs": [
    {
     "data": {
      "text/plain": [
       "none                                        965\n",
       "msm: googlevideo changed during playback      9\n",
       "msm: dns error                                6\n",
       "Name: error_, dtype: int64"
      ]
     },
     "execution_count": 120,
     "metadata": {},
     "output_type": "execute_result"
    }
   ],
   "source": [
    "measurements[measurements.server == '103.232.207.2'].error_.value_counts()"
   ]
  },
  {
   "cell_type": "code",
   "execution_count": 126,
   "id": "bc679544",
   "metadata": {},
   "outputs": [
    {
     "data": {
      "text/plain": [
       "none, none                                        475\n",
       "none, msm: googlevideo changed during playback      9\n",
       "none, msm: dns error                                6\n",
       "Name: errors, dtype: int64"
      ]
     },
     "execution_count": 126,
     "metadata": {},
     "output_type": "execute_result"
    }
   ],
   "source": [
    "sanity_check_three[sanity_check_three.server == '103.232.207.2'].errors.value_counts()"
   ]
  },
  {
   "cell_type": "code",
   "execution_count": null,
   "id": "78846547",
   "metadata": {},
   "outputs": [],
   "source": []
  }
 ],
 "metadata": {
  "kernelspec": {
   "display_name": "Python 3 (ipykernel)",
   "language": "python",
   "name": "python3"
  },
  "language_info": {
   "codemirror_mode": {
    "name": "ipython",
    "version": 3
   },
   "file_extension": ".py",
   "mimetype": "text/x-python",
   "name": "python",
   "nbconvert_exporter": "python",
   "pygments_lexer": "ipython3",
   "version": "3.8.12"
  }
 },
 "nbformat": 4,
 "nbformat_minor": 5
}
