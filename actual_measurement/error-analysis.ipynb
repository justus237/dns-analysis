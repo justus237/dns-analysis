{
 "cells": [
  {
   "cell_type": "code",
   "execution_count": 6,
   "id": "3914b84f",
   "metadata": {},
   "outputs": [],
   "source": [
    "import pandas as pd\n",
    "import sqlite3\n",
    "import datetime\n",
    "import numpy as np\n",
    "import matplotlib as mpl\n",
    "import seaborn as sns\n",
    "import matplotlib.pyplot as plt\n",
    "import matplotlib.ticker as ticker\n",
    "from matplotlib.ticker import PercentFormatter\n",
    "import math\n",
    "\n",
    "from urllib.parse import urlparse, parse_qs\n",
    "mpl.rcParams['figure.dpi'] = 200\n",
    "okabe_ito = [\"#000000\", \"#E69F00\", \"#56B4E9\", \"#009E73\", \"#F0E442\", \"#0072B2\", \"#D55E00\", \"#CC79A7\"]\n",
    "sns.set_context('paper')\n",
    "sns.set_palette(sns.color_palette(okabe_ito))\n",
    "#https://stackoverflow.com/a/45846841\n",
    "def human_format(num):\n",
    "    num = float('{:.3g}'.format(num))\n",
    "    magnitude = 0\n",
    "    while abs(num) >= 1000:\n",
    "        magnitude += 1\n",
    "        num /= 1000.0\n",
    "    return '{}{}'.format('{:f}'.format(num).rstrip('0').rstrip('.'), ['', 'K', 'M', 'B', 'T'][magnitude])\n",
    "def make_cdf(series):\n",
    "    return series.value_counts(normalize=True).sort_index().cumsum()\n",
    "def make_pdf(series):\n",
    "    return series.value_counts(normalize=True).sort_index()\n",
    "from mpl_toolkits.axes_grid1 import make_axes_locatable\n",
    "from datetime import datetime\n",
    "mpl.rcParams['figure.dpi'] = 100\n",
    "import pickle"
   ]
  },
  {
   "cell_type": "code",
   "execution_count": 48,
   "id": "af887e4c",
   "metadata": {},
   "outputs": [],
   "source": [
    "conn = sqlite3.connect('dataset/web-performance-youtube-merged.db')\n",
    "measurements = pd.read_sql_query(\"SELECT * FROM measurements\", conn)\n",
    "failed_lookups = pd.read_sql_query('SELECT * FROM lookups WHERE status <> \"NOERROR\"', conn)\n",
    "conn.close()"
   ]
  },
  {
   "cell_type": "code",
   "execution_count": 49,
   "id": "1b4c1d67",
   "metadata": {},
   "outputs": [],
   "source": [
    "measurements['timestamp'] = pd.to_datetime(measurements['timestamp'])\n",
    "measurements['date'] = measurements['timestamp'].dt.date"
   ]
  },
  {
   "cell_type": "code",
   "execution_count": 50,
   "id": "34e5c144",
   "metadata": {},
   "outputs": [],
   "source": [
    "def count_cache_warming(agg):\n",
    "    #print(agg)\n",
    "    found_cw = False\n",
    "    found_msm = False\n",
    "    for item in agg:\n",
    "        if item == 0:\n",
    "            found_msm = True\n",
    "        if item == 1:\n",
    "            found_cw = True\n",
    "    if found_cw and found_msm:\n",
    "        return 'cw+msm'\n",
    "    elif found_cw and not found_msm:\n",
    "        return 'cw'\n",
    "    elif not found_cw and not found_msm:\n",
    "        return 'nothing'\n",
    "    elif not found_cw and found_msm:\n",
    "        return 'something went completely wrong'\n",
    "sanity_check = measurements.groupby(['vantagePoint', 'domain', 'server', 'protocol', 'date'], as_index=False).agg(num_msm_id=('msm_id', pd.Series.nunique), sanity_check=('cacheWarming', lambda x: count_cache_warming(x)))"
   ]
  },
  {
   "cell_type": "code",
   "execution_count": 51,
   "id": "051c7553",
   "metadata": {},
   "outputs": [
    {
     "data": {
      "text/plain": [
       "none                237470\n",
       "cw: player load      15316\n",
       "msm: playback          861\n",
       "cw: driver.get          84\n",
       "msm: player load        59\n",
       "msm: driver.get         24\n",
       "Name: error_, dtype: int64"
      ]
     },
     "execution_count": 51,
     "metadata": {},
     "output_type": "execute_result"
    }
   ],
   "source": [
    "#measurements.error.str.startswith(\"failed driver.get() for cache warming ###\")\n",
    "#measurements.error.str.startswith(\"failed driver.get() ###\")\n",
    "#measurements.error.str.startswith(\"failed loading player for cache warming ###\")\n",
    "#measurements.error.str.startswith(\"failed loading player ###\")\n",
    "#measurements.error.str.startswith(\"failed switching selenium focus to youtube iframe or monitoring loop ###\")\n",
    "measurements['error_'] = \"none\"\n",
    "measurements['error_'] = np.where(measurements.error.str.startswith(\"failed driver.get() for cache warming ###\"), \"cw: driver.get\", measurements['error_'])\n",
    "measurements['error_'] = np.where(measurements.error.str.startswith(\"failed driver.get() ###\"), \"msm: driver.get\", measurements['error_'])\n",
    "measurements['error_'] = np.where(measurements.error.str.startswith(\"failed loading player for cache warming ###\"), \"cw: player load\", measurements['error_'])\n",
    "measurements['error_'] = np.where(measurements.error.str.startswith(\"failed loading player ###\"), \"msm: player load\", measurements['error_'])\n",
    "measurements['error_'] = np.where(measurements.error.str.startswith(\"failed switching selenium focus to youtube iframe or monitoring loop ###\"), \"msm: playback\", measurements['error_'])\n",
    "measurements['error_'].value_counts()"
   ]
  },
  {
   "cell_type": "code",
   "execution_count": 52,
   "id": "bd7b5c38",
   "metadata": {},
   "outputs": [],
   "source": [
    "servfail_during_msm = pickle.load( open( \"servfail_during_msm.pickle\", \"rb\" ) )\n",
    "no_start_play_event_during_msm = pickle.load( open( \"no_start_play_event_during_msm.pickle\", \"rb\" ) )\n",
    "no_quality_change_event_during_msm = pickle.load( open( \"no_quality_change_event_during_msm.pickle\", \"rb\" ) )\n",
    "googlevideo_changed_during_msm = pickle.load( open( \"googlevideo_changed_during_msm.pickle\", \"rb\" ) )\n"
   ]
  },
  {
   "cell_type": "code",
   "execution_count": 53,
   "id": "50d8b26d",
   "metadata": {},
   "outputs": [],
   "source": [
    "measurements['error_'] = np.where((measurements.cacheWarming == 0) & (measurements.error_ == 'none') & (measurements.msm_id.isin(servfail_during_msm)), \"msm: dns error\", measurements['error_'])\n",
    "measurements['error_'] = np.where((measurements.cacheWarming == 0) & (measurements.error_ == 'none') & (measurements.msm_id.isin(no_start_play_event_during_msm)), \"msm: no play event\", measurements['error_'])\n",
    "measurements['error_'] = np.where((measurements.cacheWarming == 0) & (measurements.error_ == 'none') & (measurements.msm_id.isin(no_quality_change_event_during_msm)), \"msm: no quality event\", measurements['error_'])\n",
    "measurements['error_'] = np.where((measurements.cacheWarming == 0) & (measurements.error_ == 'none') & (measurements.msm_id.isin(googlevideo_changed_during_msm)), \"msm: googlevideo changed during playback\", measurements['error_'])"
   ]
  },
  {
   "cell_type": "code",
   "execution_count": 54,
   "id": "82ec3145",
   "metadata": {},
   "outputs": [
    {
     "data": {
      "text/plain": [
       "none                                        235829\n",
       "cw: player load                              15316\n",
       "msm: playback                                  861\n",
       "msm: googlevideo changed during playback       826\n",
       "msm: dns error                                 525\n",
       "msm: no play event                             283\n",
       "cw: driver.get                                  84\n",
       "msm: player load                                59\n",
       "msm: driver.get                                 24\n",
       "msm: no quality event                            7\n",
       "Name: error_, dtype: int64"
      ]
     },
     "execution_count": 54,
     "metadata": {},
     "output_type": "execute_result"
    }
   ],
   "source": [
    "measurements['error_'].value_counts()"
   ]
  },
  {
   "cell_type": "code",
   "execution_count": 56,
   "id": "640a0151",
   "metadata": {},
   "outputs": [],
   "source": [
    "sanity_check_three = measurements.sort_values(['timestamp', 'cacheWarming']).groupby(['vantagePoint', 'domain', 'server', 'protocol', 'date'], as_index=False).agg(msm_ids=('msm_id', pd.Series.unique), errors=('error_', lambda x: ', '.join(list(x.values))))"
   ]
  },
  {
   "cell_type": "code",
   "execution_count": 67,
   "id": "5a084f2d",
   "metadata": {},
   "outputs": [],
   "source": [
    "sanity_check_three['errors'] = np.where(sanity_check_three.errors == 'none', 'none, msm: failed to even run', sanity_check_three['errors'])"
   ]
  },
  {
   "cell_type": "code",
   "execution_count": 68,
   "id": "58f607a8",
   "metadata": {},
   "outputs": [
    {
     "data": {
      "text/plain": [
       "cw+msm    119206\n",
       "cw         15402\n",
       "Name: sanity_check, dtype: int64"
      ]
     },
     "execution_count": 68,
     "metadata": {},
     "output_type": "execute_result"
    }
   ],
   "source": [
    "sanity_check.sanity_check.value_counts()"
   ]
  },
  {
   "cell_type": "code",
   "execution_count": 69,
   "id": "66c63411",
   "metadata": {},
   "outputs": [
    {
     "data": {
      "text/plain": [
       "none, none                                        116621\n",
       "cw: player load                                    15316\n",
       "none, msm: playback                                  861\n",
       "none, msm: googlevideo changed during playback       826\n",
       "none, msm: dns error                                 525\n",
       "none, msm: no play event                             283\n",
       "cw: driver.get                                        84\n",
       "none, msm: player load                                59\n",
       "none, msm: driver.get                                 24\n",
       "none, msm: no quality event                            7\n",
       "none, msm: failed to even run                          2\n",
       "Name: errors, dtype: int64"
      ]
     },
     "execution_count": 69,
     "metadata": {},
     "output_type": "execute_result"
    }
   ],
   "source": [
    "sanity_check_three.errors.value_counts()"
   ]
  },
  {
   "cell_type": "code",
   "execution_count": 63,
   "id": "db8ad3ef",
   "metadata": {},
   "outputs": [
    {
     "data": {
      "text/plain": [
       "protocol\n",
       "https    26921\n",
       "quic     26922\n",
       "tcp      26922\n",
       "tls      26922\n",
       "udp      26921\n",
       "dtype: int64"
      ]
     },
     "execution_count": 63,
     "metadata": {},
     "output_type": "execute_result"
    }
   ],
   "source": [
    "sanity_check_three.groupby('protocol').size()"
   ]
  },
  {
   "cell_type": "code",
   "execution_count": 64,
   "id": "551211d6",
   "metadata": {},
   "outputs": [
    {
     "data": {
      "text/plain": [
       "protocol\n",
       "https    3469\n",
       "quic     3413\n",
       "tcp      3631\n",
       "tls      3405\n",
       "udp      4069\n",
       "dtype: int64"
      ]
     },
     "execution_count": 64,
     "metadata": {},
     "output_type": "execute_result"
    }
   ],
   "source": [
    "sanity_check_three[sanity_check_three.errors != 'none, none'].groupby('protocol').size()"
   ]
  },
  {
   "cell_type": "code",
   "execution_count": 71,
   "id": "c21e01c7",
   "metadata": {},
   "outputs": [
    {
     "data": {
      "text/plain": [
       "none, none                                        116621\n",
       "none, msm: googlevideo changed during playback       826\n",
       "none, msm: dns error                                 525\n",
       "none, msm: no play event                             283\n",
       "none, msm: no quality event                            7\n",
       "none, msm: failed to even run                          2\n",
       "Name: errors, dtype: int64"
      ]
     },
     "execution_count": 71,
     "metadata": {},
     "output_type": "execute_result"
    }
   ],
   "source": [
    "sanity_check_three[sanity_check_three.errors.isin(['none, none', 'none, msm: googlevideo changed during playback', 'none, msm: dns error', 'none, msm: no play event', 'none, msm: no quality event', 'none, msm: failed to even run'])].errors.value_counts()"
   ]
  },
  {
   "cell_type": "code",
   "execution_count": 78,
   "id": "18ca62bf",
   "metadata": {},
   "outputs": [
    {
     "data": {
      "text/plain": [
       "protocol\n",
       "https    23770\n",
       "quic     23801\n",
       "tcp      23468\n",
       "tls      23843\n",
       "udp      23382\n",
       "dtype: int64"
      ]
     },
     "execution_count": 78,
     "metadata": {},
     "output_type": "execute_result"
    }
   ],
   "source": [
    "sanity_check_three[sanity_check_three.errors.isin(['none, none', 'none, msm: googlevideo changed during playback', 'none, msm: dns error', 'none, msm: no play event', 'none, msm: no quality event', 'none, msm: failed to even run'])].groupby('protocol').size()"
   ]
  },
  {
   "cell_type": "code",
   "execution_count": 79,
   "id": "d8a9ad79",
   "metadata": {},
   "outputs": [
    {
     "data": {
      "text/plain": [
       "protocol\n",
       "https    318\n",
       "quic     292\n",
       "tcp      177\n",
       "tls      326\n",
       "udp      530\n",
       "dtype: int64"
      ]
     },
     "execution_count": 79,
     "metadata": {},
     "output_type": "execute_result"
    }
   ],
   "source": [
    "sanity_check_three[sanity_check_three.errors.isin(['none, msm: googlevideo changed during playback', 'none, msm: dns error', 'none, msm: no play event', 'none, msm: no quality event', 'none, msm: failed to even run'])].groupby('protocol').size()"
   ]
  },
  {
   "cell_type": "code",
   "execution_count": 77,
   "id": "1ef628b2",
   "metadata": {},
   "outputs": [
    {
     "data": {
      "text/plain": [
       "protocol\n",
       "https    23452\n",
       "quic     23509\n",
       "tcp      23291\n",
       "tls      23517\n",
       "udp      22852\n",
       "dtype: int64"
      ]
     },
     "execution_count": 77,
     "metadata": {},
     "output_type": "execute_result"
    }
   ],
   "source": [
    "sanity_check_three[sanity_check_three.errors == 'none, none'].groupby('protocol').size()"
   ]
  },
  {
   "cell_type": "code",
   "execution_count": 66,
   "id": "c144cc52",
   "metadata": {},
   "outputs": [
    {
     "data": {
      "text/plain": [
       "protocol  errors                                        \n",
       "https     none, none                                        23452\n",
       "          cw: player load                                    2963\n",
       "          none, msm: googlevideo changed during playback      191\n",
       "          none, msm: playback                                 176\n",
       "          none, msm: no play event                             76\n",
       "          none, msm: dns error                                 48\n",
       "          none, msm: player load                                7\n",
       "          none, msm: driver.get                                 3\n",
       "          cw: driver.get                                        2\n",
       "          none, msm: no quality event                           2\n",
       "          none                                                  1\n",
       "quic      none, none                                        23509\n",
       "          cw: player load                                    2944\n",
       "          none, msm: googlevideo changed during playback      170\n",
       "          none, msm: playback                                 169\n",
       "          none, msm: no play event                             77\n",
       "          none, msm: dns error                                 43\n",
       "          cw: driver.get                                        3\n",
       "          none, msm: player load                                3\n",
       "          none, msm: driver.get                                 2\n",
       "          none, msm: no quality event                           2\n",
       "tcp       none, none                                        23291\n",
       "          cw: player load                                    3260\n",
       "          none, msm: playback                                 172\n",
       "          none, msm: googlevideo changed during playback      117\n",
       "          none, msm: dns error                                 55\n",
       "          cw: driver.get                                       12\n",
       "          none, msm: player load                                9\n",
       "          none, msm: no play event                              3\n",
       "          none, msm: no quality event                           2\n",
       "          none, msm: driver.get                                 1\n",
       "tls       none, none                                        23517\n",
       "          cw: player load                                    2841\n",
       "          none, msm: googlevideo changed during playback      208\n",
       "          none, msm: playback                                 180\n",
       "          none, msm: no play event                            108\n",
       "          cw: driver.get                                       29\n",
       "          none, msm: player load                               20\n",
       "          none, msm: dns error                                  9\n",
       "          none, msm: driver.get                                 9\n",
       "          none                                                  1\n",
       "udp       none, none                                        22852\n",
       "          cw: player load                                    3308\n",
       "          none, msm: dns error                                370\n",
       "          none, msm: playback                                 164\n",
       "          none, msm: googlevideo changed during playback      140\n",
       "          cw: driver.get                                       38\n",
       "          none, msm: player load                               20\n",
       "          none, msm: no play event                             19\n",
       "          none, msm: driver.get                                 9\n",
       "          none, msm: no quality event                           1\n",
       "Name: errors, dtype: int64"
      ]
     },
     "execution_count": 66,
     "metadata": {},
     "output_type": "execute_result"
    }
   ],
   "source": [
    "sanity_check_three.groupby('protocol').errors.value_counts()"
   ]
  },
  {
   "cell_type": "code",
   "execution_count": 59,
   "id": "79b89501",
   "metadata": {},
   "outputs": [
    {
     "data": {
      "text/html": [
       "<div>\n",
       "<style scoped>\n",
       "    .dataframe tbody tr th:only-of-type {\n",
       "        vertical-align: middle;\n",
       "    }\n",
       "\n",
       "    .dataframe tbody tr th {\n",
       "        vertical-align: top;\n",
       "    }\n",
       "\n",
       "    .dataframe thead th {\n",
       "        text-align: right;\n",
       "    }\n",
       "</style>\n",
       "<table border=\"1\" class=\"dataframe\">\n",
       "  <thead>\n",
       "    <tr style=\"text-align: right;\">\n",
       "      <th></th>\n",
       "      <th>vantagePoint</th>\n",
       "      <th>domain</th>\n",
       "      <th>server</th>\n",
       "      <th>protocol</th>\n",
       "      <th>date</th>\n",
       "      <th>msm_ids</th>\n",
       "      <th>errors</th>\n",
       "    </tr>\n",
       "  </thead>\n",
       "  <tbody>\n",
       "    <tr>\n",
       "      <th>72415</th>\n",
       "      <td>Europe Central</td>\n",
       "      <td>lqiN98z6Dak</td>\n",
       "      <td>188.68.59.46</td>\n",
       "      <td>tls</td>\n",
       "      <td>2022-04-23</td>\n",
       "      <td>054af061-eada-2266-e54c-7cba3fa35c36</td>\n",
       "      <td>none</td>\n",
       "    </tr>\n",
       "    <tr>\n",
       "      <th>124923</th>\n",
       "      <td>US West</td>\n",
       "      <td>aqz-KE-bpKQ</td>\n",
       "      <td>94.140.15.16</td>\n",
       "      <td>https</td>\n",
       "      <td>2022-04-23</td>\n",
       "      <td>fe6b59ad-78fa-0549-a0cf-516f3d59ef95</td>\n",
       "      <td>none</td>\n",
       "    </tr>\n",
       "  </tbody>\n",
       "</table>\n",
       "</div>"
      ],
      "text/plain": [
       "          vantagePoint       domain        server protocol        date  \\\n",
       "72415   Europe Central  lqiN98z6Dak  188.68.59.46      tls  2022-04-23   \n",
       "124923         US West  aqz-KE-bpKQ  94.140.15.16    https  2022-04-23   \n",
       "\n",
       "                                     msm_ids errors  \n",
       "72415   054af061-eada-2266-e54c-7cba3fa35c36   none  \n",
       "124923  fe6b59ad-78fa-0549-a0cf-516f3d59ef95   none  "
      ]
     },
     "execution_count": 59,
     "metadata": {},
     "output_type": "execute_result"
    }
   ],
   "source": [
    "sanity_check_three[sanity_check_three.errors == 'none']"
   ]
  },
  {
   "cell_type": "code",
   "execution_count": 60,
   "id": "c13a9cb7",
   "metadata": {},
   "outputs": [
    {
     "data": {
      "text/html": [
       "<div>\n",
       "<style scoped>\n",
       "    .dataframe tbody tr th:only-of-type {\n",
       "        vertical-align: middle;\n",
       "    }\n",
       "\n",
       "    .dataframe tbody tr th {\n",
       "        vertical-align: top;\n",
       "    }\n",
       "\n",
       "    .dataframe thead th {\n",
       "        text-align: right;\n",
       "    }\n",
       "</style>\n",
       "<table border=\"1\" class=\"dataframe\">\n",
       "  <thead>\n",
       "    <tr style=\"text-align: right;\">\n",
       "      <th></th>\n",
       "      <th>msm_id</th>\n",
       "      <th>py_time</th>\n",
       "      <th>js_time</th>\n",
       "      <th>resource_time_origin</th>\n",
       "      <th>protocol</th>\n",
       "      <th>server</th>\n",
       "      <th>domain</th>\n",
       "      <th>vantagePoint</th>\n",
       "      <th>timestamp</th>\n",
       "      <th>suggested_quality</th>\n",
       "      <th>player_width</th>\n",
       "      <th>player_height</th>\n",
       "      <th>start_time</th>\n",
       "      <th>play_time</th>\n",
       "      <th>video_ids</th>\n",
       "      <th>cacheWarming</th>\n",
       "      <th>error</th>\n",
       "      <th>date</th>\n",
       "      <th>error_</th>\n",
       "    </tr>\n",
       "  </thead>\n",
       "  <tbody>\n",
       "    <tr>\n",
       "      <th>138039</th>\n",
       "      <td>054af061-eada-2266-e54c-7cba3fa35c36</td>\n",
       "      <td>-1</td>\n",
       "      <td>-1.0</td>\n",
       "      <td>-1.0</td>\n",
       "      <td>tls</td>\n",
       "      <td>188.68.59.46</td>\n",
       "      <td>lqiN98z6Dak</td>\n",
       "      <td>Europe Central</td>\n",
       "      <td>2022-04-23 10:17:55.597571</td>\n",
       "      <td>auto</td>\n",
       "      <td>1280</td>\n",
       "      <td>720</td>\n",
       "      <td>0</td>\n",
       "      <td>5</td>\n",
       "      <td>lqiN98z6Dak</td>\n",
       "      <td>1</td>\n",
       "      <td></td>\n",
       "      <td>2022-04-23</td>\n",
       "      <td>none</td>\n",
       "    </tr>\n",
       "  </tbody>\n",
       "</table>\n",
       "</div>"
      ],
      "text/plain": [
       "                                      msm_id  py_time  js_time  \\\n",
       "138039  054af061-eada-2266-e54c-7cba3fa35c36       -1     -1.0   \n",
       "\n",
       "        resource_time_origin protocol        server       domain  \\\n",
       "138039                  -1.0      tls  188.68.59.46  lqiN98z6Dak   \n",
       "\n",
       "          vantagePoint                  timestamp suggested_quality  \\\n",
       "138039  Europe Central 2022-04-23 10:17:55.597571              auto   \n",
       "\n",
       "        player_width  player_height  start_time  play_time    video_ids  \\\n",
       "138039          1280            720           0          5  lqiN98z6Dak   \n",
       "\n",
       "        cacheWarming error        date error_  \n",
       "138039             1        2022-04-23   none  "
      ]
     },
     "execution_count": 60,
     "metadata": {},
     "output_type": "execute_result"
    }
   ],
   "source": [
    "measurements[measurements.msm_id == '054af061-eada-2266-e54c-7cba3fa35c36']"
   ]
  },
  {
   "cell_type": "code",
   "execution_count": null,
   "id": "308110d3",
   "metadata": {},
   "outputs": [],
   "source": [
    "def cw_msm_errors(grouped):\n",
    "    #print(grouped)\n",
    "    ret = {}\n",
    "    ret['sanity_check'] = \"\"\n",
    "    ret['cw_id'] = \"\"\n",
    "    ret['msm_id'] = \"\"\n",
    "    \n",
    "    cw_error = False\n",
    "    for cache_warming in [1,0]:\n",
    "        if cache_warming == 1:\n",
    "            ret['cw_id'] = grouped[grouped.cacheWarming == cache_warming].msm_id.values[0]\n",
    "            if grouped[grouped.cacheWarming == cache_warming].error_.values[0] != 'none':\n",
    "                cw_error=True\n",
    "        else:\n",
    "            if cw_error:\n",
    "                if len(grouped[grouped.cacheWarming == cache_warming]) > 0:\n",
    "                    ret['msm_id'] = grouped[grouped.cacheWarming == cache_warming].msm_id.values[0]\n",
    "                    ret['sanity_check'] = \"cache warming error but also ran measurement: \"+grouped[grouped.cacheWarming == 1].error_.values[0] + \" -- \"+grouped[grouped.cacheWarming == 0].error_.values[0]\n",
    "                else:\n",
    "                    ret['sanity_check'] = \"cache warming error: \"+grouped[grouped.cacheWarming == 1].error_.values[0]\n",
    "            else:\n",
    "                if len(grouped[grouped.cacheWarming == cache_warming]) == 0:\n",
    "                    ret['sanity_check'] = \"cache warming successful but no measurement\"\n",
    "                else:\n",
    "                    ret['msm_id'] = grouped[grouped.cacheWarming == cache_warming].msm_id.values[0]\n",
    "                    ret['sanity_check'] = \"measurement error: \"+grouped[grouped.cacheWarming == cache_warming].error_.values[0]\n",
    "                \n",
    "    return pd.Series(ret, index=['sanity_check', 'cw_id', 'msm_id'])\n",
    "sanity_check_two = measurements.groupby(['vantagePoint', 'domain', 'server', 'protocol', 'date'], as_index=False).apply(cw_msm_errors)\n",
    "sanity_check_two"
   ]
  },
  {
   "cell_type": "code",
   "execution_count": 9,
   "id": "a9cabfb1",
   "metadata": {},
   "outputs": [
    {
     "data": {
      "text/plain": [
       "1    119079\n",
       "0    116621\n",
       "Name: cacheWarming, dtype: int64"
      ]
     },
     "execution_count": 9,
     "metadata": {},
     "output_type": "execute_result"
    }
   ],
   "source": [
    "measurements[measurements.error_ == 'none'].cacheWarming.value_counts()"
   ]
  },
  {
   "cell_type": "code",
   "execution_count": 55,
   "id": "529fd96f",
   "metadata": {},
   "outputs": [
    {
     "data": {
      "text/html": [
       "<div>\n",
       "<style scoped>\n",
       "    .dataframe tbody tr th:only-of-type {\n",
       "        vertical-align: middle;\n",
       "    }\n",
       "\n",
       "    .dataframe tbody tr th {\n",
       "        vertical-align: top;\n",
       "    }\n",
       "\n",
       "    .dataframe thead th {\n",
       "        text-align: right;\n",
       "    }\n",
       "</style>\n",
       "<table border=\"1\" class=\"dataframe\">\n",
       "  <thead>\n",
       "    <tr style=\"text-align: right;\">\n",
       "      <th></th>\n",
       "      <th>protocol</th>\n",
       "      <th>successful_msms</th>\n",
       "    </tr>\n",
       "  </thead>\n",
       "  <tbody>\n",
       "    <tr>\n",
       "      <th>0</th>\n",
       "      <td>https</td>\n",
       "      <td>26921</td>\n",
       "    </tr>\n",
       "    <tr>\n",
       "      <th>1</th>\n",
       "      <td>quic</td>\n",
       "      <td>26922</td>\n",
       "    </tr>\n",
       "    <tr>\n",
       "      <th>2</th>\n",
       "      <td>tcp</td>\n",
       "      <td>26922</td>\n",
       "    </tr>\n",
       "    <tr>\n",
       "      <th>3</th>\n",
       "      <td>tls</td>\n",
       "      <td>26922</td>\n",
       "    </tr>\n",
       "    <tr>\n",
       "      <th>4</th>\n",
       "      <td>udp</td>\n",
       "      <td>26921</td>\n",
       "    </tr>\n",
       "  </tbody>\n",
       "</table>\n",
       "</div>"
      ],
      "text/plain": [
       "  protocol  successful_msms\n",
       "0    https            26921\n",
       "1     quic            26922\n",
       "2      tcp            26922\n",
       "3      tls            26922\n",
       "4      udp            26921"
      ]
     },
     "execution_count": 55,
     "metadata": {},
     "output_type": "execute_result"
    }
   ],
   "source": [
    "measurements[measurements.cacheWarming == 1].groupby('protocol', as_index=False).agg(successful_msms=('msm_id', pd.Series.nunique)).sort_values('protocol')"
   ]
  },
  {
   "cell_type": "code",
   "execution_count": 17,
   "id": "6676fcc2",
   "metadata": {},
   "outputs": [
    {
     "data": {
      "text/html": [
       "<div>\n",
       "<style scoped>\n",
       "    .dataframe tbody tr th:only-of-type {\n",
       "        vertical-align: middle;\n",
       "    }\n",
       "\n",
       "    .dataframe tbody tr th {\n",
       "        vertical-align: top;\n",
       "    }\n",
       "\n",
       "    .dataframe thead th {\n",
       "        text-align: right;\n",
       "    }\n",
       "</style>\n",
       "<table border=\"1\" class=\"dataframe\">\n",
       "  <thead>\n",
       "    <tr style=\"text-align: right;\">\n",
       "      <th></th>\n",
       "      <th>protocol</th>\n",
       "      <th>successful_msms</th>\n",
       "    </tr>\n",
       "  </thead>\n",
       "  <tbody>\n",
       "    <tr>\n",
       "      <th>0</th>\n",
       "      <td>https</td>\n",
       "      <td>3484</td>\n",
       "    </tr>\n",
       "    <tr>\n",
       "      <th>1</th>\n",
       "      <td>quic</td>\n",
       "      <td>3432</td>\n",
       "    </tr>\n",
       "    <tr>\n",
       "      <th>2</th>\n",
       "      <td>tcp</td>\n",
       "      <td>3654</td>\n",
       "    </tr>\n",
       "    <tr>\n",
       "      <th>3</th>\n",
       "      <td>tls</td>\n",
       "      <td>3420</td>\n",
       "    </tr>\n",
       "    <tr>\n",
       "      <th>4</th>\n",
       "      <td>udp</td>\n",
       "      <td>4124</td>\n",
       "    </tr>\n",
       "  </tbody>\n",
       "</table>\n",
       "</div>"
      ],
      "text/plain": [
       "  protocol  successful_msms\n",
       "0    https             3484\n",
       "1     quic             3432\n",
       "2      tcp             3654\n",
       "3      tls             3420\n",
       "4      udp             4124"
      ]
     },
     "execution_count": 17,
     "metadata": {},
     "output_type": "execute_result"
    }
   ],
   "source": [
    "measurements[(measurements.error_ != 'none')].groupby('protocol', as_index=False).agg(successful_msms=('msm_id', pd.Series.nunique)).sort_values('protocol')"
   ]
  },
  {
   "cell_type": "code",
   "execution_count": 22,
   "id": "f504028f",
   "metadata": {},
   "outputs": [
    {
     "data": {
      "text/html": [
       "<div>\n",
       "<style scoped>\n",
       "    .dataframe tbody tr th:only-of-type {\n",
       "        vertical-align: middle;\n",
       "    }\n",
       "\n",
       "    .dataframe tbody tr th {\n",
       "        vertical-align: top;\n",
       "    }\n",
       "\n",
       "    .dataframe thead th {\n",
       "        text-align: right;\n",
       "    }\n",
       "</style>\n",
       "<table border=\"1\" class=\"dataframe\">\n",
       "  <thead>\n",
       "    <tr style=\"text-align: right;\">\n",
       "      <th></th>\n",
       "      <th>protocol</th>\n",
       "      <th>successful_msms</th>\n",
       "    </tr>\n",
       "  </thead>\n",
       "  <tbody>\n",
       "    <tr>\n",
       "      <th>0</th>\n",
       "      <td>https</td>\n",
       "      <td>23955</td>\n",
       "    </tr>\n",
       "    <tr>\n",
       "      <th>1</th>\n",
       "      <td>quic</td>\n",
       "      <td>23975</td>\n",
       "    </tr>\n",
       "    <tr>\n",
       "      <th>2</th>\n",
       "      <td>tcp</td>\n",
       "      <td>23650</td>\n",
       "    </tr>\n",
       "    <tr>\n",
       "      <th>3</th>\n",
       "      <td>tls</td>\n",
       "      <td>24051</td>\n",
       "    </tr>\n",
       "    <tr>\n",
       "      <th>4</th>\n",
       "      <td>udp</td>\n",
       "      <td>23575</td>\n",
       "    </tr>\n",
       "  </tbody>\n",
       "</table>\n",
       "</div>"
      ],
      "text/plain": [
       "  protocol  successful_msms\n",
       "0    https            23955\n",
       "1     quic            23975\n",
       "2      tcp            23650\n",
       "3      tls            24051\n",
       "4      udp            23575"
      ]
     },
     "execution_count": 22,
     "metadata": {},
     "output_type": "execute_result"
    }
   ],
   "source": [
    "measurements[(measurements.cacheWarming == 0)].groupby('protocol', as_index=False).agg(successful_msms=('msm_id', pd.Series.nunique)).sort_values('protocol')"
   ]
  },
  {
   "cell_type": "code",
   "execution_count": 18,
   "id": "5fcdc82c",
   "metadata": {},
   "outputs": [
    {
     "data": {
      "text/html": [
       "<div>\n",
       "<style scoped>\n",
       "    .dataframe tbody tr th:only-of-type {\n",
       "        vertical-align: middle;\n",
       "    }\n",
       "\n",
       "    .dataframe tbody tr th {\n",
       "        vertical-align: top;\n",
       "    }\n",
       "\n",
       "    .dataframe thead th {\n",
       "        text-align: right;\n",
       "    }\n",
       "</style>\n",
       "<table border=\"1\" class=\"dataframe\">\n",
       "  <thead>\n",
       "    <tr style=\"text-align: right;\">\n",
       "      <th></th>\n",
       "      <th>protocol</th>\n",
       "      <th>successful_msms</th>\n",
       "    </tr>\n",
       "  </thead>\n",
       "  <tbody>\n",
       "    <tr>\n",
       "      <th>0</th>\n",
       "      <td>https</td>\n",
       "      <td>23452</td>\n",
       "    </tr>\n",
       "    <tr>\n",
       "      <th>1</th>\n",
       "      <td>quic</td>\n",
       "      <td>23509</td>\n",
       "    </tr>\n",
       "    <tr>\n",
       "      <th>2</th>\n",
       "      <td>tcp</td>\n",
       "      <td>23291</td>\n",
       "    </tr>\n",
       "    <tr>\n",
       "      <th>3</th>\n",
       "      <td>tls</td>\n",
       "      <td>23517</td>\n",
       "    </tr>\n",
       "    <tr>\n",
       "      <th>4</th>\n",
       "      <td>udp</td>\n",
       "      <td>22852</td>\n",
       "    </tr>\n",
       "  </tbody>\n",
       "</table>\n",
       "</div>"
      ],
      "text/plain": [
       "  protocol  successful_msms\n",
       "0    https            23452\n",
       "1     quic            23509\n",
       "2      tcp            23291\n",
       "3      tls            23517\n",
       "4      udp            22852"
      ]
     },
     "execution_count": 18,
     "metadata": {},
     "output_type": "execute_result"
    }
   ],
   "source": [
    "measurements[(measurements.error_ == 'none') & (measurements.cacheWarming == 0)].groupby('protocol', as_index=False).agg(successful_msms=('msm_id', pd.Series.nunique)).sort_values('protocol')"
   ]
  },
  {
   "cell_type": "code",
   "execution_count": 19,
   "id": "b6245f85",
   "metadata": {},
   "outputs": [
    {
     "data": {
      "text/html": [
       "<div>\n",
       "<style scoped>\n",
       "    .dataframe tbody tr th:only-of-type {\n",
       "        vertical-align: middle;\n",
       "    }\n",
       "\n",
       "    .dataframe tbody tr th {\n",
       "        vertical-align: top;\n",
       "    }\n",
       "\n",
       "    .dataframe thead th {\n",
       "        text-align: right;\n",
       "    }\n",
       "</style>\n",
       "<table border=\"1\" class=\"dataframe\">\n",
       "  <thead>\n",
       "    <tr style=\"text-align: right;\">\n",
       "      <th></th>\n",
       "      <th>protocol</th>\n",
       "      <th>successful_msms</th>\n",
       "    </tr>\n",
       "  </thead>\n",
       "  <tbody>\n",
       "    <tr>\n",
       "      <th>0</th>\n",
       "      <td>https</td>\n",
       "      <td>503</td>\n",
       "    </tr>\n",
       "    <tr>\n",
       "      <th>1</th>\n",
       "      <td>quic</td>\n",
       "      <td>466</td>\n",
       "    </tr>\n",
       "    <tr>\n",
       "      <th>2</th>\n",
       "      <td>tcp</td>\n",
       "      <td>359</td>\n",
       "    </tr>\n",
       "    <tr>\n",
       "      <th>3</th>\n",
       "      <td>tls</td>\n",
       "      <td>534</td>\n",
       "    </tr>\n",
       "    <tr>\n",
       "      <th>4</th>\n",
       "      <td>udp</td>\n",
       "      <td>723</td>\n",
       "    </tr>\n",
       "  </tbody>\n",
       "</table>\n",
       "</div>"
      ],
      "text/plain": [
       "  protocol  successful_msms\n",
       "0    https              503\n",
       "1     quic              466\n",
       "2      tcp              359\n",
       "3      tls              534\n",
       "4      udp              723"
      ]
     },
     "execution_count": 19,
     "metadata": {},
     "output_type": "execute_result"
    }
   ],
   "source": [
    "measurements[(measurements.error_ != 'none') & (measurements.cacheWarming == 0)].groupby('protocol', as_index=False).agg(successful_msms=('msm_id', pd.Series.nunique)).sort_values('protocol')"
   ]
  },
  {
   "cell_type": "code",
   "execution_count": 20,
   "id": "8a6d6ed1",
   "metadata": {},
   "outputs": [
    {
     "data": {
      "text/html": [
       "<div>\n",
       "<style scoped>\n",
       "    .dataframe tbody tr th:only-of-type {\n",
       "        vertical-align: middle;\n",
       "    }\n",
       "\n",
       "    .dataframe tbody tr th {\n",
       "        vertical-align: top;\n",
       "    }\n",
       "\n",
       "    .dataframe thead th {\n",
       "        text-align: right;\n",
       "    }\n",
       "</style>\n",
       "<table border=\"1\" class=\"dataframe\">\n",
       "  <thead>\n",
       "    <tr style=\"text-align: right;\">\n",
       "      <th></th>\n",
       "      <th>protocol</th>\n",
       "      <th>successful_msms</th>\n",
       "    </tr>\n",
       "  </thead>\n",
       "  <tbody>\n",
       "    <tr>\n",
       "      <th>0</th>\n",
       "      <td>https</td>\n",
       "      <td>23940</td>\n",
       "    </tr>\n",
       "    <tr>\n",
       "      <th>1</th>\n",
       "      <td>quic</td>\n",
       "      <td>23956</td>\n",
       "    </tr>\n",
       "    <tr>\n",
       "      <th>2</th>\n",
       "      <td>tcp</td>\n",
       "      <td>23627</td>\n",
       "    </tr>\n",
       "    <tr>\n",
       "      <th>3</th>\n",
       "      <td>tls</td>\n",
       "      <td>24036</td>\n",
       "    </tr>\n",
       "    <tr>\n",
       "      <th>4</th>\n",
       "      <td>udp</td>\n",
       "      <td>23520</td>\n",
       "    </tr>\n",
       "  </tbody>\n",
       "</table>\n",
       "</div>"
      ],
      "text/plain": [
       "  protocol  successful_msms\n",
       "0    https            23940\n",
       "1     quic            23956\n",
       "2      tcp            23627\n",
       "3      tls            24036\n",
       "4      udp            23520"
      ]
     },
     "execution_count": 20,
     "metadata": {},
     "output_type": "execute_result"
    }
   ],
   "source": [
    "measurements[(measurements.error_ == 'none') & (measurements.cacheWarming == 1)].groupby('protocol', as_index=False).agg(successful_msms=('msm_id', pd.Series.nunique)).sort_values('protocol')"
   ]
  },
  {
   "cell_type": "code",
   "execution_count": 21,
   "id": "e09ec310",
   "metadata": {},
   "outputs": [
    {
     "data": {
      "text/html": [
       "<div>\n",
       "<style scoped>\n",
       "    .dataframe tbody tr th:only-of-type {\n",
       "        vertical-align: middle;\n",
       "    }\n",
       "\n",
       "    .dataframe tbody tr th {\n",
       "        vertical-align: top;\n",
       "    }\n",
       "\n",
       "    .dataframe thead th {\n",
       "        text-align: right;\n",
       "    }\n",
       "</style>\n",
       "<table border=\"1\" class=\"dataframe\">\n",
       "  <thead>\n",
       "    <tr style=\"text-align: right;\">\n",
       "      <th></th>\n",
       "      <th>protocol</th>\n",
       "      <th>successful_msms</th>\n",
       "    </tr>\n",
       "  </thead>\n",
       "  <tbody>\n",
       "    <tr>\n",
       "      <th>0</th>\n",
       "      <td>https</td>\n",
       "      <td>2981</td>\n",
       "    </tr>\n",
       "    <tr>\n",
       "      <th>1</th>\n",
       "      <td>quic</td>\n",
       "      <td>2966</td>\n",
       "    </tr>\n",
       "    <tr>\n",
       "      <th>2</th>\n",
       "      <td>tcp</td>\n",
       "      <td>3295</td>\n",
       "    </tr>\n",
       "    <tr>\n",
       "      <th>3</th>\n",
       "      <td>tls</td>\n",
       "      <td>2886</td>\n",
       "    </tr>\n",
       "    <tr>\n",
       "      <th>4</th>\n",
       "      <td>udp</td>\n",
       "      <td>3401</td>\n",
       "    </tr>\n",
       "  </tbody>\n",
       "</table>\n",
       "</div>"
      ],
      "text/plain": [
       "  protocol  successful_msms\n",
       "0    https             2981\n",
       "1     quic             2966\n",
       "2      tcp             3295\n",
       "3      tls             2886\n",
       "4      udp             3401"
      ]
     },
     "execution_count": 21,
     "metadata": {},
     "output_type": "execute_result"
    }
   ],
   "source": [
    "measurements[(measurements.error_ != 'none') & (measurements.cacheWarming == 1)].groupby('protocol', as_index=False).agg(successful_msms=('msm_id', pd.Series.nunique)).sort_values('protocol')"
   ]
  },
  {
   "cell_type": "code",
   "execution_count": 4,
   "id": "93f32305",
   "metadata": {},
   "outputs": [
    {
     "data": {
      "text/html": [
       "<div>\n",
       "<style scoped>\n",
       "    .dataframe tbody tr th:only-of-type {\n",
       "        vertical-align: middle;\n",
       "    }\n",
       "\n",
       "    .dataframe tbody tr th {\n",
       "        vertical-align: top;\n",
       "    }\n",
       "\n",
       "    .dataframe thead th {\n",
       "        text-align: right;\n",
       "    }\n",
       "</style>\n",
       "<table border=\"1\" class=\"dataframe\">\n",
       "  <thead>\n",
       "    <tr style=\"text-align: right;\">\n",
       "      <th></th>\n",
       "      <th>protocol</th>\n",
       "      <th>failed_msms</th>\n",
       "    </tr>\n",
       "  </thead>\n",
       "  <tbody>\n",
       "    <tr>\n",
       "      <th>0</th>\n",
       "      <td>https</td>\n",
       "      <td>3151</td>\n",
       "    </tr>\n",
       "    <tr>\n",
       "      <th>1</th>\n",
       "      <td>quic</td>\n",
       "      <td>3121</td>\n",
       "    </tr>\n",
       "    <tr>\n",
       "      <th>2</th>\n",
       "      <td>tcp</td>\n",
       "      <td>3454</td>\n",
       "    </tr>\n",
       "    <tr>\n",
       "      <th>3</th>\n",
       "      <td>tls</td>\n",
       "      <td>3079</td>\n",
       "    </tr>\n",
       "    <tr>\n",
       "      <th>4</th>\n",
       "      <td>udp</td>\n",
       "      <td>3539</td>\n",
       "    </tr>\n",
       "  </tbody>\n",
       "</table>\n",
       "</div>"
      ],
      "text/plain": [
       "  protocol  failed_msms\n",
       "0    https         3151\n",
       "1     quic         3121\n",
       "2      tcp         3454\n",
       "3      tls         3079\n",
       "4      udp         3539"
      ]
     },
     "execution_count": 4,
     "metadata": {},
     "output_type": "execute_result"
    }
   ],
   "source": [
    "measurements[measurements.error_ != 'none'].groupby('protocol', as_index=False).agg(failed_msms=('msm_id', pd.Series.nunique))"
   ]
  },
  {
   "cell_type": "code",
   "execution_count": 5,
   "id": "04383f6e",
   "metadata": {},
   "outputs": [
    {
     "data": {
      "text/html": [
       "<div>\n",
       "<style scoped>\n",
       "    .dataframe tbody tr th:only-of-type {\n",
       "        vertical-align: middle;\n",
       "    }\n",
       "\n",
       "    .dataframe tbody tr th {\n",
       "        vertical-align: top;\n",
       "    }\n",
       "\n",
       "    .dataframe thead th {\n",
       "        text-align: right;\n",
       "    }\n",
       "</style>\n",
       "<table border=\"1\" class=\"dataframe\">\n",
       "  <thead>\n",
       "    <tr style=\"text-align: right;\">\n",
       "      <th></th>\n",
       "      <th>protocol</th>\n",
       "      <th>successful_msms</th>\n",
       "    </tr>\n",
       "  </thead>\n",
       "  <tbody>\n",
       "    <tr>\n",
       "      <th>4</th>\n",
       "      <td>udp</td>\n",
       "      <td>46957</td>\n",
       "    </tr>\n",
       "    <tr>\n",
       "      <th>2</th>\n",
       "      <td>tcp</td>\n",
       "      <td>47118</td>\n",
       "    </tr>\n",
       "    <tr>\n",
       "      <th>0</th>\n",
       "      <td>https</td>\n",
       "      <td>47725</td>\n",
       "    </tr>\n",
       "    <tr>\n",
       "      <th>1</th>\n",
       "      <td>quic</td>\n",
       "      <td>47776</td>\n",
       "    </tr>\n",
       "    <tr>\n",
       "      <th>3</th>\n",
       "      <td>tls</td>\n",
       "      <td>47894</td>\n",
       "    </tr>\n",
       "  </tbody>\n",
       "</table>\n",
       "</div>"
      ],
      "text/plain": [
       "  protocol  successful_msms\n",
       "4      udp            46957\n",
       "2      tcp            47118\n",
       "0    https            47725\n",
       "1     quic            47776\n",
       "3      tls            47894"
      ]
     },
     "execution_count": 5,
     "metadata": {},
     "output_type": "execute_result"
    }
   ],
   "source": [
    "measurements[measurements.error_ == 'none'].groupby('protocol', as_index=False).agg(successful_msms=('msm_id', pd.Series.nunique)).sort_values('successful_msms')"
   ]
  },
  {
   "cell_type": "code",
   "execution_count": 7,
   "id": "2d81ec0d",
   "metadata": {},
   "outputs": [
    {
     "data": {
      "text/html": [
       "<div>\n",
       "<style scoped>\n",
       "    .dataframe tbody tr th:only-of-type {\n",
       "        vertical-align: middle;\n",
       "    }\n",
       "\n",
       "    .dataframe tbody tr th {\n",
       "        vertical-align: top;\n",
       "    }\n",
       "\n",
       "    .dataframe thead th {\n",
       "        text-align: right;\n",
       "    }\n",
       "</style>\n",
       "<table border=\"1\" class=\"dataframe\">\n",
       "  <thead>\n",
       "    <tr style=\"text-align: right;\">\n",
       "      <th></th>\n",
       "      <th>vantagePoint</th>\n",
       "      <th>failed_msms</th>\n",
       "    </tr>\n",
       "  </thead>\n",
       "  <tbody>\n",
       "    <tr>\n",
       "      <th>0</th>\n",
       "      <td>Africa South</td>\n",
       "      <td>2870</td>\n",
       "    </tr>\n",
       "    <tr>\n",
       "      <th>1</th>\n",
       "      <td>Asia Pacific Northeast</td>\n",
       "      <td>2285</td>\n",
       "    </tr>\n",
       "    <tr>\n",
       "      <th>2</th>\n",
       "      <td>Asia Pacific Southeast</td>\n",
       "      <td>2336</td>\n",
       "    </tr>\n",
       "    <tr>\n",
       "      <th>3</th>\n",
       "      <td>Europe Central</td>\n",
       "      <td>2261</td>\n",
       "    </tr>\n",
       "    <tr>\n",
       "      <th>4</th>\n",
       "      <td>South America East</td>\n",
       "      <td>2102</td>\n",
       "    </tr>\n",
       "    <tr>\n",
       "      <th>5</th>\n",
       "      <td>US East</td>\n",
       "      <td>2317</td>\n",
       "    </tr>\n",
       "    <tr>\n",
       "      <th>6</th>\n",
       "      <td>US West</td>\n",
       "      <td>2173</td>\n",
       "    </tr>\n",
       "  </tbody>\n",
       "</table>\n",
       "</div>"
      ],
      "text/plain": [
       "             vantagePoint  failed_msms\n",
       "0            Africa South         2870\n",
       "1  Asia Pacific Northeast         2285\n",
       "2  Asia Pacific Southeast         2336\n",
       "3          Europe Central         2261\n",
       "4      South America East         2102\n",
       "5                 US East         2317\n",
       "6                 US West         2173"
      ]
     },
     "execution_count": 7,
     "metadata": {},
     "output_type": "execute_result"
    }
   ],
   "source": [
    "measurements[measurements.error_ != 'none'].groupby('vantagePoint', as_index=False).agg(failed_msms=('msm_id', pd.Series.nunique))"
   ]
  },
  {
   "cell_type": "code",
   "execution_count": 36,
   "id": "c35ecf68",
   "metadata": {},
   "outputs": [
    {
     "data": {
      "text/html": [
       "<div>\n",
       "<style scoped>\n",
       "    .dataframe tbody tr th:only-of-type {\n",
       "        vertical-align: middle;\n",
       "    }\n",
       "\n",
       "    .dataframe tbody tr th {\n",
       "        vertical-align: top;\n",
       "    }\n",
       "\n",
       "    .dataframe thead th {\n",
       "        text-align: right;\n",
       "    }\n",
       "</style>\n",
       "<table border=\"1\" class=\"dataframe\">\n",
       "  <thead>\n",
       "    <tr style=\"text-align: right;\">\n",
       "      <th></th>\n",
       "      <th>vantagePoint</th>\n",
       "      <th>failed_msms</th>\n",
       "    </tr>\n",
       "  </thead>\n",
       "  <tbody>\n",
       "    <tr>\n",
       "      <th>0</th>\n",
       "      <td>Africa South</td>\n",
       "      <td>2347</td>\n",
       "    </tr>\n",
       "    <tr>\n",
       "      <th>1</th>\n",
       "      <td>Asia Pacific Northeast</td>\n",
       "      <td>2138</td>\n",
       "    </tr>\n",
       "    <tr>\n",
       "      <th>2</th>\n",
       "      <td>Asia Pacific Southeast</td>\n",
       "      <td>2148</td>\n",
       "    </tr>\n",
       "    <tr>\n",
       "      <th>3</th>\n",
       "      <td>Europe Central</td>\n",
       "      <td>2235</td>\n",
       "    </tr>\n",
       "    <tr>\n",
       "      <th>4</th>\n",
       "      <td>South America East</td>\n",
       "      <td>2077</td>\n",
       "    </tr>\n",
       "    <tr>\n",
       "      <th>5</th>\n",
       "      <td>US East</td>\n",
       "      <td>2299</td>\n",
       "    </tr>\n",
       "    <tr>\n",
       "      <th>6</th>\n",
       "      <td>US West</td>\n",
       "      <td>2156</td>\n",
       "    </tr>\n",
       "  </tbody>\n",
       "</table>\n",
       "</div>"
      ],
      "text/plain": [
       "             vantagePoint  failed_msms\n",
       "0            Africa South         2347\n",
       "1  Asia Pacific Northeast         2138\n",
       "2  Asia Pacific Southeast         2148\n",
       "3          Europe Central         2235\n",
       "4      South America East         2077\n",
       "5                 US East         2299\n",
       "6                 US West         2156"
      ]
     },
     "execution_count": 36,
     "metadata": {},
     "output_type": "execute_result"
    }
   ],
   "source": [
    "measurements[measurements.error_.str.startswith('cw')].groupby('vantagePoint', as_index=False).agg(failed_msms=('msm_id', pd.Series.nunique))"
   ]
  },
  {
   "cell_type": "code",
   "execution_count": 35,
   "id": "f57f67d1",
   "metadata": {},
   "outputs": [
    {
     "data": {
      "text/html": [
       "<div>\n",
       "<style scoped>\n",
       "    .dataframe tbody tr th:only-of-type {\n",
       "        vertical-align: middle;\n",
       "    }\n",
       "\n",
       "    .dataframe tbody tr th {\n",
       "        vertical-align: top;\n",
       "    }\n",
       "\n",
       "    .dataframe thead th {\n",
       "        text-align: right;\n",
       "    }\n",
       "</style>\n",
       "<table border=\"1\" class=\"dataframe\">\n",
       "  <thead>\n",
       "    <tr style=\"text-align: right;\">\n",
       "      <th></th>\n",
       "      <th>vantagePoint</th>\n",
       "      <th>failed_msms</th>\n",
       "    </tr>\n",
       "  </thead>\n",
       "  <tbody>\n",
       "    <tr>\n",
       "      <th>0</th>\n",
       "      <td>Africa South</td>\n",
       "      <td>523</td>\n",
       "    </tr>\n",
       "    <tr>\n",
       "      <th>1</th>\n",
       "      <td>Asia Pacific Northeast</td>\n",
       "      <td>147</td>\n",
       "    </tr>\n",
       "    <tr>\n",
       "      <th>2</th>\n",
       "      <td>Asia Pacific Southeast</td>\n",
       "      <td>188</td>\n",
       "    </tr>\n",
       "    <tr>\n",
       "      <th>3</th>\n",
       "      <td>Europe Central</td>\n",
       "      <td>26</td>\n",
       "    </tr>\n",
       "    <tr>\n",
       "      <th>4</th>\n",
       "      <td>South America East</td>\n",
       "      <td>25</td>\n",
       "    </tr>\n",
       "    <tr>\n",
       "      <th>5</th>\n",
       "      <td>US East</td>\n",
       "      <td>18</td>\n",
       "    </tr>\n",
       "    <tr>\n",
       "      <th>6</th>\n",
       "      <td>US West</td>\n",
       "      <td>17</td>\n",
       "    </tr>\n",
       "  </tbody>\n",
       "</table>\n",
       "</div>"
      ],
      "text/plain": [
       "             vantagePoint  failed_msms\n",
       "0            Africa South          523\n",
       "1  Asia Pacific Northeast          147\n",
       "2  Asia Pacific Southeast          188\n",
       "3          Europe Central           26\n",
       "4      South America East           25\n",
       "5                 US East           18\n",
       "6                 US West           17"
      ]
     },
     "execution_count": 35,
     "metadata": {},
     "output_type": "execute_result"
    }
   ],
   "source": [
    "measurements[measurements.error_.str.startswith('msm')].groupby('vantagePoint', as_index=False).agg(failed_msms=('msm_id', pd.Series.nunique))"
   ]
  },
  {
   "cell_type": "code",
   "execution_count": 29,
   "id": "bfbdf9c1",
   "metadata": {},
   "outputs": [
    {
     "data": {
      "text/html": [
       "<div>\n",
       "<style scoped>\n",
       "    .dataframe tbody tr th:only-of-type {\n",
       "        vertical-align: middle;\n",
       "    }\n",
       "\n",
       "    .dataframe tbody tr th {\n",
       "        vertical-align: top;\n",
       "    }\n",
       "\n",
       "    .dataframe thead th {\n",
       "        text-align: right;\n",
       "    }\n",
       "</style>\n",
       "<table border=\"1\" class=\"dataframe\">\n",
       "  <thead>\n",
       "    <tr style=\"text-align: right;\">\n",
       "      <th></th>\n",
       "      <th>vantagePoint</th>\n",
       "      <th>successful_msms</th>\n",
       "    </tr>\n",
       "  </thead>\n",
       "  <tbody>\n",
       "    <tr>\n",
       "      <th>0</th>\n",
       "      <td>Africa South</td>\n",
       "      <td>33243</td>\n",
       "    </tr>\n",
       "    <tr>\n",
       "      <th>5</th>\n",
       "      <td>US East</td>\n",
       "      <td>33744</td>\n",
       "    </tr>\n",
       "    <tr>\n",
       "      <th>1</th>\n",
       "      <td>Asia Pacific Northeast</td>\n",
       "      <td>33977</td>\n",
       "    </tr>\n",
       "    <tr>\n",
       "      <th>3</th>\n",
       "      <td>Europe Central</td>\n",
       "      <td>34041</td>\n",
       "    </tr>\n",
       "    <tr>\n",
       "      <th>2</th>\n",
       "      <td>Asia Pacific Southeast</td>\n",
       "      <td>34054</td>\n",
       "    </tr>\n",
       "    <tr>\n",
       "      <th>6</th>\n",
       "      <td>US West</td>\n",
       "      <td>34150</td>\n",
       "    </tr>\n",
       "    <tr>\n",
       "      <th>4</th>\n",
       "      <td>South America East</td>\n",
       "      <td>34261</td>\n",
       "    </tr>\n",
       "  </tbody>\n",
       "</table>\n",
       "</div>"
      ],
      "text/plain": [
       "             vantagePoint  successful_msms\n",
       "0            Africa South            33243\n",
       "5                 US East            33744\n",
       "1  Asia Pacific Northeast            33977\n",
       "3          Europe Central            34041\n",
       "2  Asia Pacific Southeast            34054\n",
       "6                 US West            34150\n",
       "4      South America East            34261"
      ]
     },
     "execution_count": 29,
     "metadata": {},
     "output_type": "execute_result"
    }
   ],
   "source": [
    "measurements[measurements.error_ == 'none'].groupby('vantagePoint', as_index=False).agg(successful_msms=('msm_id', pd.Series.nunique)).sort_values('successful_msms')"
   ]
  },
  {
   "cell_type": "code",
   "execution_count": 8,
   "id": "b2604b78",
   "metadata": {},
   "outputs": [
    {
     "data": {
      "text/html": [
       "<div>\n",
       "<style scoped>\n",
       "    .dataframe tbody tr th:only-of-type {\n",
       "        vertical-align: middle;\n",
       "    }\n",
       "\n",
       "    .dataframe tbody tr th {\n",
       "        vertical-align: top;\n",
       "    }\n",
       "\n",
       "    .dataframe thead th {\n",
       "        text-align: right;\n",
       "    }\n",
       "</style>\n",
       "<table border=\"1\" class=\"dataframe\">\n",
       "  <thead>\n",
       "    <tr style=\"text-align: right;\">\n",
       "      <th></th>\n",
       "      <th>server</th>\n",
       "      <th>unique_vps</th>\n",
       "    </tr>\n",
       "  </thead>\n",
       "  <tbody>\n",
       "    <tr>\n",
       "      <th>0</th>\n",
       "      <td>101.32.27.77</td>\n",
       "      <td>7</td>\n",
       "    </tr>\n",
       "    <tr>\n",
       "      <th>1</th>\n",
       "      <td>103.105.98.141</td>\n",
       "      <td>2</td>\n",
       "    </tr>\n",
       "    <tr>\n",
       "      <th>2</th>\n",
       "      <td>103.123.108.197</td>\n",
       "      <td>7</td>\n",
       "    </tr>\n",
       "    <tr>\n",
       "      <th>3</th>\n",
       "      <td>103.124.95.99</td>\n",
       "      <td>2</td>\n",
       "    </tr>\n",
       "    <tr>\n",
       "      <th>4</th>\n",
       "      <td>103.172.17.225</td>\n",
       "      <td>3</td>\n",
       "    </tr>\n",
       "    <tr>\n",
       "      <th>...</th>\n",
       "      <td>...</td>\n",
       "      <td>...</td>\n",
       "    </tr>\n",
       "    <tr>\n",
       "      <th>121</th>\n",
       "      <td>83.212.102.207</td>\n",
       "      <td>1</td>\n",
       "    </tr>\n",
       "    <tr>\n",
       "      <th>122</th>\n",
       "      <td>89.58.10.169</td>\n",
       "      <td>7</td>\n",
       "    </tr>\n",
       "    <tr>\n",
       "      <th>123</th>\n",
       "      <td>91.239.27.199</td>\n",
       "      <td>1</td>\n",
       "    </tr>\n",
       "    <tr>\n",
       "      <th>124</th>\n",
       "      <td>93.115.24.205</td>\n",
       "      <td>7</td>\n",
       "    </tr>\n",
       "    <tr>\n",
       "      <th>125</th>\n",
       "      <td>94.140.14.14</td>\n",
       "      <td>1</td>\n",
       "    </tr>\n",
       "  </tbody>\n",
       "</table>\n",
       "<p>126 rows × 2 columns</p>\n",
       "</div>"
      ],
      "text/plain": [
       "              server  unique_vps\n",
       "0       101.32.27.77           7\n",
       "1     103.105.98.141           2\n",
       "2    103.123.108.197           7\n",
       "3      103.124.95.99           2\n",
       "4     103.172.17.225           3\n",
       "..               ...         ...\n",
       "121   83.212.102.207           1\n",
       "122     89.58.10.169           7\n",
       "123    91.239.27.199           1\n",
       "124    93.115.24.205           7\n",
       "125     94.140.14.14           1\n",
       "\n",
       "[126 rows x 2 columns]"
      ]
     },
     "execution_count": 8,
     "metadata": {},
     "output_type": "execute_result"
    }
   ],
   "source": [
    "server_failure_vp_count = measurements[measurements.error_ != 'none'].groupby(['server'], as_index=False).agg(unique_vps=('vantagePoint', pd.Series.nunique))\n",
    "server_failure_vp_count\n"
   ]
  },
  {
   "cell_type": "code",
   "execution_count": 9,
   "id": "461b2d24",
   "metadata": {},
   "outputs": [
    {
     "data": {
      "text/plain": [
       "1    59\n",
       "7    35\n",
       "2    14\n",
       "3     7\n",
       "6     6\n",
       "4     3\n",
       "5     2\n",
       "Name: unique_vps, dtype: int64"
      ]
     },
     "execution_count": 9,
     "metadata": {},
     "output_type": "execute_result"
    }
   ],
   "source": [
    "server_failure_vp_count.unique_vps.value_counts()"
   ]
  },
  {
   "cell_type": "code",
   "execution_count": 10,
   "id": "dff02518",
   "metadata": {},
   "outputs": [],
   "source": [
    "servers_that_fail_on_single_vm = server_failure_vp_count[server_failure_vp_count.unique_vps == 1].server.unique().tolist()"
   ]
  },
  {
   "cell_type": "code",
   "execution_count": 11,
   "id": "370821de",
   "metadata": {},
   "outputs": [
    {
     "data": {
      "text/plain": [
       "Africa South              237\n",
       "Europe Central            145\n",
       "Asia Pacific Southeast     75\n",
       "South America East         15\n",
       "Asia Pacific Northeast      9\n",
       "US West                     8\n",
       "US East                     6\n",
       "Name: vantagePoint, dtype: int64"
      ]
     },
     "execution_count": 11,
     "metadata": {},
     "output_type": "execute_result"
    }
   ],
   "source": [
    "measurements[(measurements.error_ != 'none') & (measurements.server.isin(servers_that_fail_on_single_vm))].vantagePoint.value_counts()"
   ]
  },
  {
   "cell_type": "code",
   "execution_count": 12,
   "id": "5d080af9",
   "metadata": {},
   "outputs": [
    {
     "data": {
      "text/plain": [
       "cw: player load    226\n",
       "msm: playback        7\n",
       "cw: driver.get       3\n",
       "msm: driver.get      1\n",
       "Name: error_, dtype: int64"
      ]
     },
     "execution_count": 12,
     "metadata": {},
     "output_type": "execute_result"
    }
   ],
   "source": [
    "measurements[(measurements.error_ != 'none') & (measurements.server.isin(servers_that_fail_on_single_vm)) & (measurements.vantagePoint == \"Africa South\")].error_.value_counts()"
   ]
  },
  {
   "cell_type": "code",
   "execution_count": 13,
   "id": "351ead50",
   "metadata": {},
   "outputs": [
    {
     "data": {
      "text/plain": [
       "cw: player load    140\n",
       "msm: playback        5\n",
       "Name: error_, dtype: int64"
      ]
     },
     "execution_count": 13,
     "metadata": {},
     "output_type": "execute_result"
    }
   ],
   "source": [
    "measurements[(measurements.error_ != 'none') & (measurements.server.isin(servers_that_fail_on_single_vm)) & (measurements.vantagePoint == \"Europe Central\")].error_.value_counts()"
   ]
  },
  {
   "cell_type": "code",
   "execution_count": 14,
   "id": "4bd1c989",
   "metadata": {},
   "outputs": [
    {
     "data": {
      "text/plain": [
       "msm: playback      3\n",
       "cw: player load    3\n",
       "Name: error_, dtype: int64"
      ]
     },
     "execution_count": 14,
     "metadata": {},
     "output_type": "execute_result"
    }
   ],
   "source": [
    "measurements[(measurements.error_ != 'none') & (measurements.server.isin(servers_that_fail_on_single_vm)) & (measurements.vantagePoint == \"US East\")].error_.value_counts()"
   ]
  },
  {
   "cell_type": "code",
   "execution_count": 15,
   "id": "ad956d1c",
   "metadata": {},
   "outputs": [
    {
     "data": {
      "text/plain": [
       "msm: playback      5\n",
       "cw: player load    4\n",
       "Name: error_, dtype: int64"
      ]
     },
     "execution_count": 15,
     "metadata": {},
     "output_type": "execute_result"
    }
   ],
   "source": [
    "measurements[(measurements.error_ != 'none') & (measurements.server.isin(servers_that_fail_on_single_vm)) & (measurements.vantagePoint == \"Asia Pacific Northeast\")].error_.value_counts()"
   ]
  },
  {
   "cell_type": "code",
   "execution_count": 16,
   "id": "8013a671",
   "metadata": {},
   "outputs": [],
   "source": [
    "servers_that_fail_on_every_vm = server_failure_vp_count[server_failure_vp_count.unique_vps == 7].server.unique().tolist()"
   ]
  },
  {
   "cell_type": "code",
   "execution_count": 17,
   "id": "12b08897",
   "metadata": {},
   "outputs": [
    {
     "data": {
      "text/plain": [
       "Europe Central            1895\n",
       "Africa South              1879\n",
       "Asia Pacific Southeast    1874\n",
       "US West                   1868\n",
       "South America East        1847\n",
       "US East                   1841\n",
       "Asia Pacific Northeast    1798\n",
       "Name: vantagePoint, dtype: int64"
      ]
     },
     "execution_count": 17,
     "metadata": {},
     "output_type": "execute_result"
    }
   ],
   "source": [
    "measurements[(measurements.error_ != 'none') & (measurements.server.isin(servers_that_fail_on_every_vm))].vantagePoint.value_counts()"
   ]
  },
  {
   "cell_type": "code",
   "execution_count": 18,
   "id": "4a819cef",
   "metadata": {},
   "outputs": [
    {
     "data": {
      "text/plain": [
       "cw: player load     12895\n",
       "msm: player load       50\n",
       "cw: driver.get         31\n",
       "msm: playback          15\n",
       "msm: driver.get        11\n",
       "Name: error_, dtype: int64"
      ]
     },
     "execution_count": 18,
     "metadata": {},
     "output_type": "execute_result"
    }
   ],
   "source": [
    "measurements[(measurements.error_ != 'none') & (measurements.server.isin(servers_that_fail_on_every_vm))].error_.value_counts()"
   ]
  },
  {
   "cell_type": "code",
   "execution_count": 19,
   "id": "e19aeb57",
   "metadata": {},
   "outputs": [
    {
     "data": {
      "text/plain": [
       "260"
      ]
     },
     "execution_count": 19,
     "metadata": {},
     "output_type": "execute_result"
    }
   ],
   "source": [
    "measurements[measurements.error == ''].server.nunique()"
   ]
  },
  {
   "cell_type": "code",
   "execution_count": 20,
   "id": "590a13b7",
   "metadata": {},
   "outputs": [
    {
     "data": {
      "text/plain": [
       "126"
      ]
     },
     "execution_count": 20,
     "metadata": {},
     "output_type": "execute_result"
    }
   ],
   "source": [
    "measurements[measurements.error != ''].server.nunique()"
   ]
  },
  {
   "cell_type": "code",
   "execution_count": 21,
   "id": "a92c4f8b",
   "metadata": {},
   "outputs": [
    {
     "data": {
      "text/plain": [
       "tls      49163\n",
       "quic     49087\n",
       "https    49066\n",
       "tcp      48762\n",
       "udp      48686\n",
       "Name: protocol, dtype: int64"
      ]
     },
     "execution_count": 21,
     "metadata": {},
     "output_type": "execute_result"
    }
   ],
   "source": [
    "measurements[measurements.server.isin(measurements[measurements.error == ''].server.unique())].protocol.value_counts()"
   ]
  },
  {
   "cell_type": "code",
   "execution_count": 22,
   "id": "2d65b2a3",
   "metadata": {},
   "outputs": [
    {
     "data": {
      "text/plain": [
       "msm_id                   object\n",
       "py_time                   int64\n",
       "js_time                 float64\n",
       "resource_time_origin    float64\n",
       "protocol                 object\n",
       "server                   object\n",
       "domain                   object\n",
       "vantagePoint             object\n",
       "timestamp                object\n",
       "suggested_quality        object\n",
       "player_width              int64\n",
       "player_height             int64\n",
       "start_time                int64\n",
       "play_time                 int64\n",
       "video_ids                object\n",
       "cacheWarming              int64\n",
       "error                    object\n",
       "error_                   object\n",
       "dtype: object"
      ]
     },
     "execution_count": 22,
     "metadata": {},
     "output_type": "execute_result"
    }
   ],
   "source": [
    "measurements.dtypes"
   ]
  },
  {
   "cell_type": "code",
   "execution_count": 23,
   "id": "c6507b99",
   "metadata": {},
   "outputs": [
    {
     "data": {
      "text/html": [
       "<div>\n",
       "<style scoped>\n",
       "    .dataframe tbody tr th:only-of-type {\n",
       "        vertical-align: middle;\n",
       "    }\n",
       "\n",
       "    .dataframe tbody tr th {\n",
       "        vertical-align: top;\n",
       "    }\n",
       "\n",
       "    .dataframe thead th {\n",
       "        text-align: right;\n",
       "    }\n",
       "</style>\n",
       "<table border=\"1\" class=\"dataframe\">\n",
       "  <thead>\n",
       "    <tr style=\"text-align: right;\">\n",
       "      <th></th>\n",
       "      <th>server</th>\n",
       "      <th>protocol</th>\n",
       "      <th>vantagePoint</th>\n",
       "      <th>num_msm</th>\n",
       "    </tr>\n",
       "  </thead>\n",
       "  <tbody>\n",
       "    <tr>\n",
       "      <th>4347</th>\n",
       "      <td>185.254.18.242</td>\n",
       "      <td>tls</td>\n",
       "      <td>Africa South</td>\n",
       "      <td>1</td>\n",
       "    </tr>\n",
       "    <tr>\n",
       "      <th>6888</th>\n",
       "      <td>47.107.121.125</td>\n",
       "      <td>udp</td>\n",
       "      <td>Asia Pacific Southeast</td>\n",
       "      <td>1</td>\n",
       "    </tr>\n",
       "    <tr>\n",
       "      <th>4993</th>\n",
       "      <td>199.101.171.125</td>\n",
       "      <td>https</td>\n",
       "      <td>South America East</td>\n",
       "      <td>2</td>\n",
       "    </tr>\n",
       "    <tr>\n",
       "      <th>6861</th>\n",
       "      <td>47.103.26.225</td>\n",
       "      <td>tls</td>\n",
       "      <td>Asia Pacific Southeast</td>\n",
       "      <td>2</td>\n",
       "    </tr>\n",
       "    <tr>\n",
       "      <th>863</th>\n",
       "      <td>119.3.92.152</td>\n",
       "      <td>tls</td>\n",
       "      <td>Asia Pacific Southeast</td>\n",
       "      <td>2</td>\n",
       "    </tr>\n",
       "    <tr>\n",
       "      <th>...</th>\n",
       "      <td>...</td>\n",
       "      <td>...</td>\n",
       "      <td>...</td>\n",
       "      <td>...</td>\n",
       "    </tr>\n",
       "    <tr>\n",
       "      <th>3096</th>\n",
       "      <td>172.104.183.19</td>\n",
       "      <td>udp</td>\n",
       "      <td>Asia Pacific Northeast</td>\n",
       "      <td>28</td>\n",
       "    </tr>\n",
       "    <tr>\n",
       "      <th>3095</th>\n",
       "      <td>172.104.183.19</td>\n",
       "      <td>udp</td>\n",
       "      <td>Africa South</td>\n",
       "      <td>28</td>\n",
       "    </tr>\n",
       "    <tr>\n",
       "      <th>3094</th>\n",
       "      <td>172.104.183.19</td>\n",
       "      <td>tls</td>\n",
       "      <td>US West</td>\n",
       "      <td>28</td>\n",
       "    </tr>\n",
       "    <tr>\n",
       "      <th>3092</th>\n",
       "      <td>172.104.183.19</td>\n",
       "      <td>tls</td>\n",
       "      <td>South America East</td>\n",
       "      <td>28</td>\n",
       "    </tr>\n",
       "    <tr>\n",
       "      <th>8730</th>\n",
       "      <td>98.154.23.186</td>\n",
       "      <td>udp</td>\n",
       "      <td>US West</td>\n",
       "      <td>28</td>\n",
       "    </tr>\n",
       "  </tbody>\n",
       "</table>\n",
       "<p>8731 rows × 4 columns</p>\n",
       "</div>"
      ],
      "text/plain": [
       "               server protocol            vantagePoint  num_msm\n",
       "4347   185.254.18.242      tls            Africa South        1\n",
       "6888   47.107.121.125      udp  Asia Pacific Southeast        1\n",
       "4993  199.101.171.125    https      South America East        2\n",
       "6861    47.103.26.225      tls  Asia Pacific Southeast        2\n",
       "863      119.3.92.152      tls  Asia Pacific Southeast        2\n",
       "...               ...      ...                     ...      ...\n",
       "3096   172.104.183.19      udp  Asia Pacific Northeast       28\n",
       "3095   172.104.183.19      udp            Africa South       28\n",
       "3094   172.104.183.19      tls                 US West       28\n",
       "3092   172.104.183.19      tls      South America East       28\n",
       "8730    98.154.23.186      udp                 US West       28\n",
       "\n",
       "[8731 rows x 4 columns]"
      ]
     },
     "execution_count": 23,
     "metadata": {},
     "output_type": "execute_result"
    }
   ],
   "source": [
    "measurements[measurements.error == ''].groupby(['server', 'protocol', 'vantagePoint'], as_index=False).agg(num_msm=('msm_id',pd.Series.nunique)).sort_values('num_msm')"
   ]
  },
  {
   "cell_type": "code",
   "execution_count": 24,
   "id": "d9dbc19a",
   "metadata": {},
   "outputs": [],
   "source": [
    "successful_msms = measurements[(measurements.error == '') & (measurements.cacheWarming == 0)].groupby(['server', 'protocol', 'vantagePoint'], as_index=False).agg(num_msm=('msm_id',pd.Series.nunique))"
   ]
  },
  {
   "cell_type": "code",
   "execution_count": 30,
   "id": "3da04f62",
   "metadata": {},
   "outputs": [
    {
     "data": {
      "text/plain": [
       "115"
      ]
     },
     "execution_count": 30,
     "metadata": {},
     "output_type": "execute_result"
    }
   ],
   "source": [
    "successful_msms[successful_msms.num_msm < 14].server.nunique()"
   ]
  },
  {
   "cell_type": "code",
   "execution_count": 31,
   "id": "11b52a0f",
   "metadata": {},
   "outputs": [],
   "source": [
    "resolvers_with_full_results = dict()\n",
    "\n",
    "for vp in successful_msms.vantagePoint.unique():\n",
    "    resolvers_with_full_results[vp] = set()\n",
    "    \n",
    "    for server in successful_msms.server.unique():\n",
    "        found_incomplete=False\n",
    "        for protocol in successful_msms.protocol.unique():\n",
    "            df_tmp = successful_msms[(successful_msms.server == server) & (successful_msms.vantagePoint == vp) & (successful_msms.protocol == protocol)]\n",
    "            if len(df_tmp) == 0:\n",
    "                found_incomplete = True\n",
    "                break\n",
    "            else:\n",
    "                num_msm = df_tmp.num_msm.values[0]\n",
    "                if num_msm < 14:\n",
    "                    found_incomplete = True\n",
    "                    break\n",
    "        if not found_incomplete:\n",
    "            resolvers_with_full_results[vp].add(server)"
   ]
  },
  {
   "cell_type": "code",
   "execution_count": 32,
   "id": "cb0956dc",
   "metadata": {},
   "outputs": [
    {
     "data": {
      "text/plain": [
       "{'103.232.207.2',\n",
       " '104.238.154.123',\n",
       " '104.244.72.39',\n",
       " '107.172.30.115',\n",
       " '107.191.51.151',\n",
       " '108.166.219.158',\n",
       " '109.205.178.178',\n",
       " '128.199.115.141',\n",
       " '13.250.108.212',\n",
       " '130.61.24.160',\n",
       " '134.209.81.226',\n",
       " '135.125.181.234',\n",
       " '135.125.236.23',\n",
       " '138.2.72.170',\n",
       " '138.2.79.62',\n",
       " '138.2.91.167',\n",
       " '139.162.70.69',\n",
       " '140.238.10.79',\n",
       " '140.238.42.214',\n",
       " '141.95.140.195',\n",
       " '146.56.112.4',\n",
       " '146.56.176.39',\n",
       " '146.56.177.76',\n",
       " '146.56.184.134',\n",
       " '146.59.226.118',\n",
       " '146.59.23.151',\n",
       " '146.59.32.198',\n",
       " '147.189.137.154',\n",
       " '150.230.103.62',\n",
       " '150.230.197.114',\n",
       " '150.230.99.64',\n",
       " '152.70.189.89',\n",
       " '152.70.232.216',\n",
       " '154.49.211.118',\n",
       " '16.162.25.97',\n",
       " '160.16.123.42',\n",
       " '164.90.199.170',\n",
       " '168.138.36.90',\n",
       " '168.138.50.5',\n",
       " '168.138.53.111',\n",
       " '172.105.101.43',\n",
       " '173.255.211.87',\n",
       " '173.82.151.158',\n",
       " '173.82.243.163',\n",
       " '173.82.68.70',\n",
       " '176.103.130.130',\n",
       " '176.103.130.131',\n",
       " '176.103.130.132',\n",
       " '176.103.130.136',\n",
       " '176.103.130.149',\n",
       " '176.103.130.150',\n",
       " '176.103.134.134',\n",
       " '176.103.134.135',\n",
       " '176.103.134.149',\n",
       " '176.103.134.34',\n",
       " '176.103.134.35',\n",
       " '176.113.83.49',\n",
       " '178.62.207.252',\n",
       " '185.150.117.6',\n",
       " '185.17.3.188',\n",
       " '185.177.218.107',\n",
       " '185.212.57.244',\n",
       " '185.244.173.222',\n",
       " '188.116.27.94',\n",
       " '188.154.194.83',\n",
       " '188.227.86.112',\n",
       " '188.68.45.12',\n",
       " '192.26.105.29',\n",
       " '192.3.127.219',\n",
       " '192.3.253.106',\n",
       " '192.3.73.139',\n",
       " '192.46.231.38',\n",
       " '193.123.252.172',\n",
       " '193.201.126.42',\n",
       " '194.67.121.139',\n",
       " '195.90.213.140',\n",
       " '198.211.40.216',\n",
       " '199.115.228.98',\n",
       " '202.61.207.68',\n",
       " '204.44.76.45',\n",
       " '209.17.118.5',\n",
       " '212.86.101.213',\n",
       " '217.160.68.68',\n",
       " '218.251.80.123',\n",
       " '220.77.190.228',\n",
       " '23.239.29.136',\n",
       " '3.9.78.39',\n",
       " '31.31.202.109',\n",
       " '34.101.136.158',\n",
       " '34.69.170.155',\n",
       " '35.156.129.204',\n",
       " '36.91.73.210',\n",
       " '37.114.32.22',\n",
       " '37.114.32.44',\n",
       " '37.221.215.77',\n",
       " '45.117.81.204',\n",
       " '45.129.2.32',\n",
       " '45.136.245.220',\n",
       " '45.147.54.7',\n",
       " '45.79.151.58',\n",
       " '45.86.182.127',\n",
       " '46.232.251.76',\n",
       " '5.181.48.19',\n",
       " '5.181.76.195',\n",
       " '5.255.100.5',\n",
       " '5.255.103.147',\n",
       " '50.116.59.251',\n",
       " '51.158.105.226',\n",
       " '51.195.103.20',\n",
       " '51.195.116.94',\n",
       " '51.38.176.180',\n",
       " '52.233.72.204',\n",
       " '54.249.180.176',\n",
       " '64.225.50.86',\n",
       " '66.42.74.125',\n",
       " '67.198.131.72',\n",
       " '67.205.154.232',\n",
       " '80.209.236.92',\n",
       " '80.85.136.144',\n",
       " '80.91.176.168',\n",
       " '82.118.227.235',\n",
       " '85.192.48.70',\n",
       " '85.214.195.112',\n",
       " '85.235.65.70',\n",
       " '86.238.66.147',\n",
       " '89.208.251.213',\n",
       " '92.246.84.75',\n",
       " '92.38.241.36',\n",
       " '94.140.14.140',\n",
       " '94.140.14.15',\n",
       " '94.140.14.49',\n",
       " '94.140.14.59',\n",
       " '94.140.15.15',\n",
       " '98.154.23.186'}"
      ]
     },
     "execution_count": 32,
     "metadata": {},
     "output_type": "execute_result"
    }
   ],
   "source": [
    "resolvers_with_full_results_set = set()\n",
    "for vp in successful_msms.vantagePoint.unique():\n",
    "    if len(resolvers_with_full_results_set) == 0:\n",
    "        resolvers_with_full_results_set = resolvers_with_full_results[vp]\n",
    "    else:\n",
    "        resolvers_with_full_results_set = resolvers_with_full_results_set.intersection(resolvers_with_full_results[vp])\n",
    "resolvers_with_full_results_set"
   ]
  },
  {
   "cell_type": "code",
   "execution_count": 33,
   "id": "0ac162e0",
   "metadata": {},
   "outputs": [
    {
     "data": {
      "text/plain": [
       "134"
      ]
     },
     "execution_count": 33,
     "metadata": {},
     "output_type": "execute_result"
    }
   ],
   "source": [
    "len(resolvers_with_full_results_set)"
   ]
  },
  {
   "cell_type": "code",
   "execution_count": 34,
   "id": "461924f7",
   "metadata": {
    "scrolled": true
   },
   "outputs": [
    {
     "name": "stdout",
     "output_type": "stream",
     "text": [
      "{'139.162.70.69', '94.140.14.49', '176.103.130.131', '185.17.3.188', '45.55.104.59', '43.129.73.66', '210.247.245.78', '37.235.49.163', '176.103.130.130', '103.232.207.3', '45.79.151.58', '150.230.103.62', '176.113.83.49', '103.78.123.211', '104.244.79.105', '147.189.137.154', '146.56.112.4', '194.67.121.139', '103.172.17.226', '159.223.136.223', '83.212.102.207', '80.85.136.144', '67.205.154.232', '116.118.44.237', '176.103.134.5', '149.56.45.165', '138.3.219.11', '37.1.195.86', '150.230.99.64', '160.16.123.42', '192.26.105.29', '94.140.14.141', '64.112.126.239', '35.156.129.204', '188.166.209.249', '103.123.108.197', '43.154.154.162', '103.176.79.211', '185.121.25.64', '185.175.57.120', '217.160.68.68', '176.103.130.132', '94.140.14.140', '138.2.84.109', '193.201.126.42', '188.68.45.12', '45.129.2.32', '80.209.236.92', '85.235.65.70', '104.238.154.123', '103.172.17.225', '31.44.0.4', '185.177.218.107', '13.250.108.212', '47.254.64.251', '180.93.137.1', '94.140.15.16', '199.115.228.98', '45.86.182.127', '64.225.50.86', '46.232.251.76', '141.95.140.195', '146.59.32.198', '152.70.54.34', '128.199.66.193', '173.255.211.87', '37.114.32.99', '185.150.117.6', '108.166.219.158', '139.59.106.60', '185.244.173.222', '37.221.215.77', '51.195.103.20', '31.31.202.109', '167.99.37.126', '5.1.84.150', '140.238.42.214', '198.211.40.216', '35.243.221.111', '45.136.245.220', '192.3.127.219', '185.212.57.244', '178.62.207.252', '43.128.20.252', '45.147.54.7', '45.67.32.107', '94.140.14.15', '176.103.130.137', '220.77.190.228', '103.105.98.141', '172.104.183.19', '146.56.160.153', '160.251.96.67', '35.241.97.81', '45.78.51.5', '107.172.103.160', '188.165.4.138', '173.82.68.70', '138.2.72.170', '147.182.195.29', '66.42.74.125', '218.251.80.123', '40.83.113.177', '23.94.120.177', '152.70.189.89', '176.103.134.134', '51.195.116.94', '188.68.59.46', '5.181.48.19', '135.125.181.234', '168.138.53.111', '103.237.147.61', '45.95.203.99', '152.70.70.91', '16.162.44.250', '202.61.207.68', '176.103.130.149', '130.61.24.160', '85.214.195.112', '92.246.84.75', '176.103.134.150', '188.227.86.112', '176.103.130.150', '34.101.136.158', '167.99.236.104', '46.137.195.96', '85.192.48.70', '176.103.134.4', '94.140.14.14', '193.123.252.172', '173.255.211.77', '150.230.197.114', '134.209.81.226', '195.90.213.140', '140.238.10.79', '89.208.251.213', '140.238.36.23', '176.103.130.136', '92.38.241.36', '54.37.203.237', '168.138.50.5', '173.82.243.163', '37.114.32.22', '51.158.105.226', '34.69.170.155', '161.97.116.66', '15.165.113.96', '176.103.134.149', '188.154.194.83', '20.24.142.152', '168.138.36.90', '132.226.232.79', '36.91.73.210', '176.103.130.134', '176.103.134.35', '94.140.14.59', '52.229.189.143', '8.210.148.24', '86.238.66.147', '109.205.178.178', '146.56.184.134', '154.49.211.118', '45.117.81.204', '176.103.134.34', '172.105.101.43', '128.199.115.141', '107.191.51.151', '107.172.30.115', '5.135.233.74', '5.181.76.195', '47.243.165.176', '173.82.151.158', '50.116.59.251', '188.116.27.94', '3.9.78.39', '13.124.186.64', '67.198.131.72', '146.56.177.76', '192.46.231.38', '54.249.180.176', '185.180.206.110', '5.255.100.5', '94.140.15.15', '152.70.232.216', '23.239.29.136', '138.2.79.62', '93.115.24.204', '135.125.236.23', '192.3.253.106', '164.90.199.170', '52.233.72.204', '204.44.76.45', '37.114.32.44', '98.154.23.186', '164.92.136.119', '16.162.25.97', '146.56.176.39', '51.75.162.101', '46.3.242.170', '176.103.134.135', '103.124.95.99', '5.255.103.147', '103.232.207.2', '138.2.91.167', '104.244.72.39', '209.17.118.5', '80.91.176.168', '82.118.227.235', '146.59.226.118', '146.59.23.151', '51.38.176.180', '140.83.39.110', '45.146.255.31', '185.200.34.171', '212.86.101.213', '192.3.73.139', '195.34.241.205', '23.95.209.33', '158.101.149.111', '157.119.101.122', '103.179.45.33'}\n",
      "221\n"
     ]
    }
   ],
   "source": [
    "resolvers_with_half_results = dict()\n",
    "\n",
    "for vp in successful_msms.vantagePoint.unique():\n",
    "    resolvers_with_half_results[vp] = set()\n",
    "    \n",
    "    for server in successful_msms.server.unique():\n",
    "        found_incomplete=False\n",
    "        for protocol in successful_msms.protocol.unique():\n",
    "            df_tmp = successful_msms[(successful_msms.server == server) & (successful_msms.vantagePoint == vp) & (successful_msms.protocol == protocol)]\n",
    "            if len(df_tmp) == 0:\n",
    "                found_incomplete = True\n",
    "                break\n",
    "            else:\n",
    "                num_msm = df_tmp.num_msm.values[0]\n",
    "                if num_msm < 7:\n",
    "                    found_incomplete = True\n",
    "                    break\n",
    "        if not found_incomplete:\n",
    "            resolvers_with_half_results[vp].add(server)\n",
    "resolvers_with_half_results_set = set()\n",
    "for vp in successful_msms.vantagePoint.unique():\n",
    "    if len(resolvers_with_half_results_set) == 0:\n",
    "        resolvers_with_half_results_set = resolvers_with_half_results[vp]\n",
    "    else:\n",
    "        resolvers_with_half_results_set = resolvers_with_half_results_set.intersection(resolvers_with_half_results[vp])\n",
    "print(resolvers_with_half_results_set)\n",
    "print(len(resolvers_with_half_results_set))"
   ]
  },
  {
   "cell_type": "code",
   "execution_count": null,
   "id": "2fa50865",
   "metadata": {},
   "outputs": [],
   "source": []
  }
 ],
 "metadata": {
  "kernelspec": {
   "display_name": "Python 3.8.12",
   "language": "python",
   "name": "python3"
  },
  "language_info": {
   "codemirror_mode": {
    "name": "ipython",
    "version": 3
   },
   "file_extension": ".py",
   "mimetype": "text/x-python",
   "name": "python",
   "nbconvert_exporter": "python",
   "pygments_lexer": "ipython3",
   "version": "3.8.12"
  }
 },
 "nbformat": 4,
 "nbformat_minor": 5
}
