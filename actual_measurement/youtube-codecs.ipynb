{
 "cells": [
  {
   "cell_type": "code",
   "execution_count": 1,
   "id": "f0bc9355",
   "metadata": {},
   "outputs": [],
   "source": [
    "import pandas as pd\n",
    "import sqlite3\n",
    "import datetime\n",
    "import numpy as np\n",
    "import matplotlib as mpl\n",
    "import seaborn as sns\n",
    "import matplotlib.pyplot as plt\n",
    "import matplotlib.ticker as ticker\n",
    "from matplotlib.ticker import PercentFormatter\n",
    "import math\n",
    "import Cdf\n",
    "import Pmf\n",
    "from urllib.parse import urlparse, parse_qs\n",
    "mpl.rcParams['figure.dpi'] = 200\n",
    "okabe_ito = [\"#000000\", \"#E69F00\", \"#56B4E9\", \"#009E73\", \"#F0E442\", \"#0072B2\", \"#D55E00\", \"#CC79A7\"]\n",
    "sns.set_context('paper')\n",
    "sns.set_palette(sns.color_palette(okabe_ito))\n",
    "#https://stackoverflow.com/a/45846841\n",
    "def human_format(num):\n",
    "    num = float('{:.3g}'.format(num))\n",
    "    magnitude = 0\n",
    "    while abs(num) >= 1000:\n",
    "        magnitude += 1\n",
    "        num /= 1000.0\n",
    "    return '{}{}'.format('{:f}'.format(num).rstrip('0').rstrip('.'), ['', 'K', 'M', 'B', 'T'][magnitude])\n",
    "def make_cdf(series):\n",
    "    return series.value_counts(normalize=True).sort_index().cumsum()\n",
    "def make_pdf(series):\n",
    "    return series.value_counts(normalize=True).sort_index()\n",
    "from mpl_toolkits.axes_grid1 import make_axes_locatable\n",
    "from datetime import datetime\n",
    "mpl.rcParams['figure.dpi'] = 100\n",
    "import pickle"
   ]
  },
  {
   "cell_type": "code",
   "execution_count": 2,
   "id": "c41a0a2b",
   "metadata": {},
   "outputs": [],
   "source": [
    "conn = sqlite3.connect('web-performance-youtube-merged.db')"
   ]
  },
  {
   "cell_type": "code",
   "execution_count": 7,
   "id": "6ac2ca47",
   "metadata": {},
   "outputs": [],
   "source": [
    "df_nerd_stats = pd.read_sql_query(\"\"\"\n",
    "SELECT * FROM nerd_stats\n",
    "\"\"\", conn)\n",
    "measurements = pd.read_sql_query(\"SELECT * FROM measurements\", conn)\n",
    "df_nerd_stats = pd.merge(df_nerd_stats, measurements, on='msm_id')\n"
   ]
  },
  {
   "cell_type": "code",
   "execution_count": 8,
   "id": "822f25ad",
   "metadata": {},
   "outputs": [
    {
     "data": {
      "text/plain": [
       "vp09.00.51.08.01.01.01.01.00 (302) / opus (251)    614418\n",
       "vp09.00.51.08.01.01.01.01.00 (247) / opus (251)    613447\n",
       "vp09.00.51.08.01.01.01.01.00 (244) / opus (251)     37124\n",
       "av01.0.04M.08 (397) / opus (251)                    35885\n",
       "av01.0.00M.08 (395) / opus (251)                        4\n",
       "av01.0.01M.08 (396) / opus (251)                        2\n",
       "vp09.00.51.08.01.01.01.01.00 (243) / opus (251)         2\n",
       "Name: codecs, dtype: int64"
      ]
     },
     "execution_count": 8,
     "metadata": {},
     "output_type": "execute_result"
    }
   ],
   "source": [
    "df_nerd_stats.codecs.value_counts()"
   ]
  },
  {
   "cell_type": "code",
   "execution_count": 9,
   "id": "478bd9ea",
   "metadata": {},
   "outputs": [
    {
     "data": {
      "text/plain": [
       "Africa South              14985\n",
       "Asia Pacific Northeast     6492\n",
       "South America East         4717\n",
       "Asia Pacific Southeast     4150\n",
       "Europe Central             2420\n",
       "US East                    1689\n",
       "US West                    1438\n",
       "Name: vantagePoint, dtype: int64"
      ]
     },
     "execution_count": 9,
     "metadata": {},
     "output_type": "execute_result"
    }
   ],
   "source": [
    "df_nerd_stats[df_nerd_stats.codecs.str.startswith('av01')].vantagePoint.value_counts()"
   ]
  },
  {
   "cell_type": "code",
   "execution_count": 10,
   "id": "bbc0b780",
   "metadata": {},
   "outputs": [
    {
     "data": {
      "text/plain": [
       "US West                   186288\n",
       "Europe Central            184657\n",
       "US East                   183804\n",
       "South America East        183581\n",
       "Asia Pacific Southeast    182113\n",
       "Asia Pacific Northeast    179573\n",
       "Africa South              164975\n",
       "Name: vantagePoint, dtype: int64"
      ]
     },
     "execution_count": 10,
     "metadata": {},
     "output_type": "execute_result"
    }
   ],
   "source": [
    "df_nerd_stats[~df_nerd_stats.codecs.str.startswith('av01')].vantagePoint.value_counts()"
   ]
  },
  {
   "cell_type": "code",
   "execution_count": 11,
   "id": "56b94bc1",
   "metadata": {},
   "outputs": [
    {
     "data": {
      "text/plain": [
       "39.105.150.214     1394\n",
       "103.172.17.226      872\n",
       "152.70.70.91        337\n",
       "16.162.44.250       316\n",
       "103.232.207.3       282\n",
       "                   ... \n",
       "168.138.163.222      13\n",
       "106.12.119.30        13\n",
       "123.195.161.145       8\n",
       "199.101.171.125       6\n",
       "45.12.19.254          2\n",
       "Name: server, Length: 259, dtype: int64"
      ]
     },
     "execution_count": 11,
     "metadata": {},
     "output_type": "execute_result"
    }
   ],
   "source": [
    "df_nerd_stats[df_nerd_stats.codecs.str.startswith('av01')].server.value_counts()"
   ]
  },
  {
   "cell_type": "code",
   "execution_count": null,
   "id": "17950b26",
   "metadata": {},
   "outputs": [],
   "source": []
  }
 ],
 "metadata": {
  "kernelspec": {
   "display_name": "Python 3 (ipykernel)",
   "language": "python",
   "name": "python3"
  },
  "language_info": {
   "codemirror_mode": {
    "name": "ipython",
    "version": 3
   },
   "file_extension": ".py",
   "mimetype": "text/x-python",
   "name": "python",
   "nbconvert_exporter": "python",
   "pygments_lexer": "ipython3",
   "version": "3.8.12"
  }
 },
 "nbformat": 4,
 "nbformat_minor": 5
}
