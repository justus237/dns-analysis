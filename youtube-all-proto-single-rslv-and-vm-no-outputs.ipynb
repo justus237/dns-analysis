{
 "cells": [
  {
   "cell_type": "markdown",
   "metadata": {},
   "source": [
    "# Measuring all 5 protocols and 4 player sizes (720p+) (quality auto) on the test VM -- 1 video only"
   ]
  },
  {
   "cell_type": "code",
   "execution_count": null,
   "metadata": {},
   "outputs": [],
   "source": [
    "import pandas as pd\n",
    "import sqlite3\n",
    "import datetime\n",
    "import numpy as np\n",
    "import matplotlib as mpl\n",
    "import seaborn as sns\n",
    "import matplotlib.pyplot as plt\n",
    "import matplotlib.ticker as ticker\n",
    "from matplotlib.ticker import PercentFormatter\n",
    "import math\n",
    "import Cdf\n",
    "import Pmf\n",
    "from urllib.parse import urlparse, parse_qs\n",
    "mpl.rcParams['figure.dpi'] = 200\n",
    "okabe_ito = [\"#000000\", \"#E69F00\", \"#56B4E9\", \"#009E73\", \"#F0E442\", \"#0072B2\", \"#D55E00\", \"#CC79A7\"]\n",
    "sns.set_context('paper')\n",
    "sns.set_palette(sns.color_palette(okabe_ito))\n",
    "#https://stackoverflow.com/a/45846841\n",
    "def human_format(num):\n",
    "    num = float('{:.3g}'.format(num))\n",
    "    magnitude = 0\n",
    "    while abs(num) >= 1000:\n",
    "        magnitude += 1\n",
    "        num /= 1000.0\n",
    "    return '{}{}'.format('{:f}'.format(num).rstrip('0').rstrip('.'), ['', 'K', 'M', 'B', 'T'][magnitude])\n",
    "def make_cdf(series):\n",
    "    return series.value_counts(normalize=True).sort_index().cumsum()\n",
    "def make_pdf(series):\n",
    "    return series.value_counts(normalize=True).sort_index()"
   ]
  },
  {
   "cell_type": "code",
   "execution_count": null,
   "metadata": {},
   "outputs": [],
   "source": [
    "conn = sqlite3.connect('../web-performance/web-performance-youtube-single-vm-5-proto.db')\n",
    "measurements = pd.read_sql_query(\"SELECT * FROM measurements\", conn)\n",
    "measurements\n",
    "#conn.close()"
   ]
  },
  {
   "cell_type": "markdown",
   "metadata": {},
   "source": [
    "# data pre-processing"
   ]
  },
  {
   "cell_type": "code",
   "execution_count": null,
   "metadata": {},
   "outputs": [],
   "source": [
    "measurements.error.value_counts()"
   ]
  },
  {
   "cell_type": "code",
   "execution_count": null,
   "metadata": {},
   "outputs": [],
   "source": [
    "measurements = measurements[measurements.error == '']"
   ]
  },
  {
   "cell_type": "markdown",
   "metadata": {},
   "source": [
    "remove cache warming runs early to reduce processing later on"
   ]
  },
  {
   "cell_type": "code",
   "execution_count": null,
   "metadata": {},
   "outputs": [],
   "source": [
    "measurements = measurements[measurements.cacheWarming == 0]"
   ]
  },
  {
   "cell_type": "code",
   "execution_count": null,
   "metadata": {},
   "outputs": [],
   "source": [
    "measurements['player_width'] = measurements['player_width'].astype(str)\n",
    "measurements['player_height'] = measurements['player_height'].astype(str)\n",
    "measurements['player_dimensions'] = measurements['player_width']+\"x\"+measurements['player_height']"
   ]
  },
  {
   "cell_type": "code",
   "execution_count": null,
   "metadata": {},
   "outputs": [],
   "source": [
    "measurements['protocol'] = measurements['protocol'].str.upper()"
   ]
  },
  {
   "cell_type": "code",
   "execution_count": null,
   "metadata": {},
   "outputs": [],
   "source": [
    "dns_proto_mapping = {'QUIC':'DoQ', 'HTTPS':'DoH', 'TLS':'DoT', 'TCP':'DoTCP', 'UDP':'DoUDP'}\n",
    "def map_proto_to_dns(x):\n",
    "    return dns_proto_mapping[x]\n",
    "measurements['protocol'] = measurements['protocol'].map(map_proto_to_dns)"
   ]
  },
  {
   "cell_type": "code",
   "execution_count": null,
   "metadata": {},
   "outputs": [],
   "source": [
    "measurements"
   ]
  },
  {
   "cell_type": "markdown",
   "metadata": {},
   "source": [
    "## find the optimal resolution as determined by the youtube player for each run"
   ]
  },
  {
   "cell_type": "code",
   "execution_count": null,
   "metadata": {},
   "outputs": [],
   "source": [
    "df_optimal_resolutions = pd.read_sql_query(\"\"\"\n",
    "SELECT msm_id, resolution, time FROM nerd_stats\n",
    "\"\"\", conn)"
   ]
  },
  {
   "cell_type": "code",
   "execution_count": null,
   "metadata": {},
   "outputs": [],
   "source": [
    "df_optimal_resolutions['current_res'] = df_optimal_resolutions['resolution'].str.split(' / ').str[0]\n",
    "df_optimal_resolutions['current_res'] = df_optimal_resolutions['current_res'].str.split('@').str[0]\n",
    "df_optimal_resolutions['optimal_res'] = df_optimal_resolutions['resolution'].str.split(' / ').str[1]\n",
    "df_optimal_resolutions['optimal_res'] = df_optimal_resolutions['optimal_res'].str.split('@').str[0]\n",
    "df_optimal_resolutions['time'] = pd.to_datetime(df_optimal_resolutions['time'], unit='ms', origin='unix')"
   ]
  },
  {
   "cell_type": "code",
   "execution_count": null,
   "metadata": {},
   "outputs": [],
   "source": [
    "df_optimal_resolutions = df_optimal_resolutions[['msm_id','optimal_res', 'time', 'current_res']]"
   ]
  },
  {
   "cell_type": "code",
   "execution_count": null,
   "metadata": {},
   "outputs": [],
   "source": [
    "df_optimal_resolutions.groupby('msm_id').optimal_res.nunique().sort_values()"
   ]
  },
  {
   "cell_type": "markdown",
   "metadata": {},
   "source": [
    "### filter out measurements where the player changes the optimal resolution within the run (mostly from 4k to 1440p)"
   ]
  },
  {
   "cell_type": "code",
   "execution_count": null,
   "metadata": {},
   "outputs": [],
   "source": [
    "s_filter_msm = df_optimal_resolutions.groupby('msm_id').optimal_res.nunique()"
   ]
  },
  {
   "cell_type": "code",
   "execution_count": null,
   "metadata": {},
   "outputs": [],
   "source": [
    "s_filter_msm[s_filter_msm > 1].index.tolist()"
   ]
  },
  {
   "cell_type": "code",
   "execution_count": null,
   "metadata": {},
   "outputs": [],
   "source": [
    "df_optimal_resolutions[df_optimal_resolutions.msm_id.isin(s_filter_msm[s_filter_msm > 1].index.tolist())].sort_values('time').groupby(['msm_id', 'optimal_res']).agg({'time':'min'}).sort_values('time')"
   ]
  },
  {
   "cell_type": "markdown",
   "metadata": {},
   "source": [
    "first idea: we take the nerd stats optimal res at the end of playback (i.e. the furthest in terms of video playback) as the \"true\" optimal res  ------ probably dumb idea, see example above, for now just filter out the ones with multiple optimal resolutions?"
   ]
  },
  {
   "cell_type": "code",
   "execution_count": null,
   "metadata": {},
   "outputs": [],
   "source": [
    "#assert set(df_optimal_resolutions.loc[df_optimal_resolutions.groupby('msm_id').time.idxmax()].msm_id.value_counts().values) == {1}\n",
    "#assert df_optimal_resolutions.loc[df_optimal_resolutions.groupby('msm_id').time.idxmax()].msm_id.nunique() == measurements.msm_id.nunique()\n",
    "#df_optimal_resolutions = df_optimal_resolutions.loc[df_optimal_resolutions.groupby('msm_id').time.idxmax()].reset_index(drop=True)\n"
   ]
  },
  {
   "cell_type": "code",
   "execution_count": null,
   "metadata": {},
   "outputs": [],
   "source": [
    "df_msms_with_multiple_opt_res = df_optimal_resolutions.groupby('msm_id', as_index=False).agg(opt_res_num=('optimal_res',pd.Series.nunique), opt_res_list=('optimal_res',pd.Series.unique)).sort_values('opt_res_num')"
   ]
  },
  {
   "cell_type": "code",
   "execution_count": null,
   "metadata": {},
   "outputs": [],
   "source": [
    "df_msms_with_multiple_opt_res[df_msms_with_multiple_opt_res.opt_res_num > 1]"
   ]
  },
  {
   "cell_type": "code",
   "execution_count": null,
   "metadata": {},
   "outputs": [],
   "source": [
    "measurements_to_remove = df_msms_with_multiple_opt_res[df_msms_with_multiple_opt_res.opt_res_num > 1].msm_id.unique().tolist()"
   ]
  },
  {
   "cell_type": "code",
   "execution_count": null,
   "metadata": {},
   "outputs": [],
   "source": [
    "measurements_to_remove"
   ]
  },
  {
   "cell_type": "code",
   "execution_count": null,
   "metadata": {},
   "outputs": [],
   "source": [
    "measurements[measurements.msm_id.isin(measurements_to_remove)].player_dimensions.value_counts()"
   ]
  },
  {
   "cell_type": "code",
   "execution_count": null,
   "metadata": {},
   "outputs": [],
   "source": [
    "measurements[measurements.msm_id.isin(measurements_to_remove)].protocol.value_counts()"
   ]
  },
  {
   "cell_type": "code",
   "execution_count": null,
   "metadata": {},
   "outputs": [],
   "source": [
    "measurements[measurements.player_dimensions == \"3840x2160\"].protocol.value_counts()"
   ]
  },
  {
   "cell_type": "code",
   "execution_count": null,
   "metadata": {},
   "outputs": [],
   "source": [
    "measurements = measurements[~measurements.msm_id.isin(measurements_to_remove)]"
   ]
  },
  {
   "cell_type": "code",
   "execution_count": null,
   "metadata": {},
   "outputs": [],
   "source": [
    "df_optimal_resolutions = df_optimal_resolutions[~df_optimal_resolutions.msm_id.isin(measurements_to_remove)][['msm_id', 'optimal_res']].drop_duplicates().reset_index().drop('index', axis=1)"
   ]
  },
  {
   "cell_type": "code",
   "execution_count": null,
   "metadata": {},
   "outputs": [],
   "source": [
    "df_optimal_resolutions"
   ]
  },
  {
   "cell_type": "code",
   "execution_count": null,
   "metadata": {},
   "outputs": [],
   "source": [
    "df_optimal_resolutions = pd.merge(df_optimal_resolutions, measurements[['msm_id', 'player_dimensions']], on='msm_id')\n",
    "df_optimal_resolutions"
   ]
  },
  {
   "cell_type": "markdown",
   "metadata": {},
   "source": [
    "### make sure the optimal resolutions match what we set as the player size"
   ]
  },
  {
   "cell_type": "code",
   "execution_count": null,
   "metadata": {},
   "outputs": [],
   "source": [
    "df_optimal_resolutions[df_optimal_resolutions.optimal_res != df_optimal_resolutions.player_dimensions]"
   ]
  },
  {
   "cell_type": "markdown",
   "metadata": {},
   "source": [
    "### make sure each run has a start playing event that fired before 1s of playtime passed (there seems to always be a little bit of playtime (i.e. the curr play time when the event fires is never zero) presumably due to the delay from javascript execution between getting the playback time within the callback)"
   ]
  },
  {
   "cell_type": "code",
   "execution_count": null,
   "metadata": {},
   "outputs": [],
   "source": [
    "df_player_state_playing = pd.read_sql_query(\"select time, msm_id, curr_play_time from iframe_api where event_type = 'PlayerStatePLAYING'\", conn)"
   ]
  },
  {
   "cell_type": "code",
   "execution_count": null,
   "metadata": {},
   "outputs": [],
   "source": [
    "df_player_state_playing[df_player_state_playing.curr_play_time > 1].curr_play_time.describe()"
   ]
  },
  {
   "cell_type": "code",
   "execution_count": null,
   "metadata": {},
   "outputs": [],
   "source": [
    "df_player_state_playing[df_player_state_playing.curr_play_time < 1].curr_play_time.describe()"
   ]
  },
  {
   "cell_type": "code",
   "execution_count": null,
   "metadata": {},
   "outputs": [],
   "source": [
    "df_player_state_intial_playback = df_player_state_playing[(df_player_state_playing.curr_play_time < 1) & \n",
    "                                    (df_player_state_playing.msm_id.isin(measurements.msm_id.unique()))]"
   ]
  },
  {
   "cell_type": "markdown",
   "metadata": {},
   "source": [
    "make sure each measurement only has one corresponding initial playing state event and that all measurements have such an event"
   ]
  },
  {
   "cell_type": "code",
   "execution_count": null,
   "metadata": {},
   "outputs": [],
   "source": [
    "assert set(df_player_state_intial_playback.msm_id.value_counts().values) == {1}\n",
    "assert pd.Series.nunique(df_player_state_intial_playback.msm_id.value_counts().index) == \\\n",
    "pd.Series.nunique(measurements['msm_id'])"
   ]
  },
  {
   "cell_type": "markdown",
   "metadata": {},
   "source": [
    "### if the 1s metric produced a unique start playing state event for each run, we can use it to calculate the startup delay between when we tell the player to start playing and when it actually plays"
   ]
  },
  {
   "cell_type": "code",
   "execution_count": null,
   "metadata": {},
   "outputs": [],
   "source": [
    "df_start_time = pd.read_sql_query(\"\"\"\n",
    "SELECT start_time, play_time, msm_id, current_quality AS initial_quality FROM\n",
    "(SELECT time AS start_time, msm_id FROM iframe_api WHERE event_type = 'PlayStartedFromFunction')\n",
    "JOIN\n",
    "(SELECT time AS play_time, msm_id, current_quality FROM iframe_api WHERE event_type = 'PlayerStatePLAYING' AND curr_play_time < 1)\n",
    "USING (msm_id);\n",
    "\"\"\", conn)\n",
    "df_start_time = df_start_time[df_start_time.msm_id.isin(measurements.msm_id.unique())]\n",
    "\n",
    "df_start_time['start_time'] = pd.to_datetime(df_start_time['start_time'], unit='ms', origin='unix')\n",
    "df_start_time['play_time'] = pd.to_datetime(df_start_time['play_time'], unit='ms', origin='unix')\n",
    "\n",
    "df_start_time['startup_delay'] = (df_start_time['play_time'] - df_start_time['start_time']).dt.total_seconds()"
   ]
  },
  {
   "cell_type": "code",
   "execution_count": null,
   "metadata": {},
   "outputs": [],
   "source": [
    "df_start_time"
   ]
  },
  {
   "cell_type": "markdown",
   "metadata": {},
   "source": [
    "### for each measurement we call getQuality when the player fires the start playing callback, however this seems to again be susceptible to some delay, some measurements have quality change events for that resolution fire __after__ the recorded timestamp for the playing event ---> thus we figure out the quality change event that happened closest to the timestamp of the start playing event but still happened before it"
   ]
  },
  {
   "cell_type": "code",
   "execution_count": null,
   "metadata": {},
   "outputs": [],
   "source": [
    "df_player_quality_change_event = pd.read_sql_query(\"select msm_id, time, curr_play_time, current_quality from iframe_api where event_type LIKE 'QualityChange%'\", conn)\n",
    "df_player_quality_change_event = df_player_quality_change_event[df_player_quality_change_event.msm_id.isin(measurements.msm_id.unique())]"
   ]
  },
  {
   "cell_type": "code",
   "execution_count": null,
   "metadata": {},
   "outputs": [],
   "source": [
    "df_player_quality_change_event['time'] = pd.to_datetime(df_player_quality_change_event['time'], unit='ms', origin='unix')"
   ]
  },
  {
   "cell_type": "code",
   "execution_count": null,
   "metadata": {},
   "outputs": [],
   "source": [
    "df_player_quality_change_event.curr_play_time.value_counts().sort_index()"
   ]
  },
  {
   "cell_type": "code",
   "execution_count": null,
   "metadata": {},
   "outputs": [],
   "source": [
    "df_player_quality_change_event[df_player_quality_change_event.curr_play_time == 0].msm_id.value_counts()"
   ]
  },
  {
   "cell_type": "code",
   "execution_count": null,
   "metadata": {},
   "outputs": [],
   "source": [
    "df_player_quality_change_event[df_player_quality_change_event.msm_id == \"41e65018-f369-2869-7658-4e29451b314a\"]"
   ]
  },
  {
   "cell_type": "code",
   "execution_count": null,
   "metadata": {},
   "outputs": [],
   "source": [
    "measurements[measurements.msm_id == \"41e65018-f369-2869-7658-4e29451b314a\"]"
   ]
  },
  {
   "cell_type": "code",
   "execution_count": null,
   "metadata": {},
   "outputs": [],
   "source": [
    "df_start_time[df_start_time.msm_id == \"41e65018-f369-2869-7658-4e29451b314a\"]"
   ]
  },
  {
   "cell_type": "code",
   "execution_count": null,
   "metadata": {},
   "outputs": [],
   "source": [
    "df_true_initial_quality = pd.merge(df_start_time[['msm_id', 'play_time', 'initial_quality']], df_player_quality_change_event[df_player_quality_change_event.curr_play_time < 1][['time', 'current_quality', 'msm_id']], on='msm_id')\n"
   ]
  },
  {
   "cell_type": "code",
   "execution_count": null,
   "metadata": {},
   "outputs": [],
   "source": [
    "df_true_initial_quality['delay_to_play_time'] = (df_true_initial_quality['play_time'] - df_true_initial_quality['time']).dt.total_seconds()"
   ]
  },
  {
   "cell_type": "code",
   "execution_count": null,
   "metadata": {},
   "outputs": [],
   "source": [
    "df_true_initial_quality[df_true_initial_quality.msm_id == \"41e65018-f369-2869-7658-4e29451b314a\"]"
   ]
  },
  {
   "cell_type": "code",
   "execution_count": null,
   "metadata": {},
   "outputs": [],
   "source": [
    "df_true_initial_quality = df_true_initial_quality[df_true_initial_quality.delay_to_play_time > 0]"
   ]
  },
  {
   "cell_type": "code",
   "execution_count": null,
   "metadata": {},
   "outputs": [],
   "source": [
    "df_true_initial_quality = df_true_initial_quality.loc[df_true_initial_quality.groupby('msm_id').delay_to_play_time.idxmin()].reset_index(drop=True)"
   ]
  },
  {
   "cell_type": "code",
   "execution_count": null,
   "metadata": {},
   "outputs": [],
   "source": [
    "df_true_initial_quality[df_true_initial_quality.initial_quality != df_true_initial_quality.current_quality]"
   ]
  },
  {
   "cell_type": "code",
   "execution_count": null,
   "metadata": {},
   "outputs": [],
   "source": [
    "df_true_initial_quality.rename(columns=lambda x: x.replace('current_quality', 'true_initial_quality'), inplace=True)"
   ]
  },
  {
   "cell_type": "code",
   "execution_count": null,
   "metadata": {},
   "outputs": [],
   "source": [
    "df_true_initial_quality"
   ]
  },
  {
   "cell_type": "markdown",
   "metadata": {},
   "source": [
    "### helper functions"
   ]
  },
  {
   "cell_type": "code",
   "execution_count": null,
   "metadata": {},
   "outputs": [],
   "source": [
    "res_to_quality = {\n",
    "    \"256x144\":\"tiny\", \"426x240\": \"small\", \"640x360\": \"medium\", \"854x480\": \"large\",\n",
    "    \"1280x720\": \"hd720\", \"1920x1080\": \"hd1080\", \"2560x1440\": \"hd1440\", \"3840x2160\": \"hd2160\"\n",
    "}\n",
    "\n",
    "quality_to_res = {v: k for k, v in res_to_quality.items()}\n",
    "\n",
    "def map_quality_to_res(quality):\n",
    "    return quality_to_res[quality]\n",
    "def map_res_to_quality(resolution):\n",
    "    return res_to_quality[resolution]\n",
    "\n",
    "def make_quality_column_sortable(df_, col_name_):\n",
    "    df_[col_name_] = pd.Categorical(df_[col_name_], ['auto', 'tiny', 'small', 'medium', 'large', 'hd720', 'hd1080', 'highres', 'hd1440', 'hd2160'])\n",
    "\n",
    "def make_res_column_sortable(df_, col_name_):\n",
    "    df_[col_name_] = pd.Categorical(df_[col_name_], ['256x144', '426x240', '640x360', '854x480', '1280x720', '1920x1080', '2560x1440', '3840x2160'])"
   ]
  },
  {
   "cell_type": "code",
   "execution_count": null,
   "metadata": {},
   "outputs": [],
   "source": [
    "df_resource_timing = pd.read_sql_query(\"SELECT msm_id, name, nextHopProtocol FROM page_resources\", conn)\n",
    "#df_resource_timing = df_resource_timing[df_resource_timing.msm_id.isin(measurements.msm_id.unique())]"
   ]
  },
  {
   "cell_type": "code",
   "execution_count": null,
   "metadata": {},
   "outputs": [],
   "source": [
    "df_resource_timing['googlevideo'] = df_resource_timing.name.str.split('/').str[2]"
   ]
  },
  {
   "cell_type": "code",
   "execution_count": null,
   "metadata": {},
   "outputs": [],
   "source": [
    "df_resource_timing.googlevideo.unique()"
   ]
  },
  {
   "cell_type": "code",
   "execution_count": null,
   "metadata": {},
   "outputs": [],
   "source": [
    "def find_initial_requests(url_):\n",
    "    parse_res = urlparse(url_)\n",
    "    opts = parse_qs(parse_res.query)\n",
    "    if opts['range'][0][0] == '0':\n",
    "        return True\n",
    "    return False\n",
    "df_resource_timing['first_request'] = df_resource_timing['name'].map(find_initial_requests)"
   ]
  },
  {
   "cell_type": "code",
   "execution_count": null,
   "metadata": {},
   "outputs": [],
   "source": [
    "df_resource_timing['h1_first_request'] = False\n",
    "df_resource_timing['h1_first_request'] = np.where((df_resource_timing.nextHopProtocol == 'http/1.1') & (df_resource_timing.first_request == True), True, df_resource_timing['h1_first_request'])"
   ]
  },
  {
   "cell_type": "code",
   "execution_count": null,
   "metadata": {},
   "outputs": [],
   "source": [
    "df_resource_timing = pd.merge(df_resource_timing, pd.read_sql_query(\"SELECT msm_id, cacheWarming, (player_width || 'x' || player_height) as player_dimensions, timestamp FROM measurements\", conn))"
   ]
  },
  {
   "cell_type": "code",
   "execution_count": null,
   "metadata": {},
   "outputs": [],
   "source": [
    "df_resource_timing[df_resource_timing.cacheWarming == 0].groupby('msm_id', as_index=False).agg({'googlevideo':pd.Series.nunique}).sort_values('googlevideo')"
   ]
  },
  {
   "cell_type": "code",
   "execution_count": null,
   "metadata": {},
   "outputs": [],
   "source": [
    "df_caught_first_request = df_resource_timing.groupby('msm_id', as_index=False).agg({'first_request': lambda x: sum(x) > 0, 'h1_first_request': lambda x: sum(x) > 0})"
   ]
  },
  {
   "cell_type": "code",
   "execution_count": null,
   "metadata": {},
   "outputs": [],
   "source": [
    "print(df_caught_first_request[df_caught_first_request.first_request == True].msm_id.nunique())\n",
    "print(df_caught_first_request[df_caught_first_request.first_request == False].msm_id.nunique())\n",
    "print(df_caught_first_request.msm_id.nunique())\n",
    "print(df_caught_first_request[df_caught_first_request.h1_first_request == True].msm_id.nunique())\n",
    "print(df_caught_first_request[df_caught_first_request.h1_first_request == False].msm_id.nunique())\n",
    "print(df_caught_first_request.msm_id.nunique())"
   ]
  },
  {
   "cell_type": "code",
   "execution_count": null,
   "metadata": {},
   "outputs": [],
   "source": [
    "df_caught_first_request = pd.merge(df_caught_first_request, pd.read_sql_query(\"SELECT msm_id, cacheWarming, (player_width || 'x' || player_height) as player_dimensions, timestamp FROM measurements\", conn))"
   ]
  },
  {
   "cell_type": "code",
   "execution_count": null,
   "metadata": {},
   "outputs": [],
   "source": [
    "print(df_caught_first_request[(df_caught_first_request.first_request == True) & (df_caught_first_request.cacheWarming == 0)].msm_id.nunique())\n",
    "print(df_caught_first_request[(df_caught_first_request.first_request == False) & (df_caught_first_request.cacheWarming == 0)].msm_id.nunique())\n",
    "print(df_caught_first_request[df_caught_first_request.cacheWarming == 0].msm_id.nunique())\n",
    "print(df_caught_first_request[(df_caught_first_request.h1_first_request == True) & (df_caught_first_request.cacheWarming == 0)].msm_id.nunique())\n",
    "print(df_caught_first_request[(df_caught_first_request.h1_first_request == False) & (df_caught_first_request.cacheWarming == 0)].msm_id.nunique())\n",
    "print(df_caught_first_request[df_caught_first_request.cacheWarming == 0].msm_id.nunique())"
   ]
  },
  {
   "cell_type": "code",
   "execution_count": null,
   "metadata": {},
   "outputs": [],
   "source": [
    "print(df_caught_first_request[(df_caught_first_request.first_request == True) & (df_caught_first_request.cacheWarming == 1)].msm_id.nunique())\n",
    "print(df_caught_first_request[(df_caught_first_request.first_request == False) & (df_caught_first_request.cacheWarming == 1)].msm_id.nunique())\n",
    "print(df_caught_first_request[df_caught_first_request.cacheWarming == 1].msm_id.nunique())\n",
    "print(df_caught_first_request[(df_caught_first_request.h1_first_request == True) & (df_caught_first_request.cacheWarming == 1)].msm_id.nunique())\n",
    "print(df_caught_first_request[(df_caught_first_request.h1_first_request == False) & (df_caught_first_request.cacheWarming == 1)].msm_id.nunique())\n",
    "print(df_caught_first_request[df_caught_first_request.cacheWarming == 1].msm_id.nunique())"
   ]
  },
  {
   "cell_type": "code",
   "execution_count": null,
   "metadata": {},
   "outputs": [],
   "source": [
    "df_resource_timing.msm_id.nunique()"
   ]
  },
  {
   "cell_type": "code",
   "execution_count": null,
   "metadata": {},
   "outputs": [],
   "source": [
    "df_resource_timing.groupby(['player_dimensions', 'googlevideo']).agg({'cacheWarming':lambda x: list(set(x))})"
   ]
  },
  {
   "cell_type": "code",
   "execution_count": null,
   "metadata": {},
   "outputs": [],
   "source": [
    "df_resource_timing[(df_resource_timing.googlevideo == 'rr2---sn-5hne6nsr.googlevideo.com') & (df_resource_timing.player_dimensions == '3840x2160')]"
   ]
  },
  {
   "cell_type": "code",
   "execution_count": null,
   "metadata": {},
   "outputs": [],
   "source": [
    "all_measurements = pd.read_sql_query(\"SELECT msm_id, cacheWarming, (player_width || 'x' || player_height) as player_dimensions, timestamp FROM measurements\", conn)"
   ]
  },
  {
   "cell_type": "code",
   "execution_count": null,
   "metadata": {},
   "outputs": [],
   "source": [
    "all_measurements[all_measurements.msm_id == \"d08424ba-6221-9928-26d1-572a73acb5f9\"]"
   ]
  },
  {
   "cell_type": "code",
   "execution_count": null,
   "metadata": {},
   "outputs": [],
   "source": [
    "all_measurements.iloc[2486]"
   ]
  },
  {
   "cell_type": "code",
   "execution_count": null,
   "metadata": {},
   "outputs": [],
   "source": [
    "df_resource_timing[df_resource_timing.msm_id == \"6954276f-fecb-0f99-7b3a-701512801034\"]"
   ]
  },
  {
   "cell_type": "code",
   "execution_count": null,
   "metadata": {},
   "outputs": [],
   "source": [
    "#df_start_time = df_start_time[~df_start_time.msm_id.isin(measurements_to_remove)]\n",
    "df_start_time"
   ]
  },
  {
   "cell_type": "code",
   "execution_count": null,
   "metadata": {},
   "outputs": [],
   "source": [
    "measurements"
   ]
  },
  {
   "cell_type": "code",
   "execution_count": null,
   "metadata": {},
   "outputs": [],
   "source": [
    "df_start_time = pd.merge(df_start_time, measurements[['msm_id', 'player_dimensions', 'protocol', 'vantagePoint', 'domain']])"
   ]
  },
  {
   "cell_type": "code",
   "execution_count": null,
   "metadata": {},
   "outputs": [],
   "source": [
    "#df_start_time = df_start_time[df_start_time.cacheWarming == 0]"
   ]
  },
  {
   "cell_type": "code",
   "execution_count": null,
   "metadata": {},
   "outputs": [],
   "source": [
    "df_start_time.protocol.value_counts()"
   ]
  },
  {
   "cell_type": "code",
   "execution_count": null,
   "metadata": {},
   "outputs": [],
   "source": [
    "df_start_time.columns"
   ]
  },
  {
   "cell_type": "code",
   "execution_count": null,
   "metadata": {},
   "outputs": [],
   "source": [
    "df_start_time = pd.merge(df_start_time, df_true_initial_quality[['msm_id', 'true_initial_quality']], on='msm_id')"
   ]
  },
  {
   "cell_type": "code",
   "execution_count": null,
   "metadata": {},
   "outputs": [],
   "source": [
    "df_start_time[df_start_time.initial_quality != df_start_time.true_initial_quality]"
   ]
  },
  {
   "cell_type": "code",
   "execution_count": null,
   "metadata": {},
   "outputs": [],
   "source": [
    "make_quality_column_sortable(df_start_time, 'true_initial_quality')\n",
    "make_quality_column_sortable(df_start_time, 'initial_quality')\n",
    "make_res_column_sortable(df_start_time, 'player_dimensions')"
   ]
  },
  {
   "cell_type": "code",
   "execution_count": null,
   "metadata": {},
   "outputs": [],
   "source": [
    "df_player_quality_change_event['curr_qual_as_res'] = df_player_quality_change_event['current_quality'].map(map_quality_to_res)"
   ]
  },
  {
   "cell_type": "code",
   "execution_count": null,
   "metadata": {},
   "outputs": [],
   "source": [
    "df_player_started = pd.read_sql_query(\"\"\"\n",
    "SELECT time AS start_time, msm_id FROM iframe_api WHERE event_type = 'PlayStartedFromFunction'\n",
    "\"\"\", conn)\n",
    "df_player_started = df_player_started[df_player_started.msm_id.isin(measurements.msm_id.unique())]\n",
    "\n",
    "df_player_started['start_time'] = pd.to_datetime(df_player_started['start_time'], unit='ms', origin='unix')\n",
    "\n",
    "\n",
    "#df_start_time['startup_delay'] = (df_start_time['play_time'] - df_start_time['start_time']).dt.total_seconds()"
   ]
  },
  {
   "cell_type": "code",
   "execution_count": null,
   "metadata": {},
   "outputs": [],
   "source": [
    "df_optimal_resolutions"
   ]
  },
  {
   "cell_type": "code",
   "execution_count": null,
   "metadata": {},
   "outputs": [],
   "source": [
    "df_player_quality_change_event = pd.merge(df_player_quality_change_event, df_optimal_resolutions[['msm_id', 'optimal_res']], on='msm_id')\n",
    "df_player_quality_change_event"
   ]
  },
  {
   "cell_type": "code",
   "execution_count": null,
   "metadata": {},
   "outputs": [],
   "source": [
    "df_player_quality_change_event[df_player_quality_change_event.curr_qual_as_res == df_player_quality_change_event.optimal_res].msm_id.nunique()"
   ]
  },
  {
   "cell_type": "code",
   "execution_count": null,
   "metadata": {},
   "outputs": [],
   "source": [
    "df_player_quality_change_event = df_player_quality_change_event[df_player_quality_change_event.curr_qual_as_res == df_player_quality_change_event.optimal_res]"
   ]
  },
  {
   "cell_type": "code",
   "execution_count": null,
   "metadata": {},
   "outputs": [],
   "source": [
    "df_player_quality_change_event.loc[df_player_quality_change_event.groupby('msm_id').time.idxmin()].curr_play_time.value_counts()"
   ]
  },
  {
   "cell_type": "code",
   "execution_count": null,
   "metadata": {},
   "outputs": [],
   "source": [
    "assert set(df_player_quality_change_event.loc[df_player_quality_change_event.groupby('msm_id').time.idxmin()].msm_id.value_counts().values) == {1}\n",
    "assert df_player_quality_change_event.loc[df_player_quality_change_event.groupby('msm_id').time.idxmin()].msm_id.nunique() == measurements.msm_id.nunique()\n",
    "df_player_quality_change_event_to_opt = df_player_quality_change_event.loc[df_player_quality_change_event.groupby('msm_id').time.idxmin()].reset_index(drop=True)\n"
   ]
  },
  {
   "cell_type": "code",
   "execution_count": null,
   "metadata": {},
   "outputs": [],
   "source": [
    "df_player_quality_change_event_to_opt = pd.merge(df_player_quality_change_event_to_opt[['msm_id', 'time', 'optimal_res']], df_player_started,on='msm_id')"
   ]
  },
  {
   "cell_type": "code",
   "execution_count": null,
   "metadata": {},
   "outputs": [],
   "source": [
    "\n",
    "df_player_quality_change_event_to_opt['optimal_quality_delay'] = (df_player_quality_change_event_to_opt['time'] - df_player_quality_change_event_to_opt['start_time']).dt.total_seconds()\n",
    "df_player_quality_change_event_to_opt"
   ]
  },
  {
   "cell_type": "code",
   "execution_count": null,
   "metadata": {},
   "outputs": [],
   "source": [
    "df_player_quality_change_event_to_opt = pd.merge(df_player_quality_change_event_to_opt, measurements[['msm_id', 'player_dimensions', 'protocol', 'vantagePoint', 'domain']], on='msm_id')"
   ]
  },
  {
   "cell_type": "code",
   "execution_count": null,
   "metadata": {},
   "outputs": [],
   "source": [
    "df_buffering_events = pd.read_sql_query(\"\"\"\n",
    "SELECT time, curr_play_time, current_quality, msm_id FROM iframe_api WHERE event_type = 'PlayerStateBUFFERING'\n",
    "\"\"\", conn)\n",
    "\n",
    "df_buffering_events = df_buffering_events[df_buffering_events.msm_id.isin(measurements.msm_id.unique())]\n",
    "\n",
    "#df_buffering_events_time = pd.merge(df_buffering_events, measurements[measurements.cacheWarming == 0][['msm_id', 'player_dimensions', 'domain']], on='msm_id')"
   ]
  },
  {
   "cell_type": "code",
   "execution_count": null,
   "metadata": {},
   "outputs": [],
   "source": [
    "df_buffering_events['time'] = pd.to_datetime(df_buffering_events['time'], unit='ms', origin='unix')"
   ]
  },
  {
   "cell_type": "code",
   "execution_count": null,
   "metadata": {},
   "outputs": [],
   "source": [
    "#df_buffering_events_time['time'] = pd.to_datetime(df_buffering_events_time['time'], unit='ms', origin='unix')"
   ]
  },
  {
   "cell_type": "code",
   "execution_count": null,
   "metadata": {},
   "outputs": [],
   "source": [
    "#df_buffering_events_time = df_buffering_events_time[~df_buffering_events_time.msm_id.isin(measurements_to_remove)]"
   ]
  },
  {
   "cell_type": "code",
   "execution_count": null,
   "metadata": {},
   "outputs": [],
   "source": [
    "df_buffering_events[df_buffering_events.curr_play_time > 1].current_quality.unique()"
   ]
  },
  {
   "cell_type": "markdown",
   "metadata": {},
   "source": [
    "filter out buffering events that happened before the player started playing"
   ]
  },
  {
   "cell_type": "code",
   "execution_count": null,
   "metadata": {},
   "outputs": [],
   "source": [
    "df_playback_started = pd.read_sql_query(\"\"\"\n",
    "SELECT time AS play_time, msm_id, current_quality FROM iframe_api WHERE event_type = 'PlayerStatePLAYING' AND curr_play_time < 1\n",
    "\"\"\", conn)\n",
    "df_playback_started = df_playback_started[df_playback_started.msm_id.isin(measurements.msm_id.unique())]\n",
    "\n",
    "df_playback_started['play_time'] = pd.to_datetime(df_playback_started['play_time'], unit='ms', origin='unix')"
   ]
  },
  {
   "cell_type": "code",
   "execution_count": null,
   "metadata": {},
   "outputs": [],
   "source": [
    "#df_playback_started = df_playback_started[~df_playback_started.msm_id.isin(measurements_to_remove)]"
   ]
  },
  {
   "cell_type": "code",
   "execution_count": null,
   "metadata": {},
   "outputs": [],
   "source": [
    "df_playback_started"
   ]
  },
  {
   "cell_type": "code",
   "execution_count": null,
   "metadata": {},
   "outputs": [],
   "source": [
    "df_buffering_events_time = pd.merge(df_buffering_events, df_playback_started[['msm_id', 'play_time']], on='msm_id')"
   ]
  },
  {
   "cell_type": "code",
   "execution_count": null,
   "metadata": {},
   "outputs": [],
   "source": [
    "df_buffering_events_time = df_buffering_events_time[df_buffering_events_time.time > df_buffering_events_time.play_time]"
   ]
  },
  {
   "cell_type": "code",
   "execution_count": null,
   "metadata": {},
   "outputs": [],
   "source": [
    "df_buffering_events_time = pd.merge(df_buffering_events_time, measurements[['msm_id', 'player_dimensions', 'protocol', 'vantagePoint', 'domain']], on='msm_id')\n",
    "df_buffering_events_time\n"
   ]
  },
  {
   "cell_type": "code",
   "execution_count": null,
   "metadata": {},
   "outputs": [],
   "source": [
    "#df_buffering_events_time.rename(columns=lambda x: x.replace('domain_x', 'domain'), inplace=True)\n",
    "#df_buffering_events_time.rename(columns=lambda x: x.replace('player_dimensions_x', 'player_dimensions'), inplace=True)"
   ]
  },
  {
   "cell_type": "code",
   "execution_count": null,
   "metadata": {},
   "outputs": [],
   "source": [
    "df_playback_restarted = pd.read_sql_query(\"\"\"\n",
    "SELECT time AS play_time, msm_id, current_quality FROM iframe_api WHERE event_type = 'PlayerStatePLAYING' AND curr_play_time >= 1\n",
    "\"\"\", conn)\n",
    "df_playback_restarted = df_playback_restarted[df_playback_restarted.msm_id.isin(measurements.msm_id.unique())]\n",
    "\n",
    "df_playback_restarted['play_time'] = pd.to_datetime(df_playback_restarted['play_time'], unit='ms', origin='unix')\n",
    "#df_playback_restarted = df_playback_restarted[~df_playback_restarted.msm_id.isin(measurements_to_remove)]"
   ]
  },
  {
   "cell_type": "code",
   "execution_count": null,
   "metadata": {},
   "outputs": [],
   "source": [
    "df_buffering_events.dtypes\n"
   ]
  },
  {
   "cell_type": "code",
   "execution_count": null,
   "metadata": {},
   "outputs": [],
   "source": [
    "df_stall_times = pd.merge_asof(df_playback_restarted, df_buffering_events, by='msm_id', left_on='play_time', right_on='time', direction='backward')"
   ]
  },
  {
   "cell_type": "code",
   "execution_count": null,
   "metadata": {},
   "outputs": [],
   "source": [
    "df_stall_times = pd.merge(df_stall_times, measurements[['msm_id', 'player_dimensions', 'protocol', 'vantagePoint', 'domain']], on='msm_id')\n",
    "df_stall_times"
   ]
  },
  {
   "cell_type": "code",
   "execution_count": null,
   "metadata": {},
   "outputs": [],
   "source": [
    "\n",
    "df_stall_times['stall_time'] = (df_stall_times['play_time'] - df_stall_times['time']).dt.total_seconds()"
   ]
  },
  {
   "cell_type": "code",
   "execution_count": null,
   "metadata": {},
   "outputs": [],
   "source": [
    "df_stall_times"
   ]
  },
  {
   "cell_type": "code",
   "execution_count": null,
   "metadata": {},
   "outputs": [],
   "source": [
    "def draw_cdf(df_, col_outer_groupby_, col_name_, col_metric_, log_list, xlabel, title, figname, xlim):\n",
    "    if col_name_ == 'protocol':\n",
    "        line_order =['DoQ', 'DoH', 'DoT', 'DoTCP', 'DoUDP']\n",
    "    else:\n",
    "        line_order = sorted(df_[col_name_].unique().tolist())\n",
    "    colors = dict(zip(line_order, ['C0','C1','C2','C3','C4','C5','C6','C7','C8','C9']))\n",
    "    markers = dict(zip(line_order, ['o','v','^','>','s','p','h','d','<','.']))\n",
    "    for vp in df_['vantagePoint'].unique():\n",
    "        print(vp)\n",
    "        for video in df_['domain'].unique():\n",
    "            for log in log_list:\n",
    "                for col_grp_ in df_[col_outer_groupby_].sort_values().unique():\n",
    "                    lnwidth = .5\n",
    "                    mrksize = 3\n",
    "                    df_tmp = df_[(df_[col_outer_groupby_]==col_grp_)&(df_['vantagePoint'] == vp) & (df_['domain'] == video)]\n",
    "                    fig, ax = plt.subplots(figsize=(5,2))\n",
    "                    for col_val_ in df_tmp[col_name_].sort_values().unique():\n",
    "                        cdf = Cdf.MakeCdfFromList(df_tmp[df_tmp[col_name_] == col_val_][col_metric_])\n",
    "                        ax.plot(cdf.xs, cdf.ps, label=col_val_,\n",
    "                                    linestyle='-', linewidth=lnwidth, \n",
    "                                    markersize=mrksize, fillstyle='none', \n",
    "                                    markevery=max(1, int(len(cdf.xs)/10)), drawstyle=\"default\",\n",
    "                                    color=colors[col_val_], marker=markers[col_val_]\n",
    "                                )\n",
    "                        #dfplt = make_cdf(df_tmp[df_tmp[col_name_] == col_val_][col_metric_])\n",
    "                        #dfplt.plot(ax=ax, label=col_val_, marker=markers[col_val_], markersize=mrksize, drawstyle=\"default\", color=colors[col_val_], lw=lnwidth, logx=log)\n",
    "\n",
    "                    ax.yaxis.set_major_formatter(PercentFormatter(xmax = 1.0))\n",
    "\n",
    "                    ax.spines['right'].set_color('none')\n",
    "                    ax.spines['top'].set_color('none')\n",
    "                    ax.yaxis.set_ticks_position('left')\n",
    "                    ax.xaxis.set_ticks_position('bottom')\n",
    "                    ax.spines['bottom'].set_position(('axes', -0.0))\n",
    "                    ax.spines['left'].set_position(('axes', -0.0))\n",
    "\n",
    "                    if not log:\n",
    "                        #ax.legend(loc='center', ncol=1, markerscale=10, bbox_to_anchor=(0.5, -.6))\n",
    "                        ax.legend(loc='best', ncol=2, markerscale=2)\n",
    "                    else:\n",
    "                        ax.set_xscale('log')\n",
    "                        #ax.set_xscale('symlog')\n",
    "                        ax.legend(loc='center', ncol=2, markerscale=2, bbox_to_anchor=(.5, -.5))\n",
    "\n",
    "                    ax.xaxis.set_major_formatter(ticker.StrMethodFormatter(\"{x:g}\"))\n",
    "                    ax.xaxis.set_minor_formatter(ticker.StrMethodFormatter(\"{x:g}\"))\n",
    "                    ax.tick_params(axis='x', which='minor', labelsize=6)\n",
    "\n",
    "\n",
    "                    ax.set_title(title+ ' ' + col_grp_ + ' ' + video)\n",
    "\n",
    "                    ax.set_xlabel(xlabel)\n",
    "\n",
    "                    ax.set_ylabel(\"CDF\")\n",
    "                    ax.set_ylim(-0.1,1.1)\n",
    "                    if xlim != [0,0]:\n",
    "                        ax.set_xlim(xlim)\n",
    "                        \n",
    "                    for line in ax.get_legend().get_lines():\n",
    "                        line.set_linewidth(2.0)\n",
    "\n",
    "                    if log:\n",
    "                        fig.savefig('figures/cdf-'+figname+col_grp_+video+vp+'-log.pdf', format='pdf', bbox_inches='tight')\n",
    "                    else:\n",
    "                        fig.savefig('figures/cdf-'+figname+col_grp_+video+vp+'.pdf', format='pdf', bbox_inches='tight')\n",
    "                    plt.show()"
   ]
  },
  {
   "cell_type": "code",
   "execution_count": null,
   "metadata": {},
   "outputs": [],
   "source": [
    "def draw_cdf_grid(df_, col_outer_groupby_, col_name_, col_metric_, log_list, xlabel, title, figname, xlim):\n",
    "    if col_name_ == 'protocol':\n",
    "        line_order = ['DoQ', 'DoH', 'DoT', 'DoTCP', 'DoUDP']\n",
    "    else:\n",
    "        line_order = sorted(df_[col_name_].unique().tolist())\n",
    "    colors = dict(zip(line_order, ['C0','C1','C2','C3','C4','C5','C6','C7','C8','C9']))\n",
    "    markers = dict(zip(line_order, ['o','v','^','>','s','p','h','d','<','.']))\n",
    "    for vp in df_['vantagePoint'].unique():\n",
    "        print(vp)\n",
    "        for video in df_['domain'].unique():\n",
    "            for log in log_list:\n",
    "                num_rows = math.ceil(df_[col_outer_groupby_].nunique()/2)\n",
    "                if df_[col_outer_groupby_].nunique() > 1:\n",
    "                    fig, axs = plt.subplots(num_rows, 2, sharex='all', sharey='all', figsize=(12,3*num_rows))\n",
    "                    fig.subplots_adjust(hspace=.5)\n",
    "                    for col_grp_, ax in zip(df_[col_outer_groupby_].sort_values().unique(), axs.flat):\n",
    "                        lnwidth = .5\n",
    "                        mrksize = 3\n",
    "                        df_tmp = df_[(df_[col_outer_groupby_]==col_grp_)&(df_['vantagePoint'] == vp) & (df_['domain'] == video)]\n",
    "                        for col_val_ in df_tmp[col_name_].sort_values().unique():\n",
    "                            cdf = Cdf.MakeCdfFromList(df_tmp[df_tmp[col_name_] == col_val_][col_metric_])\n",
    "                            ax.plot(cdf.xs, cdf.ps, label=col_val_,\n",
    "                                        linestyle='-', linewidth=lnwidth, \n",
    "                                        markersize=mrksize, fillstyle='none', \n",
    "                                        markevery=max(1, int(len(cdf.xs)/10)), drawstyle=\"default\",\n",
    "                                        color=colors[col_val_], marker=markers[col_val_]\n",
    "                                    )\n",
    "                            #dfplt = make_cdf(df_tmp[df_tmp[col_name_] == col_val_][col_metric_])\n",
    "                            #dfplt.plot(ax=ax, label=col_val_, marker=markers[col_val_], markersize=mrksize, drawstyle=\"default\", color=colors[col_val_], lw=lnwidth, logx=log)\n",
    "\n",
    "                            ax.yaxis.set_major_formatter(PercentFormatter(xmax = 1.0))\n",
    "\n",
    "                            ax.spines['right'].set_color('none')\n",
    "                            ax.spines['top'].set_color('none')\n",
    "                            ax.yaxis.set_ticks_position('left')\n",
    "                            ax.xaxis.set_ticks_position('bottom')\n",
    "                            ax.spines['bottom'].set_position(('axes', -0.0))\n",
    "                            ax.spines['left'].set_position(('axes', -0.0))\n",
    "                            if log:\n",
    "                                ax.set_xscale('log')\n",
    "                            #if not log:\n",
    "                            #    #ax.legend(loc='center', ncol=1, markerscale=10, bbox_to_anchor=(0.5, -.6))\n",
    "                            #    ax.legend(loc='best', ncol=2, markerscale=2)\n",
    "                            #else:\n",
    "                            #    ax.set_xscale('log')\n",
    "                            #    #ax.set_xscale('symlog')\n",
    "                            #    ax.legend(loc='center', ncol=2, markerscale=2, bbox_to_anchor=(.5, -.4))\n",
    "                            #if i == df_[col_outer_groupby_].nunique()-1:\n",
    "                            #    handles, labels = ax.get_legend_handles_labels()\n",
    "                            #    fig.legend(handles, labels, loc='upper center')\n",
    "\n",
    "                            ax.xaxis.set_major_formatter(ticker.StrMethodFormatter(\"{x:g}\"))\n",
    "                            ax.xaxis.set_minor_formatter(ticker.StrMethodFormatter(\"{x:g}\"))\n",
    "                            ax.tick_params(axis='x', which='minor', labelsize=6)\n",
    "                            ax.xaxis.set_tick_params(labelbottom=True, which='both')\n",
    "\n",
    "\n",
    "                            ax.set_title(title+ ' ' + col_grp_ + ' ' + video)\n",
    "\n",
    "                            ax.set_xlabel(xlabel)\n",
    "\n",
    "                            ax.set_ylabel(\"CDF\")\n",
    "                            ax.set_ylim(-0.1,1.1)\n",
    "                            if xlim != [0,0]:\n",
    "                                ax.set_xlim(xlim)\n",
    "                                \n",
    "                        #for line in ax.get_legend().get_lines():\n",
    "                            #    line.set_linewidth(2.0)\n",
    "                    legend_elements = [mpl.lines.Line2D([0], [0], color=colors[legend_item], lw=2, label=legend_item, marker=markers[legend_item]) for legend_item in df_tmp[col_name_].unique()]\n",
    "                    #handles, labels = ax.get_legend_handles_labels()\n",
    "                    plt.gca().legend(handles=legend_elements, loc='lower left', ncol=2, bbox_to_anchor=(-.3, (-.4-num_rows*.1)))\n",
    "\n",
    "                    if log:\n",
    "                        fig.savefig('figures/cdf-'+figname+'-grid-'+video+vp+'-log.pdf', format='pdf', bbox_inches='tight')\n",
    "                    else:\n",
    "                        fig.savefig('figures/cdf-'+figname+'-grid-'+video+vp+'.pdf', format='pdf', bbox_inches='tight')\n",
    "                    plt.show()\n",
    "                "
   ]
  },
  {
   "cell_type": "code",
   "execution_count": null,
   "metadata": {},
   "outputs": [],
   "source": [
    "draw_cdf_grid(df_stall_times, 'player_dimensions', 'protocol', 'stall_time', [True,False], 'Stall duration [s]', 'Player Size:', 'stall-durations-by-player-size-and-proto', [0,0])"
   ]
  },
  {
   "cell_type": "code",
   "execution_count": null,
   "metadata": {},
   "outputs": [],
   "source": [
    "draw_cdf(df_stall_times, 'player_dimensions', 'protocol', 'stall_time', [True,False], 'Stall duration [s]', 'Player Size:', 'stall-durations-by-player-size-and-proto', [0,0])"
   ]
  },
  {
   "cell_type": "code",
   "execution_count": null,
   "metadata": {},
   "outputs": [],
   "source": [
    "draw_cdf_grid(df_buffering_events_time, 'player_dimensions', 'protocol', 'curr_play_time', [True,False], 'Playback time when player stalled [s]', 'Player Size:', 'buffer-events-by-player-size-and-proto', [0,0])"
   ]
  },
  {
   "cell_type": "code",
   "execution_count": null,
   "metadata": {},
   "outputs": [],
   "source": [
    "draw_cdf(df_buffering_events_time, 'player_dimensions', 'protocol', 'curr_play_time', [True,False], 'Playback time when player stalled [s]', 'Player Size:', 'buffer-events-by-player-size-and-proto', [0,0])"
   ]
  },
  {
   "cell_type": "code",
   "execution_count": null,
   "metadata": {},
   "outputs": [],
   "source": [
    "draw_cdf_grid(df_start_time, 'player_dimensions', 'protocol', 'startup_delay', [True,False], 'Startup delay [s]', 'Player Size:', 'startup-delay-by-player-size-and-proto', [0,0])"
   ]
  },
  {
   "cell_type": "code",
   "execution_count": null,
   "metadata": {},
   "outputs": [],
   "source": [
    "draw_cdf(df_start_time, 'player_dimensions', 'protocol', 'startup_delay', [True,False], 'Startup delay [s]', 'Player Size:', 'startup-delay-by-player-size-and-proto', [0.1,1])"
   ]
  },
  {
   "cell_type": "code",
   "execution_count": null,
   "metadata": {},
   "outputs": [],
   "source": [
    "draw_cdf_grid(df_start_time, 'true_initial_quality', 'protocol', 'startup_delay', [True,False], 'Startup delay [s]', 'Initial quality:', 'startup-delay-by-initial-quality-and-proto', [0,0])"
   ]
  },
  {
   "cell_type": "code",
   "execution_count": null,
   "metadata": {},
   "outputs": [],
   "source": [
    "draw_cdf(df_start_time, 'true_initial_quality', 'protocol', 'startup_delay', [True,False], 'Startup delay [s]', 'Initial quality:', 'startup-delay-by-initial-quality-and-proto', [0.1,1])"
   ]
  },
  {
   "cell_type": "code",
   "execution_count": null,
   "metadata": {},
   "outputs": [],
   "source": [
    "draw_cdf_grid(df_player_quality_change_event_to_opt, 'optimal_res', 'protocol', 'optimal_quality_delay', [True,False], 'Delay to optimal quality change event [s]', 'Optimal quality:', 'optimal-quality-delay-by-optimal-quality-and-proto', [0,0])"
   ]
  },
  {
   "cell_type": "code",
   "execution_count": null,
   "metadata": {},
   "outputs": [],
   "source": [
    "draw_cdf(df_player_quality_change_event_to_opt, 'optimal_res', 'protocol', 'optimal_quality_delay', [True,False], 'Delay to optimal quality change event [s]', 'Optimal quality:', 'optimal-quality-delay-by-optimal-quality-and-proto', [0,0])"
   ]
  },
  {
   "cell_type": "code",
   "execution_count": null,
   "metadata": {},
   "outputs": [],
   "source": [
    "def draw_boxplot_grid(df_, col_outer_groupby_, col_name_, col_metric_, log_list, xlabel, title, figname, xlim, ylabel):\n",
    "    proto_order=['DoQ', 'DoH', 'DoT', 'DoTCP', 'DoUDP']\n",
    "    if col_name_ == 'protocol':\n",
    "        y_order = proto_order\n",
    "    else:\n",
    "        y_order = sorted(df_[col_name_].unique().tolist())\n",
    "    with plt.style.context('seaborn-whitegrid'):\n",
    "        for vp in df_['vantagePoint'].unique():\n",
    "            print(vp)\n",
    "            for video in df_['domain'].unique():\n",
    "                for log in log_list:\n",
    "                    num_rows = math.ceil(df_[col_outer_groupby_].nunique()/2)\n",
    "                    if df_[col_outer_groupby_].nunique() > 1:\n",
    "                        fig, axs = plt.subplots(num_rows, 2, sharex='all', figsize=(12,6*num_rows))#, sharey='all')\n",
    "                        fig.subplots_adjust(hspace=.2, wspace=.3)\n",
    "                        for col_grp_, ax in zip(df_[col_outer_groupby_].sort_values().unique(), axs.flat):\n",
    "                        #for col_grp_ in df_[col_outer_groupby_].sort_values().unique():\n",
    "                            lnwidth = .5\n",
    "                            mrksize = 3\n",
    "                            df_tmp = df_[(df_[col_outer_groupby_]==col_grp_)&(df_['vantagePoint'] == vp) & (df_['domain'] == video)]\n",
    "                            #hue=\n",
    "                            \n",
    "                            boxplt = sns.boxplot(x=col_metric_, y=col_name_ , data=df_tmp, orient='h', linewidth=1, ax=ax, \n",
    "                            showfliers=True, order=y_order,\n",
    "                            color='white',\n",
    "                            meanline = True, showmeans = True, meanprops=dict(color='darkgoldenrod'), medianprops=dict(color='blue'))\n",
    "                            sw = sns.swarmplot(x=col_metric_, y=col_name_, data=df_tmp, color=\".25\", ax=ax, orient='h', size=1.5, order=y_order)\n",
    "                            \n",
    "                            if log:\n",
    "                                ax.set_xscale('log')\n",
    "                            \n",
    "                            \n",
    "                            ax.xaxis.set_major_formatter(ticker.StrMethodFormatter(\"{x:g}\"))\n",
    "                            ax.xaxis.set_minor_formatter(ticker.StrMethodFormatter(\"{x:g}\"))\n",
    "                            ax.tick_params(axis='x', which='minor', labelsize=6)\n",
    "                            ax.xaxis.set_tick_params(labelbottom=True, which='both')\n",
    "\n",
    "\n",
    "                            ax.set_title(title+ ' ' + col_grp_ + ' ' + video)\n",
    "\n",
    "                            ax.set_xlabel(xlabel)\n",
    "\n",
    "                            ax.set_ylabel(ylabel)\n",
    "                            if xlim != [0,0]:\n",
    "                                ax.set_xlim(xlim)\n",
    "\n",
    "                            ax.yaxis.set_minor_locator(ticker.MultipleLocator(0.5))\n",
    "                            ax.grid(b=True, which='both')\n",
    "\n",
    "\n",
    "                        if log:\n",
    "                            fig.savefig('figures/boxplot-'+figname+'-grid-'+video+vp+'-log.pdf', format='pdf', bbox_inches='tight')\n",
    "                        else:\n",
    "                            fig.savefig('figures/boxplot-'+figname+'-grid-'+video+vp+'.pdf', format='pdf', bbox_inches='tight')\n",
    "                        plt.show()"
   ]
  },
  {
   "cell_type": "code",
   "execution_count": null,
   "metadata": {},
   "outputs": [],
   "source": [
    "def draw_boxplot(df_, col_outer_groupby_, col_name_, col_metric_, log_list, xlabel, title, figname, xlim, ylabel):\n",
    "    proto_order=['DoQ', 'DoH', 'DoT', 'DoTCP', 'DoUDP']\n",
    "    if col_name_ == 'protocol':\n",
    "        y_order = proto_order\n",
    "    else:\n",
    "        y_order = sorted(df_[col_name_].unique().tolist())\n",
    "    with plt.style.context('seaborn-whitegrid'):\n",
    "        for vp in df_['vantagePoint'].unique():\n",
    "            print(vp)\n",
    "            for video in df_['domain'].unique():\n",
    "                for log in log_list:\n",
    "                    for col_grp_ in df_[col_outer_groupby_].sort_values().unique():\n",
    "                        lnwidth = .5\n",
    "                        mrksize = 3\n",
    "                        df_tmp = df_[(df_[col_outer_groupby_]==col_grp_)&(df_['vantagePoint'] == vp) & (df_['domain'] == video)]\n",
    "                        fig, ax = plt.subplots(figsize=(6,8))\n",
    "                        #hue=\n",
    "                        boxplt = sns.boxplot(x=col_metric_, y=col_name_ , data=df_tmp, orient='h', linewidth=1, ax=ax, \n",
    "                        showfliers=True, order=y_order,\n",
    "                        color='white',\n",
    "                        meanline = True, showmeans = True, meanprops=dict(color='darkgoldenrod'), medianprops=dict(color='blue'))\n",
    "                        sw = sns.swarmplot(x=col_metric_, y=col_name_, data=df_tmp, color=\".25\", ax=ax, orient='h', size=1.5, order=y_order)\n",
    "                        \n",
    "                        if log:\n",
    "                            ax.set_xscale('log')\n",
    "                        \n",
    "                        \n",
    "                        ax.xaxis.set_major_formatter(ticker.StrMethodFormatter(\"{x:g}\"))\n",
    "                        #ax.xaxis.set_minor_formatter(ticker.StrMethodFormatter(\"{x:g}\"))\n",
    "\n",
    "\n",
    "                        ax.set_title(title+ ' ' + col_grp_ + ' ' + video)\n",
    "\n",
    "                        ax.set_xlabel(xlabel)\n",
    "\n",
    "                        ax.set_ylabel(ylabel)\n",
    "                        if xlim != [0,0]:\n",
    "                            ax.set_xlim(xlim)\n",
    "\n",
    "                        ax.yaxis.set_minor_locator(ticker.MultipleLocator(0.5))\n",
    "                        ax.grid(b=True, which='both')\n",
    "\n",
    "\n",
    "                        if log:\n",
    "                            fig.savefig('figures/boxplot-'+figname+col_grp_+video+vp+'-log.pdf', format='pdf', bbox_inches='tight')\n",
    "                        else:\n",
    "                            fig.savefig('figures/boxplot-'+figname+col_grp_+video+vp+'.pdf', format='pdf', bbox_inches='tight')\n",
    "                        plt.show()"
   ]
  },
  {
   "cell_type": "code",
   "execution_count": null,
   "metadata": {},
   "outputs": [],
   "source": [
    "draw_boxplot_grid(df_stall_times, 'player_dimensions', 'protocol', 'stall_time', [True,False], 'Stall duration [s]', 'Player Size:', 'stall-durations-by-player-size-and-proto', [0,0], \"DNS protocol\")"
   ]
  },
  {
   "cell_type": "code",
   "execution_count": null,
   "metadata": {},
   "outputs": [],
   "source": [
    "draw_boxplot(df_stall_times, 'player_dimensions', 'protocol', 'stall_time', [False], 'Stall duration [s]', 'Player Size:', 'stall-durations-by-player-size-and-proto', [0,0], \"DNS protocol\")"
   ]
  },
  {
   "cell_type": "code",
   "execution_count": null,
   "metadata": {},
   "outputs": [],
   "source": [
    "draw_boxplot_grid(df_buffering_events_time, 'player_dimensions', 'protocol', 'curr_play_time', [True, False], 'Playback time when player stalled [s]', 'Player Size:', 'buffer-events-by-player-size-and-proto', [0,0], \"DNS protocol\")"
   ]
  },
  {
   "cell_type": "code",
   "execution_count": null,
   "metadata": {},
   "outputs": [],
   "source": [
    "draw_boxplot(df_buffering_events_time, 'player_dimensions', 'protocol', 'curr_play_time', [False], 'Playback time when player stalled [s]', 'Player Size:', 'buffer-events-by-player-size-and-proto', [0,0], \"DNS protocol\")"
   ]
  },
  {
   "cell_type": "code",
   "execution_count": null,
   "metadata": {},
   "outputs": [],
   "source": [
    "draw_boxplot_grid(df_start_time, 'player_dimensions', 'protocol', 'startup_delay', [True, False], 'Startup delay [s]', 'Player Size:', 'startup-delay-by-player-size-and-proto', [0,0], \"DNS protocol\")"
   ]
  },
  {
   "cell_type": "code",
   "execution_count": null,
   "metadata": {},
   "outputs": [],
   "source": [
    "draw_boxplot(df_start_time, 'player_dimensions', 'protocol', 'startup_delay', [False], 'Startup delay [s]', 'Player Size:', 'startup-delay-by-player-size-and-proto', [0,0], \"DNS protocol\")"
   ]
  },
  {
   "cell_type": "code",
   "execution_count": null,
   "metadata": {},
   "outputs": [],
   "source": [
    "draw_boxplot_grid(df_start_time, 'true_initial_quality', 'protocol', 'startup_delay', [True, False], 'Startup delay [s]', 'Initial quality:', 'startup-delay-by-initial-quality-and-proto', [0,0], \"DNS protocol\")\n"
   ]
  },
  {
   "cell_type": "code",
   "execution_count": null,
   "metadata": {},
   "outputs": [],
   "source": [
    "draw_boxplot(df_start_time, 'true_initial_quality', 'protocol', 'startup_delay', [False], 'Startup delay [s]', 'Initial quality:', 'startup-delay-by-initial-quality-and-proto', [0,0], \"DNS protocol\")\n"
   ]
  },
  {
   "cell_type": "code",
   "execution_count": null,
   "metadata": {},
   "outputs": [],
   "source": [
    "draw_boxplot_grid(df_player_quality_change_event_to_opt, 'optimal_res', 'protocol', 'optimal_quality_delay', [True, False], 'Delay to optimal quality change event [s]', 'Optimal quality:', 'optimal-quality-delay-by-optimal-quality-and-proto', [0,0], \"DNS protocol\")"
   ]
  },
  {
   "cell_type": "code",
   "execution_count": null,
   "metadata": {},
   "outputs": [],
   "source": [
    "draw_boxplot(df_player_quality_change_event_to_opt, 'optimal_res', 'protocol', 'optimal_quality_delay', [True], 'Delay to optimal quality change event [s]', 'Optimal quality:', 'optimal-quality-delay-by-optimal-quality-and-proto', [0,0], \"DNS protocol\")"
   ]
  },
  {
   "cell_type": "code",
   "execution_count": null,
   "metadata": {},
   "outputs": [],
   "source": [
    "conn.close()"
   ]
  },
  {
   "cell_type": "code",
   "execution_count": null,
   "metadata": {},
   "outputs": [],
   "source": []
  }
 ],
 "metadata": {
  "interpreter": {
   "hash": "082e9a3bcad0a290d0001e938aa60b99250c6c2ef33a923c00b70f9826caf4b7"
  },
  "kernelspec": {
   "display_name": "Python 3.8.10 64-bit",
   "language": "python",
   "name": "python3"
  },
  "language_info": {
   "codemirror_mode": {
    "name": "ipython",
    "version": 3
   },
   "file_extension": ".py",
   "mimetype": "text/x-python",
   "name": "python",
   "nbconvert_exporter": "python",
   "pygments_lexer": "ipython3",
   "version": "3.8.10"
  },
  "orig_nbformat": 4
 },
 "nbformat": 4,
 "nbformat_minor": 2
}
