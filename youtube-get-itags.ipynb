{
 "cells": [
  {
   "cell_type": "code",
   "execution_count": 11,
   "metadata": {},
   "outputs": [],
   "source": [
    "import selenium.common.exceptions\n",
    "from selenium import webdriver\n",
    "from selenium.webdriver.chrome.options import Options as chromeOptions\n",
    "from selenium.webdriver.chrome.service import Service\n",
    "from selenium.webdriver.common.by import By\n",
    "from selenium.webdriver.support.ui import WebDriverWait\n",
    "from selenium.webdriver.support import expected_conditions as EC\n",
    "import sys\n",
    "import sqlite3\n",
    "from datetime import datetime\n",
    "from urllib import parse\n",
    "import time\n",
    "from pytube import itags"
   ]
  },
  {
   "cell_type": "code",
   "execution_count": 2,
   "metadata": {},
   "outputs": [],
   "source": [
    "def create_driver():\n",
    "    chrome_options = chromeOptions()\n",
    "    chrome_options.add_argument(\"--no-sandbox\")\n",
    "    chrome_options.add_argument('--headless')\n",
    "    chrome_options.add_argument(\"--disable-dev-shm-usage\")\n",
    "    chrome_options.add_argument(\"--autoplay-policy=no-user-gesture-required\")\n",
    "    return webdriver.Chrome(options=chrome_options)"
   ]
  },
  {
   "cell_type": "code",
   "execution_count": 4,
   "metadata": {},
   "outputs": [],
   "source": [
    "pages = [\"aqz-KE-bpKQ\", \"lqiN98z6Dak\", \"RJnKaAtBPhA\"]"
   ]
  },
  {
   "cell_type": "code",
   "execution_count": 16,
   "metadata": {},
   "outputs": [],
   "source": [
    "def run_driver(page):\n",
    "    driver = create_driver()\n",
    "    time_now = time.time()\n",
    "    driver.set_page_load_timeout(30)\n",
    "    driver.get(\"https://www.youtube.com/watch?v=\"+page)\n",
    "    while driver.execute_script(\"return document.readyState;\") != \"complete\":\n",
    "        time.sleep(1)\n",
    "    wait = WebDriverWait(driver, 10000)\n",
    "    youtube_player = wait.until(EC.visibility_of_element_located((By.ID, \"player\")))\n",
    "    time.sleep(1)\n",
    "    script = driver.find_element(By.XPATH, \"//script\")\n",
    "    print(script.get_attribute('innerHTML'))\n",
    "    print(driver.execute_script(\"return ytInitialData;\").keys())\n",
    "\n",
    "    driver.quit()"
   ]
  },
  {
   "cell_type": "code",
   "execution_count": null,
   "metadata": {},
   "outputs": [],
   "source": []
  },
  {
   "cell_type": "code",
   "execution_count": 17,
   "metadata": {},
   "outputs": [
    {
     "name": "stdout",
     "output_type": "stream",
     "text": [
      "\n",
      "dict_keys(['contents', 'currentVideoEndpoint', 'frameworkUpdates', 'onResponseReceivedEndpoints', 'playerOverlays', 'responseContext', 'topbar', 'trackingParams'])\n"
     ]
    }
   ],
   "source": [
    "run_driver(pages[0])"
   ]
  },
  {
   "cell_type": "code",
   "execution_count": 13,
   "metadata": {},
   "outputs": [
    {
     "data": {
      "text/plain": [
       "{'resolution': '720p',\n",
       " 'abr': None,\n",
       " 'is_live': False,\n",
       " 'is_3d': False,\n",
       " 'is_hdr': False,\n",
       " 'is_dash': True}"
      ]
     },
     "execution_count": 13,
     "metadata": {},
     "output_type": "execute_result"
    }
   ],
   "source": [
    "itags.get_format_profile(398)"
   ]
  },
  {
   "cell_type": "code",
   "execution_count": null,
   "metadata": {},
   "outputs": [],
   "source": []
  }
 ],
 "metadata": {
  "interpreter": {
   "hash": "082e9a3bcad0a290d0001e938aa60b99250c6c2ef33a923c00b70f9826caf4b7"
  },
  "kernelspec": {
   "display_name": "Python 3.8.10 64-bit",
   "language": "python",
   "name": "python3"
  },
  "language_info": {
   "codemirror_mode": {
    "name": "ipython",
    "version": 3
   },
   "file_extension": ".py",
   "mimetype": "text/x-python",
   "name": "python",
   "nbconvert_exporter": "python",
   "pygments_lexer": "ipython3",
   "version": "3.8.10"
  },
  "orig_nbformat": 4
 },
 "nbformat": 4,
 "nbformat_minor": 2
}
